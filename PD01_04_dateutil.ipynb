{
 "cells": [
  {
   "cell_type": "markdown",
   "id": "6c201c44",
   "metadata": {},
   "source": [
    "**dateutil module**"
   ]
  },
  {
   "cell_type": "code",
   "execution_count": 1,
   "id": "56d31105",
   "metadata": {},
   "outputs": [],
   "source": [
    "import dateutil\n",
    "import datetime as dt"
   ]
  },
  {
   "cell_type": "code",
   "execution_count": 2,
   "id": "30c22233",
   "metadata": {},
   "outputs": [
    {
     "data": {
      "text/plain": [
       "datetime.datetime(2022, 2, 8, 12, 3, 21, 815600)"
      ]
     },
     "execution_count": 2,
     "metadata": {},
     "output_type": "execute_result"
    }
   ],
   "source": [
    "dat1 = dt.datetime.now()\n",
    "dat1"
   ]
  },
  {
   "cell_type": "markdown",
   "id": "4bbd058f",
   "metadata": {},
   "source": [
    "**relativedelta**"
   ]
  },
  {
   "cell_type": "code",
   "execution_count": 3,
   "id": "11b429b6",
   "metadata": {
    "scrolled": true
   },
   "outputs": [
    {
     "data": {
      "text/plain": [
       "datetime.datetime(2022, 3, 15, 9, 3, 21, 815600)"
      ]
     },
     "execution_count": 3,
     "metadata": {},
     "output_type": "execute_result"
    }
   ],
   "source": [
    "# dateutil relativedelta example\n",
    "dat1 + dateutil.relativedelta.relativedelta(months=+1, weeks = +1, hour = 9)"
   ]
  },
  {
   "cell_type": "code",
   "execution_count": 4,
   "id": "9e351632",
   "metadata": {},
   "outputs": [
    {
     "data": {
      "text/plain": [
       "datetime.datetime(2020, 1, 8, 12, 3, 21, 815600)"
      ]
     },
     "execution_count": 4,
     "metadata": {},
     "output_type": "execute_result"
    }
   ],
   "source": [
    "# replace values (singular keywords)\n",
    "dat1 + dateutil.relativedelta.relativedelta(year = 2020, month = 1)"
   ]
  },
  {
   "cell_type": "markdown",
   "id": "c5af2b59",
   "metadata": {},
   "source": [
    "**dateutil offers a generic date/time string<br>\n",
    "parser which is able to parse most known formats<br>\n",
    "to represent a date and/or time.**"
   ]
  },
  {
   "cell_type": "code",
   "execution_count": 5,
   "id": "14a8134b",
   "metadata": {},
   "outputs": [
    {
     "data": {
      "text/plain": [
       "datetime.datetime(2022, 12, 27, 10, 36, 28)"
      ]
     },
     "execution_count": 5,
     "metadata": {},
     "output_type": "execute_result"
    }
   ],
   "source": [
    "# parse example\n",
    "dateutil.parser.parse('Mon Dec 27 10:36:28')"
   ]
  },
  {
   "cell_type": "code",
   "execution_count": 6,
   "id": "adbaa928",
   "metadata": {},
   "outputs": [
    {
     "data": {
      "text/plain": [
       "datetime.datetime(2021, 12, 27, 10, 49, 41, 500000, tzinfo=tzoffset(None, -10800))"
      ]
     },
     "execution_count": 6,
     "metadata": {},
     "output_type": "execute_result"
    }
   ],
   "source": [
    "dateutil.parser.parse(\"2021-12-27T10:49:41.5-03:00\")"
   ]
  },
  {
   "cell_type": "markdown",
   "id": "196b220d",
   "metadata": {},
   "source": [
    "**Handling timezones with dateutil module**"
   ]
  },
  {
   "cell_type": "code",
   "execution_count": 7,
   "id": "fb4ee234",
   "metadata": {},
   "outputs": [
    {
     "data": {
      "text/plain": [
       "datetime.datetime(2022, 2, 8, 12, 3, 21, 921626, tzinfo=tzutc())"
      ]
     },
     "execution_count": 7,
     "metadata": {},
     "output_type": "execute_result"
    }
   ],
   "source": [
    "# dateutil tzutc example\n",
    "# This is a tzinfo object that represents the UTC time zone\n",
    "dat2 = dt.datetime.now(dateutil.tz.UTC)\n",
    "dat2"
   ]
  },
  {
   "cell_type": "code",
   "execution_count": 8,
   "id": "d15936d3",
   "metadata": {},
   "outputs": [
    {
     "data": {
      "text/plain": [
       "'UTC'"
      ]
     },
     "execution_count": 8,
     "metadata": {},
     "output_type": "execute_result"
    }
   ],
   "source": [
    "dat2.tzname()"
   ]
  },
  {
   "cell_type": "code",
   "execution_count": 9,
   "id": "c45990ad",
   "metadata": {},
   "outputs": [
    {
     "data": {
      "text/plain": [
       "datetime.datetime(2022, 2, 8, 9, 3, 21, 952166, tzinfo=tzoffset('BRST', -10800))"
      ]
     },
     "execution_count": 9,
     "metadata": {},
     "output_type": "execute_result"
    }
   ],
   "source": [
    "# dateutil tzoffset example\n",
    "# A simple class for representing a fixed offset from UTC.\n",
    "dt.datetime.now(dateutil.tz.tzoffset(\"BRST\", -10800))"
   ]
  },
  {
   "cell_type": "code",
   "execution_count": 10,
   "id": "df5451b8",
   "metadata": {},
   "outputs": [
    {
     "data": {
      "text/plain": [
       "datetime.datetime(2022, 2, 8, 12, 3, 21, 969137, tzinfo=tzlocal())"
      ]
     },
     "execution_count": 10,
     "metadata": {},
     "output_type": "execute_result"
    }
   ],
   "source": [
    "# dateutil tzlocal example\n",
    "dat3 = dt.datetime.now(tz=dateutil.tz.tzlocal())\n",
    "dat3"
   ]
  },
  {
   "cell_type": "code",
   "execution_count": 11,
   "id": "c93d52d6",
   "metadata": {},
   "outputs": [
    {
     "data": {
      "text/plain": [
       "'GMT Standard Time'"
      ]
     },
     "execution_count": 11,
     "metadata": {},
     "output_type": "execute_result"
    }
   ],
   "source": [
    "dat3.tzname()"
   ]
  },
  {
   "cell_type": "code",
   "execution_count": 12,
   "id": "00cc4c89",
   "metadata": {},
   "outputs": [],
   "source": [
    "# dateutil gettz example\n",
    "lisbon_tz = dateutil.tz.gettz('Europe/Lisbon')"
   ]
  },
  {
   "cell_type": "code",
   "execution_count": 13,
   "id": "21416a1c",
   "metadata": {},
   "outputs": [
    {
     "data": {
      "text/plain": [
       "datetime.datetime(2022, 2, 8, 12, 3, 22, 139281, tzinfo=tzfile('Europe/Lisbon'))"
      ]
     },
     "execution_count": 13,
     "metadata": {},
     "output_type": "execute_result"
    }
   ],
   "source": [
    "dat4 = dt.datetime.now(tz=lisbon_tz)\n",
    "dat4"
   ]
  },
  {
   "cell_type": "code",
   "execution_count": 14,
   "id": "f3b037e7",
   "metadata": {
    "scrolled": true
   },
   "outputs": [
    {
     "data": {
      "text/plain": [
       "'WET'"
      ]
     },
     "execution_count": 14,
     "metadata": {},
     "output_type": "execute_result"
    }
   ],
   "source": [
    "dat4.tzname()"
   ]
  },
  {
   "cell_type": "code",
   "execution_count": 15,
   "id": "0b64d601",
   "metadata": {},
   "outputs": [
    {
     "data": {
      "text/plain": [
       "datetime.datetime(2021, 9, 20, 11, 0, tzinfo=tzfile('Europe/Lisbon'))"
      ]
     },
     "execution_count": 15,
     "metadata": {},
     "output_type": "execute_result"
    }
   ],
   "source": [
    "# 20/9/2021 at hour 11 in Lisbon timezone \n",
    "dat5 = dt.datetime(2021, 9, 20, 11, 0, 0, \n",
    "                   tzinfo=dateutil.tz.gettz('Europe/Lisbon'))\n",
    "dat5"
   ]
  },
  {
   "cell_type": "code",
   "execution_count": 16,
   "id": "d74b2927",
   "metadata": {},
   "outputs": [
    {
     "data": {
      "text/plain": [
       "datetime.datetime(2021, 9, 20, 10, 0, tzinfo=tzutc())"
      ]
     },
     "execution_count": 16,
     "metadata": {},
     "output_type": "execute_result"
    }
   ],
   "source": [
    "# 20/9/2021 at hour 10 in UTC\n",
    "dat6 = dt.datetime(2021, 9, 20, 10, 0, 0, tzinfo=dateutil.tz.UTC)\n",
    "dat6"
   ]
  },
  {
   "cell_type": "code",
   "execution_count": 17,
   "id": "d6c68449",
   "metadata": {},
   "outputs": [
    {
     "data": {
      "text/plain": [
       "True"
      ]
     },
     "execution_count": 17,
     "metadata": {},
     "output_type": "execute_result"
    }
   ],
   "source": [
    "# Two dates are equal because Lisbon has a +1 hour dst\n",
    "dat5 == dat6 "
   ]
  },
  {
   "cell_type": "code",
   "execution_count": 18,
   "id": "585732f2",
   "metadata": {},
   "outputs": [
    {
     "data": {
      "text/plain": [
       "'WEST'"
      ]
     },
     "execution_count": 18,
     "metadata": {},
     "output_type": "execute_result"
    }
   ],
   "source": [
    "# In September Portugal timezone was WEST:\n",
    "# Western European Summer Time\n",
    "dat5.tzname()"
   ]
  },
  {
   "cell_type": "code",
   "execution_count": 19,
   "id": "cd4c9cc6",
   "metadata": {},
   "outputs": [
    {
     "data": {
      "text/plain": [
       "datetime.timedelta(seconds=3600)"
      ]
     },
     "execution_count": 19,
     "metadata": {},
     "output_type": "execute_result"
    }
   ],
   "source": [
    "# In September Portugal had a +1 hour dst:\n",
    "# Daylight Saving Time\n",
    "dat5.dst()"
   ]
  },
  {
   "cell_type": "code",
   "execution_count": 20,
   "id": "22a3c884",
   "metadata": {
    "scrolled": true
   },
   "outputs": [
    {
     "data": {
      "text/plain": [
       "tzfile('Europe/Lisbon')"
      ]
     },
     "execution_count": 20,
     "metadata": {},
     "output_type": "execute_result"
    }
   ],
   "source": [
    "dat5.tzinfo"
   ]
  }
 ],
 "metadata": {
  "kernelspec": {
   "display_name": "Python 3 (ipykernel)",
   "language": "python",
   "name": "python3"
  },
  "language_info": {
   "codemirror_mode": {
    "name": "ipython",
    "version": 3
   },
   "file_extension": ".py",
   "mimetype": "text/x-python",
   "name": "python",
   "nbconvert_exporter": "python",
   "pygments_lexer": "ipython3",
   "version": "3.8.11"
  }
 },
 "nbformat": 4,
 "nbformat_minor": 5
}
