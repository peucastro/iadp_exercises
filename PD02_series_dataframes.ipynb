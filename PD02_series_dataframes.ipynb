{
 "cells": [
  {
   "cell_type": "markdown",
   "id": "6975d0c7",
   "metadata": {},
   "source": [
    "**Import NumPy and Pandas modules**"
   ]
  },
  {
   "cell_type": "code",
   "execution_count": 1,
   "id": "c614ce23",
   "metadata": {},
   "outputs": [],
   "source": [
    "import numpy as np\n",
    "import pandas as pd"
   ]
  },
  {
   "cell_type": "markdown",
   "id": "3aa5d2d9",
   "metadata": {},
   "source": [
    "**Creates a Series from a Python list.<br>If no index is passed one will be created by default** "
   ]
  },
  {
   "cell_type": "code",
   "execution_count": 2,
   "id": "470ea755",
   "metadata": {
    "scrolled": true
   },
   "outputs": [
    {
     "data": {
      "text/plain": [
       "0    antonio\n",
       "1      joana\n",
       "2     carlos\n",
       "3    barbara\n",
       "dtype: object"
      ]
     },
     "execution_count": 2,
     "metadata": {},
     "output_type": "execute_result"
    }
   ],
   "source": [
    "s1 = pd.Series(['antonio','joana','carlos','barbara'])\n",
    "s1"
   ]
  },
  {
   "cell_type": "code",
   "execution_count": 3,
   "id": "5b7d30f2",
   "metadata": {},
   "outputs": [
    {
     "data": {
      "text/plain": [
       "RangeIndex(start=0, stop=4, step=1)"
      ]
     },
     "execution_count": 3,
     "metadata": {},
     "output_type": "execute_result"
    }
   ],
   "source": [
    "s1.index"
   ]
  },
  {
   "cell_type": "markdown",
   "id": "9d40fb72",
   "metadata": {},
   "source": [
    "**Creates a Series from an ndarray using NumPy randn function<br>\n",
    "(samples from a standard normal distribution)**"
   ]
  },
  {
   "cell_type": "code",
   "execution_count": 4,
   "id": "ef184405",
   "metadata": {},
   "outputs": [
    {
     "data": {
      "text/plain": [
       "a    0.262677\n",
       "b   -0.319322\n",
       "c   -0.438925\n",
       "d    1.436380\n",
       "dtype: float64"
      ]
     },
     "execution_count": 4,
     "metadata": {},
     "output_type": "execute_result"
    }
   ],
   "source": [
    "s2 = pd.Series(np.random.randn(4), index = [\"a\",\"b\",\"c\",\"d\"])\n",
    "s2"
   ]
  },
  {
   "cell_type": "code",
   "execution_count": 5,
   "id": "5eedbbba",
   "metadata": {},
   "outputs": [
    {
     "data": {
      "text/plain": [
       "Index(['a', 'b', 'c', 'd'], dtype='object')"
      ]
     },
     "execution_count": 5,
     "metadata": {},
     "output_type": "execute_result"
    }
   ],
   "source": [
    "s2 = pd.Series({'a':1.558118,'b':0.276449,'c':0.406288,'d':-1.285551})\n",
    "s2.index"
   ]
  },
  {
   "cell_type": "markdown",
   "id": "cd12524f",
   "metadata": {},
   "source": [
    "**Creates a Series from a dict.<br>\n",
    "If no index is passed dict keys will be the index**"
   ]
  },
  {
   "cell_type": "code",
   "execution_count": 6,
   "id": "1fdb8def",
   "metadata": {},
   "outputs": [
    {
     "data": {
      "text/plain": [
       "b    20\n",
       "a    30\n",
       "c    15\n",
       "dtype: int64"
      ]
     },
     "execution_count": 6,
     "metadata": {},
     "output_type": "execute_result"
    }
   ],
   "source": [
    "s3 = pd.Series({'b':20, 'a':30, 'c':15})\n",
    "s3"
   ]
  },
  {
   "cell_type": "markdown",
   "id": "bb5ee437",
   "metadata": {},
   "source": [
    "**Pandas alligns the values by the indexes.<br>\n",
    "It uses NumPy np.nan (Not a Number) if there is no value.**"
   ]
  },
  {
   "cell_type": "code",
   "execution_count": 7,
   "id": "98b92272",
   "metadata": {},
   "outputs": [
    {
     "data": {
      "text/plain": [
       "b    20.0\n",
       "c    30.0\n",
       "d     NaN\n",
       "a    10.0\n",
       "dtype: float64"
      ]
     },
     "execution_count": 7,
     "metadata": {},
     "output_type": "execute_result"
    }
   ],
   "source": [
    "d = {'a':10,'b':20,'c':30}\n",
    "s4 = pd.Series(d, index=['b','c','d','a'])\n",
    "s4"
   ]
  },
  {
   "cell_type": "markdown",
   "id": "168404ae",
   "metadata": {},
   "source": [
    "**Creates a Series from a scalar value**"
   ]
  },
  {
   "cell_type": "code",
   "execution_count": 8,
   "id": "a8dd601f",
   "metadata": {},
   "outputs": [
    {
     "data": {
      "text/plain": [
       "a    5\n",
       "b    5\n",
       "c    5\n",
       "dtype: int64"
      ]
     },
     "execution_count": 8,
     "metadata": {},
     "output_type": "execute_result"
    }
   ],
   "source": [
    "s5 = pd.Series(5, index = ['a','b','c'])\n",
    "s5"
   ]
  },
  {
   "cell_type": "markdown",
   "id": "0fc800d9",
   "metadata": {},
   "source": [
    "**A Series element can be accessed as in a ndarray**"
   ]
  },
  {
   "cell_type": "code",
   "execution_count": 9,
   "id": "28cc0a45",
   "metadata": {},
   "outputs": [
    {
     "data": {
      "text/plain": [
       "1.558118"
      ]
     },
     "execution_count": 9,
     "metadata": {},
     "output_type": "execute_result"
    }
   ],
   "source": [
    "s2[0]"
   ]
  },
  {
   "cell_type": "markdown",
   "id": "c9e1b106",
   "metadata": {},
   "source": [
    "**Slicing can be used but includes the index**"
   ]
  },
  {
   "cell_type": "code",
   "execution_count": 10,
   "id": "3dbe3be2",
   "metadata": {},
   "outputs": [
    {
     "data": {
      "text/plain": [
       "a    1.558118\n",
       "b    0.276449\n",
       "c    0.406288\n",
       "dtype: float64"
      ]
     },
     "execution_count": 10,
     "metadata": {},
     "output_type": "execute_result"
    }
   ],
   "source": [
    "s2[:3]"
   ]
  },
  {
   "cell_type": "markdown",
   "id": "d5a4dd3d",
   "metadata": {},
   "source": [
    "**A list of boolean can be used to access the values**"
   ]
  },
  {
   "cell_type": "code",
   "execution_count": 11,
   "id": "ba274f9c",
   "metadata": {},
   "outputs": [
    {
     "data": {
      "text/plain": [
       "a    1.558118\n",
       "b    0.276449\n",
       "c    0.406288\n",
       "dtype: float64"
      ]
     },
     "execution_count": 11,
     "metadata": {},
     "output_type": "execute_result"
    }
   ],
   "source": [
    "s2[s2 > s2.mean()]"
   ]
  },
  {
   "cell_type": "markdown",
   "id": "05b8b765",
   "metadata": {},
   "source": [
    "**A list of numeric indexes can be used to access the values**"
   ]
  },
  {
   "cell_type": "code",
   "execution_count": 12,
   "id": "f54d6cb2",
   "metadata": {},
   "outputs": [
    {
     "data": {
      "text/plain": [
       "d   -1.285551\n",
       "a    1.558118\n",
       "b    0.276449\n",
       "dtype: float64"
      ]
     },
     "execution_count": 12,
     "metadata": {},
     "output_type": "execute_result"
    }
   ],
   "source": [
    "s2[[3,0,1]]"
   ]
  },
  {
   "cell_type": "markdown",
   "id": "3a4c6f17",
   "metadata": {},
   "source": [
    "**Series can be used with most NumPy functions**"
   ]
  },
  {
   "cell_type": "code",
   "execution_count": 13,
   "id": "7ee453dd",
   "metadata": {},
   "outputs": [
    {
     "data": {
      "text/plain": [
       "a    4.749874\n",
       "b    1.318440\n",
       "c    1.501235\n",
       "d    0.276498\n",
       "dtype: float64"
      ]
     },
     "execution_count": 13,
     "metadata": {},
     "output_type": "execute_result"
    }
   ],
   "source": [
    "np.exp(s2)"
   ]
  },
  {
   "cell_type": "markdown",
   "id": "7dca0c69",
   "metadata": {},
   "source": [
    "**Series has a dtype like a ndarray**"
   ]
  },
  {
   "cell_type": "code",
   "execution_count": 14,
   "id": "c083657f",
   "metadata": {},
   "outputs": [
    {
     "data": {
      "text/plain": [
       "dtype('float64')"
      ]
     },
     "execution_count": 14,
     "metadata": {},
     "output_type": "execute_result"
    }
   ],
   "source": [
    "s2.dtype"
   ]
  },
  {
   "cell_type": "markdown",
   "id": "00444a26",
   "metadata": {},
   "source": [
    "**A Pandas array can be obtained without index**"
   ]
  },
  {
   "cell_type": "code",
   "execution_count": 15,
   "id": "2a447962",
   "metadata": {},
   "outputs": [
    {
     "data": {
      "text/plain": [
       "<PandasArray>\n",
       "[1.558118, 0.276449, 0.406288, -1.285551]\n",
       "Length: 4, dtype: float64"
      ]
     },
     "execution_count": 15,
     "metadata": {},
     "output_type": "execute_result"
    }
   ],
   "source": [
    "s2.array"
   ]
  },
  {
   "cell_type": "markdown",
   "id": "e91fea75",
   "metadata": {},
   "source": [
    "**A Series can be converted to a NumPy array**"
   ]
  },
  {
   "cell_type": "code",
   "execution_count": 16,
   "id": "2bb800a7",
   "metadata": {},
   "outputs": [
    {
     "data": {
      "text/plain": [
       "array([ 1.558118,  0.276449,  0.406288, -1.285551])"
      ]
     },
     "execution_count": 16,
     "metadata": {},
     "output_type": "execute_result"
    }
   ],
   "source": [
    "s2.to_numpy()"
   ]
  },
  {
   "cell_type": "markdown",
   "id": "f858d7d2",
   "metadata": {},
   "source": [
    "**Series is like a fixed-size dict in that<br>\n",
    "you can access the values by index label**"
   ]
  },
  {
   "cell_type": "code",
   "execution_count": 17,
   "id": "f5ba533f",
   "metadata": {
    "scrolled": true
   },
   "outputs": [
    {
     "data": {
      "text/plain": [
       "1.558118"
      ]
     },
     "execution_count": 17,
     "metadata": {},
     "output_type": "execute_result"
    }
   ],
   "source": [
    "s2[\"a\"]"
   ]
  },
  {
   "cell_type": "code",
   "execution_count": 18,
   "id": "4aa420b4",
   "metadata": {},
   "outputs": [],
   "source": [
    "s2[\"b\"] = 20"
   ]
  },
  {
   "cell_type": "code",
   "execution_count": 19,
   "id": "cbd11c0f",
   "metadata": {},
   "outputs": [
    {
     "data": {
      "text/plain": [
       "a     1.558118\n",
       "b    20.000000\n",
       "c     0.406288\n",
       "d    -1.285551\n",
       "dtype: float64"
      ]
     },
     "execution_count": 19,
     "metadata": {},
     "output_type": "execute_result"
    }
   ],
   "source": [
    "s2"
   ]
  },
  {
   "cell_type": "code",
   "execution_count": 20,
   "id": "8756319d",
   "metadata": {},
   "outputs": [
    {
     "data": {
      "text/plain": [
       "True"
      ]
     },
     "execution_count": 20,
     "metadata": {},
     "output_type": "execute_result"
    }
   ],
   "source": [
    "\"c\" in s2"
   ]
  },
  {
   "cell_type": "markdown",
   "id": "610e927c",
   "metadata": {},
   "source": [
    "**Operations between Series automatically<br>\n",
    "align the data based on labels**"
   ]
  },
  {
   "cell_type": "code",
   "execution_count": 21,
   "id": "5eb1d1a5",
   "metadata": {},
   "outputs": [
    {
     "data": {
      "text/plain": [
       "a          NaN\n",
       "b    40.000000\n",
       "c     0.812576\n",
       "d          NaN\n",
       "dtype: float64"
      ]
     },
     "execution_count": 21,
     "metadata": {},
     "output_type": "execute_result"
    }
   ],
   "source": [
    "s2[1:] + s2[:-1]"
   ]
  },
  {
   "cell_type": "markdown",
   "id": "4ebc2bf6",
   "metadata": {},
   "source": [
    "**The result of an operation between unaligned Series<br>\n",
    "will have the union of the indexes involved**\n"
   ]
  },
  {
   "cell_type": "markdown",
   "id": "e634bf80",
   "metadata": {},
   "source": [
    "**Series can have a name attribute**"
   ]
  },
  {
   "cell_type": "code",
   "execution_count": 22,
   "id": "00483ab7",
   "metadata": {
    "scrolled": true
   },
   "outputs": [
    {
     "data": {
      "text/plain": [
       "0   -0.064730\n",
       "1   -1.153641\n",
       "2   -0.264229\n",
       "3   -1.270283\n",
       "Name: something, dtype: float64"
      ]
     },
     "execution_count": 22,
     "metadata": {},
     "output_type": "execute_result"
    }
   ],
   "source": [
    "s6 = pd.Series(np.random.randn(4), name = 'something')\n",
    "s6"
   ]
  },
  {
   "cell_type": "code",
   "execution_count": 23,
   "id": "b5ceaf55",
   "metadata": {},
   "outputs": [
    {
     "data": {
      "text/plain": [
       "'something'"
      ]
     },
     "execution_count": 23,
     "metadata": {},
     "output_type": "execute_result"
    }
   ],
   "source": [
    "s6.name"
   ]
  },
  {
   "cell_type": "markdown",
   "id": "dae59e73",
   "metadata": {},
   "source": [
    "**that can be renamed**"
   ]
  },
  {
   "cell_type": "code",
   "execution_count": 24,
   "id": "2aca2364",
   "metadata": {},
   "outputs": [
    {
     "data": {
      "text/plain": [
       "0   -0.064730\n",
       "1   -1.153641\n",
       "2   -0.264229\n",
       "3   -1.270283\n",
       "Name: different, dtype: float64"
      ]
     },
     "execution_count": 24,
     "metadata": {},
     "output_type": "execute_result"
    }
   ],
   "source": [
    "s6.rename('different',inplace=True)\n",
    "s6"
   ]
  },
  {
   "cell_type": "code",
   "execution_count": 25,
   "id": "a335da08",
   "metadata": {},
   "outputs": [
    {
     "data": {
      "text/plain": [
       "'different'"
      ]
     },
     "execution_count": 25,
     "metadata": {},
     "output_type": "execute_result"
    }
   ],
   "source": [
    "s6.name"
   ]
  },
  {
   "cell_type": "markdown",
   "id": "14bbe55e",
   "metadata": {},
   "source": [
    "**A DataFrame can be created from a dict of Series or dicts**"
   ]
  },
  {
   "cell_type": "code",
   "execution_count": 26,
   "id": "85221bc2",
   "metadata": {},
   "outputs": [
    {
     "data": {
      "text/html": [
       "<div>\n",
       "<style scoped>\n",
       "    .dataframe tbody tr th:only-of-type {\n",
       "        vertical-align: middle;\n",
       "    }\n",
       "\n",
       "    .dataframe tbody tr th {\n",
       "        vertical-align: top;\n",
       "    }\n",
       "\n",
       "    .dataframe thead th {\n",
       "        text-align: right;\n",
       "    }\n",
       "</style>\n",
       "<table border=\"1\" class=\"dataframe\">\n",
       "  <thead>\n",
       "    <tr style=\"text-align: right;\">\n",
       "      <th></th>\n",
       "      <th>one</th>\n",
       "      <th>two</th>\n",
       "    </tr>\n",
       "  </thead>\n",
       "  <tbody>\n",
       "    <tr>\n",
       "      <th>a</th>\n",
       "      <td>1.0</td>\n",
       "      <td>1.0</td>\n",
       "    </tr>\n",
       "    <tr>\n",
       "      <th>b</th>\n",
       "      <td>2.0</td>\n",
       "      <td>2.0</td>\n",
       "    </tr>\n",
       "    <tr>\n",
       "      <th>c</th>\n",
       "      <td>3.0</td>\n",
       "      <td>3.0</td>\n",
       "    </tr>\n",
       "    <tr>\n",
       "      <th>d</th>\n",
       "      <td>NaN</td>\n",
       "      <td>4.0</td>\n",
       "    </tr>\n",
       "  </tbody>\n",
       "</table>\n",
       "</div>"
      ],
      "text/plain": [
       "   one  two\n",
       "a  1.0  1.0\n",
       "b  2.0  2.0\n",
       "c  3.0  3.0\n",
       "d  NaN  4.0"
      ]
     },
     "execution_count": 26,
     "metadata": {},
     "output_type": "execute_result"
    }
   ],
   "source": [
    "d = {\n",
    "    \"one\": pd.Series([1.0, 2.0, 3.0], index=[\"a\", \"b\", \"c\"]),\n",
    "    \"two\": pd.Series([1.0, 2.0, 3.0, 4.0], index=[\"a\", \"b\", \"c\", \"d\"]),\n",
    "}\n",
    "df = pd.DataFrame(d)\n",
    "df"
   ]
  },
  {
   "cell_type": "markdown",
   "id": "4d770962",
   "metadata": {},
   "source": [
    "**Values are alligned by the index and NaN is assigned for no existing values**"
   ]
  },
  {
   "cell_type": "code",
   "execution_count": 27,
   "id": "d1800bc1",
   "metadata": {},
   "outputs": [
    {
     "data": {
      "text/html": [
       "<div>\n",
       "<style scoped>\n",
       "    .dataframe tbody tr th:only-of-type {\n",
       "        vertical-align: middle;\n",
       "    }\n",
       "\n",
       "    .dataframe tbody tr th {\n",
       "        vertical-align: top;\n",
       "    }\n",
       "\n",
       "    .dataframe thead th {\n",
       "        text-align: right;\n",
       "    }\n",
       "</style>\n",
       "<table border=\"1\" class=\"dataframe\">\n",
       "  <thead>\n",
       "    <tr style=\"text-align: right;\">\n",
       "      <th></th>\n",
       "      <th>one</th>\n",
       "      <th>two</th>\n",
       "    </tr>\n",
       "  </thead>\n",
       "  <tbody>\n",
       "    <tr>\n",
       "      <th>d</th>\n",
       "      <td>NaN</td>\n",
       "      <td>4.0</td>\n",
       "    </tr>\n",
       "    <tr>\n",
       "      <th>b</th>\n",
       "      <td>2.0</td>\n",
       "      <td>2.0</td>\n",
       "    </tr>\n",
       "    <tr>\n",
       "      <th>a</th>\n",
       "      <td>1.0</td>\n",
       "      <td>1.0</td>\n",
       "    </tr>\n",
       "  </tbody>\n",
       "</table>\n",
       "</div>"
      ],
      "text/plain": [
       "   one  two\n",
       "d  NaN  4.0\n",
       "b  2.0  2.0\n",
       "a  1.0  1.0"
      ]
     },
     "execution_count": 27,
     "metadata": {},
     "output_type": "execute_result"
    }
   ],
   "source": [
    "pd.DataFrame(d, index=[\"d\", \"b\", \"a\"])"
   ]
  },
  {
   "cell_type": "markdown",
   "id": "9d2966c7",
   "metadata": {},
   "source": [
    "**If columns is passed along with a dict of data<br>\n",
    "the passed columns override the keys in the dict.**"
   ]
  },
  {
   "cell_type": "code",
   "execution_count": 28,
   "id": "5af3550d",
   "metadata": {},
   "outputs": [
    {
     "data": {
      "text/html": [
       "<div>\n",
       "<style scoped>\n",
       "    .dataframe tbody tr th:only-of-type {\n",
       "        vertical-align: middle;\n",
       "    }\n",
       "\n",
       "    .dataframe tbody tr th {\n",
       "        vertical-align: top;\n",
       "    }\n",
       "\n",
       "    .dataframe thead th {\n",
       "        text-align: right;\n",
       "    }\n",
       "</style>\n",
       "<table border=\"1\" class=\"dataframe\">\n",
       "  <thead>\n",
       "    <tr style=\"text-align: right;\">\n",
       "      <th></th>\n",
       "      <th>two</th>\n",
       "      <th>three</th>\n",
       "    </tr>\n",
       "  </thead>\n",
       "  <tbody>\n",
       "    <tr>\n",
       "      <th>d</th>\n",
       "      <td>4.0</td>\n",
       "      <td>NaN</td>\n",
       "    </tr>\n",
       "    <tr>\n",
       "      <th>b</th>\n",
       "      <td>2.0</td>\n",
       "      <td>NaN</td>\n",
       "    </tr>\n",
       "    <tr>\n",
       "      <th>a</th>\n",
       "      <td>1.0</td>\n",
       "      <td>NaN</td>\n",
       "    </tr>\n",
       "  </tbody>\n",
       "</table>\n",
       "</div>"
      ],
      "text/plain": [
       "   two three\n",
       "d  4.0   NaN\n",
       "b  2.0   NaN\n",
       "a  1.0   NaN"
      ]
     },
     "execution_count": 28,
     "metadata": {},
     "output_type": "execute_result"
    }
   ],
   "source": [
    "pd.DataFrame(d, index=[\"d\", \"b\", \"a\"], columns=[\"two\", \"three\"])"
   ]
  },
  {
   "cell_type": "markdown",
   "id": "002142c1",
   "metadata": {},
   "source": [
    "**The row and column labels can be accessed respectively<br>\n",
    "by accessing the index and columns attributes**"
   ]
  },
  {
   "cell_type": "code",
   "execution_count": 29,
   "id": "11737799",
   "metadata": {},
   "outputs": [
    {
     "data": {
      "text/plain": [
       "Index(['a', 'b', 'c', 'd'], dtype='object')"
      ]
     },
     "execution_count": 29,
     "metadata": {},
     "output_type": "execute_result"
    }
   ],
   "source": [
    "df.index"
   ]
  },
  {
   "cell_type": "code",
   "execution_count": 30,
   "id": "48e79a2d",
   "metadata": {},
   "outputs": [
    {
     "data": {
      "text/plain": [
       "Index(['one', 'two'], dtype='object')"
      ]
     },
     "execution_count": 30,
     "metadata": {},
     "output_type": "execute_result"
    }
   ],
   "source": [
    "df.columns"
   ]
  },
  {
   "cell_type": "markdown",
   "id": "03fe4a99",
   "metadata": {},
   "source": [
    "**Create a DataFrame from dict of ndarrays / lists**"
   ]
  },
  {
   "cell_type": "code",
   "execution_count": 31,
   "id": "b63a02ab",
   "metadata": {},
   "outputs": [],
   "source": [
    "d = {\"one\": [1.0, 2.0, 3.0, 4.0], \"two\": [4.0, 3.0, 2.0, 1.0]}"
   ]
  },
  {
   "cell_type": "markdown",
   "id": "18dcff8e",
   "metadata": {},
   "source": [
    "**If no index is passed the index will be range(n), n is the array length**"
   ]
  },
  {
   "cell_type": "code",
   "execution_count": 32,
   "id": "6251b40c",
   "metadata": {
    "scrolled": true
   },
   "outputs": [
    {
     "data": {
      "text/html": [
       "<div>\n",
       "<style scoped>\n",
       "    .dataframe tbody tr th:only-of-type {\n",
       "        vertical-align: middle;\n",
       "    }\n",
       "\n",
       "    .dataframe tbody tr th {\n",
       "        vertical-align: top;\n",
       "    }\n",
       "\n",
       "    .dataframe thead th {\n",
       "        text-align: right;\n",
       "    }\n",
       "</style>\n",
       "<table border=\"1\" class=\"dataframe\">\n",
       "  <thead>\n",
       "    <tr style=\"text-align: right;\">\n",
       "      <th></th>\n",
       "      <th>one</th>\n",
       "      <th>two</th>\n",
       "    </tr>\n",
       "  </thead>\n",
       "  <tbody>\n",
       "    <tr>\n",
       "      <th>0</th>\n",
       "      <td>1.0</td>\n",
       "      <td>4.0</td>\n",
       "    </tr>\n",
       "    <tr>\n",
       "      <th>1</th>\n",
       "      <td>2.0</td>\n",
       "      <td>3.0</td>\n",
       "    </tr>\n",
       "    <tr>\n",
       "      <th>2</th>\n",
       "      <td>3.0</td>\n",
       "      <td>2.0</td>\n",
       "    </tr>\n",
       "    <tr>\n",
       "      <th>3</th>\n",
       "      <td>4.0</td>\n",
       "      <td>1.0</td>\n",
       "    </tr>\n",
       "  </tbody>\n",
       "</table>\n",
       "</div>"
      ],
      "text/plain": [
       "   one  two\n",
       "0  1.0  4.0\n",
       "1  2.0  3.0\n",
       "2  3.0  2.0\n",
       "3  4.0  1.0"
      ]
     },
     "execution_count": 32,
     "metadata": {},
     "output_type": "execute_result"
    }
   ],
   "source": [
    "pd.DataFrame(d)"
   ]
  },
  {
   "cell_type": "markdown",
   "id": "0c061913",
   "metadata": {},
   "source": [
    "**The arrays and index must all be the same length**"
   ]
  },
  {
   "cell_type": "code",
   "execution_count": 33,
   "id": "641204e4",
   "metadata": {
    "scrolled": true
   },
   "outputs": [
    {
     "data": {
      "text/html": [
       "<div>\n",
       "<style scoped>\n",
       "    .dataframe tbody tr th:only-of-type {\n",
       "        vertical-align: middle;\n",
       "    }\n",
       "\n",
       "    .dataframe tbody tr th {\n",
       "        vertical-align: top;\n",
       "    }\n",
       "\n",
       "    .dataframe thead th {\n",
       "        text-align: right;\n",
       "    }\n",
       "</style>\n",
       "<table border=\"1\" class=\"dataframe\">\n",
       "  <thead>\n",
       "    <tr style=\"text-align: right;\">\n",
       "      <th></th>\n",
       "      <th>one</th>\n",
       "      <th>two</th>\n",
       "    </tr>\n",
       "  </thead>\n",
       "  <tbody>\n",
       "    <tr>\n",
       "      <th>a</th>\n",
       "      <td>1.0</td>\n",
       "      <td>4.0</td>\n",
       "    </tr>\n",
       "    <tr>\n",
       "      <th>b</th>\n",
       "      <td>2.0</td>\n",
       "      <td>3.0</td>\n",
       "    </tr>\n",
       "    <tr>\n",
       "      <th>c</th>\n",
       "      <td>3.0</td>\n",
       "      <td>2.0</td>\n",
       "    </tr>\n",
       "    <tr>\n",
       "      <th>d</th>\n",
       "      <td>4.0</td>\n",
       "      <td>1.0</td>\n",
       "    </tr>\n",
       "  </tbody>\n",
       "</table>\n",
       "</div>"
      ],
      "text/plain": [
       "   one  two\n",
       "a  1.0  4.0\n",
       "b  2.0  3.0\n",
       "c  3.0  2.0\n",
       "d  4.0  1.0"
      ]
     },
     "execution_count": 33,
     "metadata": {},
     "output_type": "execute_result"
    }
   ],
   "source": [
    "pd.DataFrame(d, index=[\"a\", \"b\", \"c\", \"d\"])"
   ]
  },
  {
   "cell_type": "code",
   "execution_count": null,
   "id": "41e8b076",
   "metadata": {},
   "outputs": [],
   "source": []
  }
 ],
 "metadata": {
  "kernelspec": {
   "display_name": "Python 3 (ipykernel)",
   "language": "python",
   "name": "python3"
  },
  "language_info": {
   "codemirror_mode": {
    "name": "ipython",
    "version": 3
   },
   "file_extension": ".py",
   "mimetype": "text/x-python",
   "name": "python",
   "nbconvert_exporter": "python",
   "pygments_lexer": "ipython3",
   "version": "3.8.11"
  }
 },
 "nbformat": 4,
 "nbformat_minor": 5
}
