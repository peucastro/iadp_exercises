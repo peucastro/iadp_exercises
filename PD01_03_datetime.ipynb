{
 "cells": [
  {
   "cell_type": "code",
   "execution_count": 1,
   "id": "2ac2590c",
   "metadata": {},
   "outputs": [],
   "source": [
    "import datetime as dt\n",
    "import time"
   ]
  },
  {
   "cell_type": "code",
   "execution_count": 2,
   "id": "6572f6fe",
   "metadata": {},
   "outputs": [
    {
     "data": {
      "text/plain": [
       "datetime.date(2021, 12, 20)"
      ]
     },
     "execution_count": 2,
     "metadata": {},
     "output_type": "execute_result"
    }
   ],
   "source": [
    "dt.date(year=2021, month=12, day=20)\n",
    "dt.date(2021,12,20)"
   ]
  },
  {
   "cell_type": "code",
   "execution_count": 3,
   "id": "0c4ed450",
   "metadata": {},
   "outputs": [
    {
     "data": {
      "text/plain": [
       "datetime.time(15, 25, 43)"
      ]
     },
     "execution_count": 3,
     "metadata": {},
     "output_type": "execute_result"
    }
   ],
   "source": [
    "dt.time(hour=15, minute=25, second=43)\n",
    "dt.time(15, 25, 43)"
   ]
  },
  {
   "cell_type": "code",
   "execution_count": 4,
   "id": "d96d8456",
   "metadata": {},
   "outputs": [
    {
     "data": {
      "text/plain": [
       "datetime.datetime(2021, 12, 20, 15, 25, 43)"
      ]
     },
     "execution_count": 4,
     "metadata": {},
     "output_type": "execute_result"
    }
   ],
   "source": [
    "dt.datetime(year=2021, month=12, day=20, hour=15, minute=25, second=43)\n",
    "dt.datetime(2021, 12, 20, 15, 25, 43)"
   ]
  },
  {
   "cell_type": "markdown",
   "id": "e1813a19",
   "metadata": {},
   "source": [
    "**Other ways to create Datetime instances**"
   ]
  },
  {
   "cell_type": "code",
   "execution_count": 5,
   "id": "32b7cb5c",
   "metadata": {},
   "outputs": [
    {
     "data": {
      "text/plain": [
       "datetime.date(2021, 12, 27)"
      ]
     },
     "execution_count": 5,
     "metadata": {},
     "output_type": "execute_result"
    }
   ],
   "source": [
    "today = dt.date.today()\n",
    "today"
   ]
  },
  {
   "cell_type": "code",
   "execution_count": 6,
   "id": "01a4b766",
   "metadata": {},
   "outputs": [
    {
     "data": {
      "text/plain": [
       "datetime.datetime(2021, 12, 27, 15, 39, 47, 492731)"
      ]
     },
     "execution_count": 6,
     "metadata": {},
     "output_type": "execute_result"
    }
   ],
   "source": [
    "today_time = dt.datetime.now()\n",
    "today_time"
   ]
  },
  {
   "cell_type": "code",
   "execution_count": 7,
   "id": "6fae15c5",
   "metadata": {},
   "outputs": [
    {
     "data": {
      "text/plain": [
       "datetime.datetime(2021, 12, 27, 15, 39, 47, 492731)"
      ]
     },
     "execution_count": 7,
     "metadata": {},
     "output_type": "execute_result"
    }
   ],
   "source": [
    "dt.datetime.combine(today, today_time.time())"
   ]
  },
  {
   "cell_type": "markdown",
   "id": "cbf32ac3",
   "metadata": {},
   "source": [
    "**Creating from a string date**"
   ]
  },
  {
   "cell_type": "code",
   "execution_count": 8,
   "id": "465ef6ec",
   "metadata": {},
   "outputs": [
    {
     "data": {
      "text/plain": [
       "datetime.date(2021, 12, 22)"
      ]
     },
     "execution_count": 8,
     "metadata": {},
     "output_type": "execute_result"
    }
   ],
   "source": [
    "# YYYY-MM-DD HH:MM:SS (in ISO 8601 format)\n",
    "dt.date.fromisoformat(\"2021-12-22\")"
   ]
  },
  {
   "cell_type": "code",
   "execution_count": 9,
   "id": "7d424011",
   "metadata": {},
   "outputs": [
    {
     "data": {
      "text/plain": [
       "datetime.datetime(2021, 12, 22, 21, 13, 3)"
      ]
     },
     "execution_count": 9,
     "metadata": {},
     "output_type": "execute_result"
    }
   ],
   "source": [
    "date_str = \"12/22/2021 21:13:03\"\n",
    "date_fmt_str = \"%m/%d/%Y %H:%M:%S\"\n",
    "dt.datetime.strptime(date_str, date_fmt_str)"
   ]
  },
  {
   "cell_type": "markdown",
   "id": "c80670d1",
   "metadata": {},
   "source": [
    "**Date arithmetic**"
   ]
  },
  {
   "cell_type": "code",
   "execution_count": 10,
   "id": "9050e812",
   "metadata": {},
   "outputs": [
    {
     "data": {
      "text/plain": [
       "datetime.datetime(2021, 12, 27, 15, 39, 47, 559694)"
      ]
     },
     "execution_count": 10,
     "metadata": {},
     "output_type": "execute_result"
    }
   ],
   "source": [
    "today = dt.datetime.now()\n",
    "today"
   ]
  },
  {
   "cell_type": "code",
   "execution_count": 11,
   "id": "e40f0f6f",
   "metadata": {},
   "outputs": [
    {
     "data": {
      "text/plain": [
       "datetime.datetime(2021, 12, 29, 15, 39, 47, 559694)"
      ]
     },
     "execution_count": 11,
     "metadata": {},
     "output_type": "execute_result"
    }
   ],
   "source": [
    "# adding two days\n",
    "after_tomorrow = dt.timedelta(days=+2)\n",
    "today + after_tomorrow"
   ]
  },
  {
   "cell_type": "code",
   "execution_count": 12,
   "id": "0d6669eb",
   "metadata": {},
   "outputs": [
    {
     "data": {
      "text/plain": [
       "datetime.datetime(2021, 12, 25, 15, 39, 47, 559694)"
      ]
     },
     "execution_count": 12,
     "metadata": {},
     "output_type": "execute_result"
    }
   ],
   "source": [
    "# subtracting two days\n",
    "before_yesterday = dt.timedelta(days=-2)\n",
    "today + before_yesterday  "
   ]
  },
  {
   "cell_type": "code",
   "execution_count": 13,
   "id": "9c696314",
   "metadata": {
    "scrolled": true
   },
   "outputs": [
    {
     "data": {
      "text/plain": [
       "datetime.datetime(2021, 12, 29, 12, 39, 47, 559694)"
      ]
     },
     "execution_count": 13,
     "metadata": {},
     "output_type": "execute_result"
    }
   ],
   "source": [
    "# adding two days and subtracting three hours\n",
    "delta = dt.timedelta(days=+2, hours=-3)\n",
    "today + delta"
   ]
  },
  {
   "cell_type": "markdown",
   "id": "469fd162",
   "metadata": {},
   "source": [
    "**date objects**"
   ]
  },
  {
   "cell_type": "code",
   "execution_count": 14,
   "id": "003e4ef7",
   "metadata": {},
   "outputs": [
    {
     "data": {
      "text/plain": [
       "datetime.date(2021, 12, 15)"
      ]
     },
     "execution_count": 14,
     "metadata": {},
     "output_type": "execute_result"
    }
   ],
   "source": [
    "# datetime.date(year, month, day)\n",
    "dt.date(2021,12,15)"
   ]
  },
  {
   "cell_type": "code",
   "execution_count": 15,
   "id": "dff7d668",
   "metadata": {},
   "outputs": [
    {
     "data": {
      "text/plain": [
       "datetime.date(2021, 12, 27)"
      ]
     },
     "execution_count": 15,
     "metadata": {},
     "output_type": "execute_result"
    }
   ],
   "source": [
    "# Current local date\n",
    "dt.date.today()"
   ]
  },
  {
   "cell_type": "code",
   "execution_count": 16,
   "id": "bd011f9b",
   "metadata": {},
   "outputs": [
    {
     "data": {
      "text/plain": [
       "datetime.date(2021, 12, 27)"
      ]
     },
     "execution_count": 16,
     "metadata": {},
     "output_type": "execute_result"
    }
   ],
   "source": [
    "# Local date from timestamp\n",
    "d1 = dt.date.fromtimestamp(time.time())\n",
    "d1"
   ]
  },
  {
   "cell_type": "code",
   "execution_count": 17,
   "id": "8af7cf17",
   "metadata": {},
   "outputs": [
    {
     "data": {
      "text/plain": [
       "(2021, 12, 27)"
      ]
     },
     "execution_count": 17,
     "metadata": {},
     "output_type": "execute_result"
    }
   ],
   "source": [
    "# date attributes\n",
    "d1.year, d1.month, d1.day"
   ]
  },
  {
   "cell_type": "code",
   "execution_count": 18,
   "id": "b72c6e9a",
   "metadata": {},
   "outputs": [
    {
     "data": {
      "text/plain": [
       "0"
      ]
     },
     "execution_count": 18,
     "metadata": {},
     "output_type": "execute_result"
    }
   ],
   "source": [
    "# Returns the day of the week (Monday is 0)\n",
    "d1.weekday()"
   ]
  },
  {
   "cell_type": "code",
   "execution_count": 19,
   "id": "b847cd5e",
   "metadata": {},
   "outputs": [
    {
     "data": {
      "text/plain": [
       "1"
      ]
     },
     "execution_count": 19,
     "metadata": {},
     "output_type": "execute_result"
    }
   ],
   "source": [
    "# Returns the day of the week (Monday is 1)\n",
    "d1.isoweekday()"
   ]
  },
  {
   "cell_type": "code",
   "execution_count": 20,
   "id": "31019c43",
   "metadata": {},
   "outputs": [
    {
     "data": {
      "text/plain": [
       "(2021, 52, 1)"
      ]
     },
     "execution_count": 20,
     "metadata": {},
     "output_type": "execute_result"
    }
   ],
   "source": [
    "# Returns the year, week and weekday\n",
    "# The first week is the first week containing a Thursday\n",
    "d1.isocalendar()"
   ]
  },
  {
   "cell_type": "code",
   "execution_count": 21,
   "id": "5a06577f",
   "metadata": {},
   "outputs": [
    {
     "data": {
      "text/plain": [
       "'2021-12-27'"
      ]
     },
     "execution_count": 21,
     "metadata": {},
     "output_type": "execute_result"
    }
   ],
   "source": [
    "# Returns a date string in ISO format YYYY-MM-DD\n",
    "d1.isoformat()"
   ]
  },
  {
   "cell_type": "code",
   "execution_count": 22,
   "id": "07669027",
   "metadata": {},
   "outputs": [
    {
     "data": {
      "text/plain": [
       "'27/12/2021'"
      ]
     },
     "execution_count": 22,
     "metadata": {},
     "output_type": "execute_result"
    }
   ],
   "source": [
    "#Return a date string controlled by the format\n",
    "d1.strftime(\"%d/%m/%Y\")"
   ]
  },
  {
   "cell_type": "markdown",
   "id": "38977e86",
   "metadata": {},
   "source": [
    "**datetime objects**"
   ]
  },
  {
   "cell_type": "code",
   "execution_count": 23,
   "id": "95d0d2b6",
   "metadata": {},
   "outputs": [
    {
     "data": {
      "text/plain": [
       "datetime.datetime(2021, 12, 26, 16, 6, 45)"
      ]
     },
     "execution_count": 23,
     "metadata": {},
     "output_type": "execute_result"
    }
   ],
   "source": [
    "# datetime.datetime(year,month,day,hour=0,minute=0\n",
    "# second=0, microsecond=0,tzinfo=None,*,fold=0)\n",
    "dt.datetime(2021,12,26,16,6,45)"
   ]
  },
  {
   "cell_type": "code",
   "execution_count": 24,
   "id": "15863b9f",
   "metadata": {},
   "outputs": [
    {
     "data": {
      "text/plain": [
       "datetime.datetime(2021, 12, 27, 15, 39, 47, 781572)"
      ]
     },
     "execution_count": 24,
     "metadata": {},
     "output_type": "execute_result"
    }
   ],
   "source": [
    "# Returns the current local date and time\n",
    "dt1 = dt.datetime.today()\n",
    "dt1"
   ]
  },
  {
   "cell_type": "code",
   "execution_count": 25,
   "id": "a300cf77",
   "metadata": {},
   "outputs": [
    {
     "data": {
      "text/plain": [
       "datetime.datetime(2021, 12, 27, 15, 39, 47, 797559)"
      ]
     },
     "execution_count": 25,
     "metadata": {},
     "output_type": "execute_result"
    }
   ],
   "source": [
    "# returns the current UTC date and time\n",
    "dt.datetime.utcnow()"
   ]
  },
  {
   "cell_type": "code",
   "execution_count": 26,
   "id": "3845c480",
   "metadata": {},
   "outputs": [
    {
     "data": {
      "text/plain": [
       "datetime.datetime(2021, 12, 27, 15, 39, 47, 815566)"
      ]
     },
     "execution_count": 26,
     "metadata": {},
     "output_type": "execute_result"
    }
   ],
   "source": [
    "# Local date from timestamp\n",
    "dt.datetime.fromtimestamp(time.time())"
   ]
  },
  {
   "cell_type": "markdown",
   "id": "be22e24a",
   "metadata": {},
   "source": [
    "**datetime object attributes**"
   ]
  },
  {
   "cell_type": "code",
   "execution_count": 27,
   "id": "86bb5999",
   "metadata": {},
   "outputs": [
    {
     "data": {
      "text/plain": [
       "(2021, 12, 27)"
      ]
     },
     "execution_count": 27,
     "metadata": {},
     "output_type": "execute_result"
    }
   ],
   "source": [
    "dt1.year, dt1.month, dt1.day"
   ]
  },
  {
   "cell_type": "code",
   "execution_count": 28,
   "id": "b1d3993d",
   "metadata": {},
   "outputs": [
    {
     "data": {
      "text/plain": [
       "(15, 39, 47, 781572)"
      ]
     },
     "execution_count": 28,
     "metadata": {},
     "output_type": "execute_result"
    }
   ],
   "source": [
    "dt1.hour, dt1.minute, dt1.second, dt1.microsecond "
   ]
  },
  {
   "cell_type": "code",
   "execution_count": 29,
   "id": "2047f0bc",
   "metadata": {},
   "outputs": [
    {
     "data": {
      "text/plain": [
       "(None, 0)"
      ]
     },
     "execution_count": 29,
     "metadata": {},
     "output_type": "execute_result"
    }
   ],
   "source": [
    "dt1.tzinfo, dt1.fold"
   ]
  },
  {
   "cell_type": "markdown",
   "id": "4b4baf95",
   "metadata": {},
   "source": [
    "**datetime object methods**"
   ]
  },
  {
   "cell_type": "code",
   "execution_count": 30,
   "id": "ea6b9e1d",
   "metadata": {},
   "outputs": [
    {
     "data": {
      "text/plain": [
       "datetime.date(2021, 12, 27)"
      ]
     },
     "execution_count": 30,
     "metadata": {},
     "output_type": "execute_result"
    }
   ],
   "source": [
    "# Returns date object with the same date\n",
    "dt1.date()"
   ]
  },
  {
   "cell_type": "code",
   "execution_count": 31,
   "id": "a6140724",
   "metadata": {},
   "outputs": [
    {
     "data": {
      "text/plain": [
       "datetime.time(15, 39, 47, 781572)"
      ]
     },
     "execution_count": 31,
     "metadata": {},
     "output_type": "execute_result"
    }
   ],
   "source": [
    "# Returns time object with the same time\n",
    "dt1.time()"
   ]
  },
  {
   "cell_type": "code",
   "execution_count": 32,
   "id": "6f3ddb88",
   "metadata": {},
   "outputs": [
    {
     "data": {
      "text/plain": [
       "datetime.time(15, 39, 47, 781572)"
      ]
     },
     "execution_count": 32,
     "metadata": {},
     "output_type": "execute_result"
    }
   ],
   "source": [
    "# Returns time object with tzinfo attributes\n",
    "dt1.timetz()"
   ]
  },
  {
   "cell_type": "code",
   "execution_count": 33,
   "id": "f0a4e42a",
   "metadata": {},
   "outputs": [],
   "source": [
    "# Returns a datetime object with new tzinfo atribute tz\n",
    "dt1 = dt1.astimezone(tz=None)"
   ]
  },
  {
   "cell_type": "code",
   "execution_count": 34,
   "id": "c82fa500",
   "metadata": {},
   "outputs": [],
   "source": [
    "# Returns dst - self.tzinfo.dst(self)\n",
    "dt1.dst()"
   ]
  },
  {
   "cell_type": "code",
   "execution_count": 35,
   "id": "e8c5caa9",
   "metadata": {},
   "outputs": [
    {
     "data": {
      "text/plain": [
       "'GMT Standard Time'"
      ]
     },
     "execution_count": 35,
     "metadata": {},
     "output_type": "execute_result"
    }
   ],
   "source": [
    "# Returns self.tzinfo.tzname(self)\n",
    "dt1.tzname()"
   ]
  },
  {
   "cell_type": "code",
   "execution_count": 36,
   "id": "256235c9",
   "metadata": {},
   "outputs": [
    {
     "data": {
      "text/plain": [
       "time.struct_time(tm_year=2021, tm_mon=12, tm_mday=27, tm_hour=15, tm_min=39, tm_sec=47, tm_wday=0, tm_yday=361, tm_isdst=-1)"
      ]
     },
     "execution_count": 36,
     "metadata": {},
     "output_type": "execute_result"
    }
   ],
   "source": [
    "# returns a struct_time\n",
    "dt1.timetuple()"
   ]
  },
  {
   "cell_type": "code",
   "execution_count": 37,
   "id": "0857467a",
   "metadata": {},
   "outputs": [
    {
     "data": {
      "text/plain": [
       "0"
      ]
     },
     "execution_count": 37,
     "metadata": {},
     "output_type": "execute_result"
    }
   ],
   "source": [
    "# Returns the day of the week (Monday is 0)\n",
    "dt1.weekday()"
   ]
  },
  {
   "cell_type": "code",
   "execution_count": 38,
   "id": "6776308b",
   "metadata": {},
   "outputs": [
    {
     "data": {
      "text/plain": [
       "1"
      ]
     },
     "execution_count": 38,
     "metadata": {},
     "output_type": "execute_result"
    }
   ],
   "source": [
    "# Returns the day of the week (Monday is 1)\n",
    "dt1.isoweekday()"
   ]
  },
  {
   "cell_type": "code",
   "execution_count": 39,
   "id": "d8fec26a",
   "metadata": {},
   "outputs": [
    {
     "data": {
      "text/plain": [
       "(2021, 52, 1)"
      ]
     },
     "execution_count": 39,
     "metadata": {},
     "output_type": "execute_result"
    }
   ],
   "source": [
    "# Returns the year, week and weekday\n",
    "# The first week is the first week containing a Thursday\n",
    "dt1.isocalendar()"
   ]
  },
  {
   "cell_type": "code",
   "execution_count": 40,
   "id": "e5e1149e",
   "metadata": {
    "scrolled": true
   },
   "outputs": [
    {
     "data": {
      "text/plain": [
       "'2021-12-27T15:39:47.781572+00:00'"
      ]
     },
     "execution_count": 40,
     "metadata": {},
     "output_type": "execute_result"
    }
   ],
   "source": [
    "# Returns a date string in ISO format \n",
    "# YYYY-MM-DDTHH:MM:SS:ffffff\n",
    "dt1.isoformat()"
   ]
  },
  {
   "cell_type": "code",
   "execution_count": 41,
   "id": "93b93a19",
   "metadata": {},
   "outputs": [
    {
     "data": {
      "text/plain": [
       "'Mon Dec 27 15:39:47 2021'"
      ]
     },
     "execution_count": 41,
     "metadata": {},
     "output_type": "execute_result"
    }
   ],
   "source": [
    "# Returns a date string\n",
    "dt1.ctime()"
   ]
  },
  {
   "cell_type": "code",
   "execution_count": 42,
   "id": "3397797a",
   "metadata": {},
   "outputs": [
    {
     "data": {
      "text/plain": [
       "'Monday, 27. December 2021 03:39PM'"
      ]
     },
     "execution_count": 42,
     "metadata": {},
     "output_type": "execute_result"
    }
   ],
   "source": [
    "#Return a date string controlled by the format\n",
    "dt1.strftime(\"%A, %d. %B %Y %I:%M%p\")"
   ]
  },
  {
   "cell_type": "markdown",
   "id": "1a0320ee",
   "metadata": {},
   "source": [
    "**time objects**"
   ]
  },
  {
   "cell_type": "code",
   "execution_count": 43,
   "id": "bf0c41b3",
   "metadata": {},
   "outputs": [
    {
     "data": {
      "text/plain": [
       "datetime.time(16, 42, 55, 253765)"
      ]
     },
     "execution_count": 43,
     "metadata": {},
     "output_type": "execute_result"
    }
   ],
   "source": [
    "# datetime.time(hour=0,minute=0,second=0,\n",
    "# microsecond=0,tzinfo=None,*,fold=0)\n",
    "t1 = dt.time(16, 42, 55, 253765)\n",
    "t1"
   ]
  },
  {
   "cell_type": "markdown",
   "id": "619e62cc",
   "metadata": {},
   "source": [
    "**time object attributes**"
   ]
  },
  {
   "cell_type": "code",
   "execution_count": 44,
   "id": "a7ce454a",
   "metadata": {},
   "outputs": [
    {
     "data": {
      "text/plain": [
       "(16, 42, 55, 253765)"
      ]
     },
     "execution_count": 44,
     "metadata": {},
     "output_type": "execute_result"
    }
   ],
   "source": [
    "t1.hour, t1.minute, t1.second, t1.microsecond"
   ]
  },
  {
   "cell_type": "code",
   "execution_count": 45,
   "id": "6af166b7",
   "metadata": {},
   "outputs": [
    {
     "data": {
      "text/plain": [
       "(None, 0)"
      ]
     },
     "execution_count": 45,
     "metadata": {},
     "output_type": "execute_result"
    }
   ],
   "source": [
    "t1.tzinfo, t1.fold"
   ]
  },
  {
   "cell_type": "markdown",
   "id": "bd685378",
   "metadata": {},
   "source": [
    "**time object methods**"
   ]
  },
  {
   "cell_type": "code",
   "execution_count": 46,
   "id": "f7222add",
   "metadata": {
    "scrolled": true
   },
   "outputs": [
    {
     "data": {
      "text/plain": [
       "'16:42:55.253765'"
      ]
     },
     "execution_count": 46,
     "metadata": {},
     "output_type": "execute_result"
    }
   ],
   "source": [
    "# Returns a time string  in ISO 8601 format\n",
    "t1.isoformat()"
   ]
  },
  {
   "cell_type": "code",
   "execution_count": 47,
   "id": "f845c54e",
   "metadata": {},
   "outputs": [
    {
     "data": {
      "text/plain": [
       "'16:42:55.253765'"
      ]
     },
     "execution_count": 47,
     "metadata": {},
     "output_type": "execute_result"
    }
   ],
   "source": [
    "#Return a time string controlled by the format\n",
    "t1.strftime(\"%H:%M:%S.%f\")"
   ]
  },
  {
   "cell_type": "code",
   "execution_count": 48,
   "id": "88fc47e6",
   "metadata": {},
   "outputs": [],
   "source": [
    "# Returns dst - self.tzinfo.dst(None)\n",
    "t1.dst()"
   ]
  },
  {
   "cell_type": "code",
   "execution_count": 49,
   "id": "f0b31721",
   "metadata": {},
   "outputs": [],
   "source": [
    "# Returns self.tzinfo.tzname(None)\n",
    "t1.tzname()"
   ]
  }
 ],
 "metadata": {
  "kernelspec": {
   "display_name": "Python 3 (ipykernel)",
   "language": "python",
   "name": "python3"
  },
  "language_info": {
   "codemirror_mode": {
    "name": "ipython",
    "version": 3
   },
   "file_extension": ".py",
   "mimetype": "text/x-python",
   "name": "python",
   "nbconvert_exporter": "python",
   "pygments_lexer": "ipython3",
   "version": "3.8.11"
  }
 },
 "nbformat": 4,
 "nbformat_minor": 5
}
