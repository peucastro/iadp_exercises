{
 "cells": [
  {
   "cell_type": "markdown",
   "metadata": {},
   "source": [
    "#### Import Pandas module as pd"
   ]
  },
  {
   "cell_type": "code",
   "execution_count": 1,
   "metadata": {},
   "outputs": [],
   "source": [
    "import pandas as pd"
   ]
  },
  {
   "cell_type": "markdown",
   "metadata": {},
   "source": [
    "#### Reads the .csv file 'gym.csv' using ';' as separator"
   ]
  },
  {
   "cell_type": "code",
   "execution_count": 2,
   "metadata": {},
   "outputs": [],
   "source": [
    "df = pd.read_csv('gym.csv', sep = ';', parse_dates=['date'])"
   ]
  },
  {
   "cell_type": "markdown",
   "metadata": {},
   "source": [
    "#### Shows the first n rows from the DataFrame (5 rows if the argument is ommited)"
   ]
  },
  {
   "cell_type": "code",
   "execution_count": 3,
   "metadata": {},
   "outputs": [
    {
     "data": {
      "text/html": [
       "<div>\n",
       "<style scoped>\n",
       "    .dataframe tbody tr th:only-of-type {\n",
       "        vertical-align: middle;\n",
       "    }\n",
       "\n",
       "    .dataframe tbody tr th {\n",
       "        vertical-align: top;\n",
       "    }\n",
       "\n",
       "    .dataframe thead th {\n",
       "        text-align: right;\n",
       "    }\n",
       "</style>\n",
       "<table border=\"1\" class=\"dataframe\">\n",
       "  <thead>\n",
       "    <tr style=\"text-align: right;\">\n",
       "      <th></th>\n",
       "      <th>id</th>\n",
       "      <th>name</th>\n",
       "      <th>date</th>\n",
       "      <th>height</th>\n",
       "      <th>weight</th>\n",
       "      <th>age</th>\n",
       "      <th>hours</th>\n",
       "      <th>status</th>\n",
       "      <th>children</th>\n",
       "      <th>sex</th>\n",
       "    </tr>\n",
       "  </thead>\n",
       "  <tbody>\n",
       "    <tr>\n",
       "      <th>0</th>\n",
       "      <td>1373913</td>\n",
       "      <td>Marisa Martins</td>\n",
       "      <td>2013-02-05</td>\n",
       "      <td>155</td>\n",
       "      <td>48</td>\n",
       "      <td>45</td>\n",
       "      <td>3</td>\n",
       "      <td>married</td>\n",
       "      <td>2</td>\n",
       "      <td>F</td>\n",
       "    </tr>\n",
       "    <tr>\n",
       "      <th>1</th>\n",
       "      <td>1109818</td>\n",
       "      <td>Rita Fonseca</td>\n",
       "      <td>2018-08-28</td>\n",
       "      <td>166</td>\n",
       "      <td>54</td>\n",
       "      <td>45</td>\n",
       "      <td>3</td>\n",
       "      <td>married</td>\n",
       "      <td>3</td>\n",
       "      <td>F</td>\n",
       "    </tr>\n",
       "    <tr>\n",
       "      <th>2</th>\n",
       "      <td>1158813</td>\n",
       "      <td>Joana Freitas</td>\n",
       "      <td>2013-10-21</td>\n",
       "      <td>150</td>\n",
       "      <td>42</td>\n",
       "      <td>52</td>\n",
       "      <td>3</td>\n",
       "      <td>widow</td>\n",
       "      <td>1</td>\n",
       "      <td>F</td>\n",
       "    </tr>\n",
       "  </tbody>\n",
       "</table>\n",
       "</div>"
      ],
      "text/plain": [
       "        id            name       date  height  weight  age  hours   status  \\\n",
       "0  1373913  Marisa Martins 2013-02-05     155      48   45      3  married   \n",
       "1  1109818    Rita Fonseca 2018-08-28     166      54   45      3  married   \n",
       "2  1158813   Joana Freitas 2013-10-21     150      42   52      3    widow   \n",
       "\n",
       "   children sex  \n",
       "0         2   F  \n",
       "1         3   F  \n",
       "2         1   F  "
      ]
     },
     "execution_count": 3,
     "metadata": {},
     "output_type": "execute_result"
    }
   ],
   "source": [
    "df.head(3)"
   ]
  },
  {
   "cell_type": "markdown",
   "metadata": {},
   "source": [
    "#### Shows the last n rows from the DataFrame (5 rows if the argument is ommited)"
   ]
  },
  {
   "cell_type": "code",
   "execution_count": 4,
   "metadata": {},
   "outputs": [
    {
     "data": {
      "text/html": [
       "<div>\n",
       "<style scoped>\n",
       "    .dataframe tbody tr th:only-of-type {\n",
       "        vertical-align: middle;\n",
       "    }\n",
       "\n",
       "    .dataframe tbody tr th {\n",
       "        vertical-align: top;\n",
       "    }\n",
       "\n",
       "    .dataframe thead th {\n",
       "        text-align: right;\n",
       "    }\n",
       "</style>\n",
       "<table border=\"1\" class=\"dataframe\">\n",
       "  <thead>\n",
       "    <tr style=\"text-align: right;\">\n",
       "      <th></th>\n",
       "      <th>id</th>\n",
       "      <th>name</th>\n",
       "      <th>date</th>\n",
       "      <th>height</th>\n",
       "      <th>weight</th>\n",
       "      <th>age</th>\n",
       "      <th>hours</th>\n",
       "      <th>status</th>\n",
       "      <th>children</th>\n",
       "      <th>sex</th>\n",
       "    </tr>\n",
       "  </thead>\n",
       "  <tbody>\n",
       "    <tr>\n",
       "      <th>57</th>\n",
       "      <td>1150114</td>\n",
       "      <td>Antonio Goncalves</td>\n",
       "      <td>2014-11-22</td>\n",
       "      <td>158</td>\n",
       "      <td>49</td>\n",
       "      <td>34</td>\n",
       "      <td>3</td>\n",
       "      <td>single</td>\n",
       "      <td>0</td>\n",
       "      <td>M</td>\n",
       "    </tr>\n",
       "    <tr>\n",
       "      <th>58</th>\n",
       "      <td>1658815</td>\n",
       "      <td>Manuel Freitas</td>\n",
       "      <td>2015-11-06</td>\n",
       "      <td>170</td>\n",
       "      <td>51</td>\n",
       "      <td>57</td>\n",
       "      <td>1</td>\n",
       "      <td>widow</td>\n",
       "      <td>2</td>\n",
       "      <td>M</td>\n",
       "    </tr>\n",
       "    <tr>\n",
       "      <th>59</th>\n",
       "      <td>1769504</td>\n",
       "      <td>Joao Tavares</td>\n",
       "      <td>2004-06-08</td>\n",
       "      <td>177</td>\n",
       "      <td>85</td>\n",
       "      <td>32</td>\n",
       "      <td>3</td>\n",
       "      <td>married</td>\n",
       "      <td>2</td>\n",
       "      <td>M</td>\n",
       "    </tr>\n",
       "  </tbody>\n",
       "</table>\n",
       "</div>"
      ],
      "text/plain": [
       "         id               name       date  height  weight  age  hours  \\\n",
       "57  1150114  Antonio Goncalves 2014-11-22     158      49   34      3   \n",
       "58  1658815     Manuel Freitas 2015-11-06     170      51   57      1   \n",
       "59  1769504       Joao Tavares 2004-06-08     177      85   32      3   \n",
       "\n",
       "     status  children sex  \n",
       "57   single         0   M  \n",
       "58    widow         2   M  \n",
       "59  married         2   M  "
      ]
     },
     "execution_count": 4,
     "metadata": {},
     "output_type": "execute_result"
    }
   ],
   "source": [
    "df.tail(3)"
   ]
  },
  {
   "cell_type": "markdown",
   "metadata": {},
   "source": [
    "#### Get the number of lines and columns of the DataFrame"
   ]
  },
  {
   "cell_type": "code",
   "execution_count": 5,
   "metadata": {},
   "outputs": [
    {
     "data": {
      "text/plain": [
       "(60, 10)"
      ]
     },
     "execution_count": 5,
     "metadata": {},
     "output_type": "execute_result"
    }
   ],
   "source": [
    "df.shape"
   ]
  },
  {
   "cell_type": "markdown",
   "metadata": {},
   "source": [
    "#### General info about the DataFrame"
   ]
  },
  {
   "cell_type": "code",
   "execution_count": 6,
   "metadata": {},
   "outputs": [
    {
     "name": "stdout",
     "output_type": "stream",
     "text": [
      "<class 'pandas.core.frame.DataFrame'>\n",
      "RangeIndex: 60 entries, 0 to 59\n",
      "Data columns (total 10 columns):\n",
      " #   Column    Non-Null Count  Dtype         \n",
      "---  ------    --------------  -----         \n",
      " 0   id        60 non-null     int64         \n",
      " 1   name      60 non-null     object        \n",
      " 2   date      60 non-null     datetime64[ns]\n",
      " 3   height    60 non-null     int64         \n",
      " 4   weight    60 non-null     int64         \n",
      " 5   age       60 non-null     int64         \n",
      " 6   hours     60 non-null     int64         \n",
      " 7   status    60 non-null     object        \n",
      " 8   children  60 non-null     int64         \n",
      " 9   sex       60 non-null     object        \n",
      "dtypes: datetime64[ns](1), int64(6), object(3)\n",
      "memory usage: 4.8+ KB\n"
     ]
    }
   ],
   "source": [
    "df.info()"
   ]
  },
  {
   "cell_type": "markdown",
   "metadata": {},
   "source": [
    "#### Get the type of data in each DataFrame column. Type object is Python string"
   ]
  },
  {
   "cell_type": "code",
   "execution_count": 7,
   "metadata": {
    "scrolled": true
   },
   "outputs": [
    {
     "data": {
      "text/plain": [
       "id                   int64\n",
       "name                object\n",
       "date        datetime64[ns]\n",
       "height               int64\n",
       "weight               int64\n",
       "age                  int64\n",
       "hours                int64\n",
       "status              object\n",
       "children             int64\n",
       "sex                 object\n",
       "dtype: object"
      ]
     },
     "execution_count": 7,
     "metadata": {},
     "output_type": "execute_result"
    }
   ],
   "source": [
    "df.dtypes"
   ]
  },
  {
   "cell_type": "markdown",
   "metadata": {},
   "source": [
    "#### Access the row with label 0. Returns a series"
   ]
  },
  {
   "cell_type": "code",
   "execution_count": 8,
   "metadata": {},
   "outputs": [
    {
     "data": {
      "text/plain": [
       "id                      1373913\n",
       "name             Marisa Martins\n",
       "date        2013-02-05 00:00:00\n",
       "height                      155\n",
       "weight                       48\n",
       "age                          45\n",
       "hours                         3\n",
       "status                  married\n",
       "children                      2\n",
       "sex                           F\n",
       "Name: 0, dtype: object"
      ]
     },
     "execution_count": 8,
     "metadata": {},
     "output_type": "execute_result"
    }
   ],
   "source": [
    "df.loc[0]"
   ]
  },
  {
   "cell_type": "code",
   "execution_count": 9,
   "metadata": {},
   "outputs": [
    {
     "data": {
      "text/plain": [
       "pandas.core.series.Series"
      ]
     },
     "execution_count": 9,
     "metadata": {},
     "output_type": "execute_result"
    }
   ],
   "source": [
    "type(df.loc[0])"
   ]
  },
  {
   "cell_type": "markdown",
   "metadata": {},
   "source": [
    "#### Access all the rows from column 'age'"
   ]
  },
  {
   "cell_type": "code",
   "execution_count": 10,
   "metadata": {},
   "outputs": [],
   "source": [
    "s = df.loc[:,'age']"
   ]
  },
  {
   "cell_type": "code",
   "execution_count": 11,
   "metadata": {},
   "outputs": [
    {
     "data": {
      "text/plain": [
       "0    45\n",
       "1    45\n",
       "2    52\n",
       "3    59\n",
       "4    43\n",
       "Name: age, dtype: int64"
      ]
     },
     "execution_count": 11,
     "metadata": {},
     "output_type": "execute_result"
    }
   ],
   "source": [
    "s.head()"
   ]
  },
  {
   "cell_type": "code",
   "execution_count": 12,
   "metadata": {},
   "outputs": [
    {
     "data": {
      "text/plain": [
       "pandas.core.series.Series"
      ]
     },
     "execution_count": 12,
     "metadata": {},
     "output_type": "execute_result"
    }
   ],
   "source": [
    "type(s)"
   ]
  },
  {
   "cell_type": "markdown",
   "metadata": {},
   "source": [
    "#### Access value in row with label 0 in column 'age'"
   ]
  },
  {
   "cell_type": "code",
   "execution_count": 13,
   "metadata": {},
   "outputs": [
    {
     "data": {
      "text/plain": [
       "45"
      ]
     },
     "execution_count": 13,
     "metadata": {},
     "output_type": "execute_result"
    }
   ],
   "source": [
    "df.loc[0,'age']"
   ]
  },
  {
   "cell_type": "markdown",
   "metadata": {},
   "source": [
    "#### Access the rows with labels 0, 2 and 4"
   ]
  },
  {
   "cell_type": "code",
   "execution_count": 14,
   "metadata": {
    "scrolled": true
   },
   "outputs": [
    {
     "data": {
      "text/html": [
       "<div>\n",
       "<style scoped>\n",
       "    .dataframe tbody tr th:only-of-type {\n",
       "        vertical-align: middle;\n",
       "    }\n",
       "\n",
       "    .dataframe tbody tr th {\n",
       "        vertical-align: top;\n",
       "    }\n",
       "\n",
       "    .dataframe thead th {\n",
       "        text-align: right;\n",
       "    }\n",
       "</style>\n",
       "<table border=\"1\" class=\"dataframe\">\n",
       "  <thead>\n",
       "    <tr style=\"text-align: right;\">\n",
       "      <th></th>\n",
       "      <th>id</th>\n",
       "      <th>name</th>\n",
       "      <th>date</th>\n",
       "      <th>height</th>\n",
       "      <th>weight</th>\n",
       "      <th>age</th>\n",
       "      <th>hours</th>\n",
       "      <th>status</th>\n",
       "      <th>children</th>\n",
       "      <th>sex</th>\n",
       "    </tr>\n",
       "  </thead>\n",
       "  <tbody>\n",
       "    <tr>\n",
       "      <th>0</th>\n",
       "      <td>1373913</td>\n",
       "      <td>Marisa Martins</td>\n",
       "      <td>2013-02-05</td>\n",
       "      <td>155</td>\n",
       "      <td>48</td>\n",
       "      <td>45</td>\n",
       "      <td>3</td>\n",
       "      <td>married</td>\n",
       "      <td>2</td>\n",
       "      <td>F</td>\n",
       "    </tr>\n",
       "    <tr>\n",
       "      <th>2</th>\n",
       "      <td>1158813</td>\n",
       "      <td>Joana Freitas</td>\n",
       "      <td>2013-10-21</td>\n",
       "      <td>150</td>\n",
       "      <td>42</td>\n",
       "      <td>52</td>\n",
       "      <td>3</td>\n",
       "      <td>widow</td>\n",
       "      <td>1</td>\n",
       "      <td>F</td>\n",
       "    </tr>\n",
       "    <tr>\n",
       "      <th>4</th>\n",
       "      <td>1974509</td>\n",
       "      <td>Francisco Fonseca</td>\n",
       "      <td>2009-08-22</td>\n",
       "      <td>162</td>\n",
       "      <td>52</td>\n",
       "      <td>43</td>\n",
       "      <td>2</td>\n",
       "      <td>married</td>\n",
       "      <td>1</td>\n",
       "      <td>M</td>\n",
       "    </tr>\n",
       "  </tbody>\n",
       "</table>\n",
       "</div>"
      ],
      "text/plain": [
       "        id               name       date  height  weight  age  hours   status  \\\n",
       "0  1373913     Marisa Martins 2013-02-05     155      48   45      3  married   \n",
       "2  1158813      Joana Freitas 2013-10-21     150      42   52      3    widow   \n",
       "4  1974509  Francisco Fonseca 2009-08-22     162      52   43      2  married   \n",
       "\n",
       "   children sex  \n",
       "0         2   F  \n",
       "2         1   F  \n",
       "4         1   M  "
      ]
     },
     "execution_count": 14,
     "metadata": {},
     "output_type": "execute_result"
    }
   ],
   "source": [
    "df.loc[[0,2,4]]"
   ]
  },
  {
   "cell_type": "markdown",
   "metadata": {},
   "source": [
    "#### Access values in rows with labels 0 and 2 and columns 'name' and 'age'"
   ]
  },
  {
   "cell_type": "code",
   "execution_count": 15,
   "metadata": {
    "scrolled": true
   },
   "outputs": [
    {
     "data": {
      "text/html": [
       "<div>\n",
       "<style scoped>\n",
       "    .dataframe tbody tr th:only-of-type {\n",
       "        vertical-align: middle;\n",
       "    }\n",
       "\n",
       "    .dataframe tbody tr th {\n",
       "        vertical-align: top;\n",
       "    }\n",
       "\n",
       "    .dataframe thead th {\n",
       "        text-align: right;\n",
       "    }\n",
       "</style>\n",
       "<table border=\"1\" class=\"dataframe\">\n",
       "  <thead>\n",
       "    <tr style=\"text-align: right;\">\n",
       "      <th></th>\n",
       "      <th>name</th>\n",
       "      <th>age</th>\n",
       "    </tr>\n",
       "  </thead>\n",
       "  <tbody>\n",
       "    <tr>\n",
       "      <th>0</th>\n",
       "      <td>Marisa Martins</td>\n",
       "      <td>45</td>\n",
       "    </tr>\n",
       "    <tr>\n",
       "      <th>2</th>\n",
       "      <td>Joana Freitas</td>\n",
       "      <td>52</td>\n",
       "    </tr>\n",
       "  </tbody>\n",
       "</table>\n",
       "</div>"
      ],
      "text/plain": [
       "             name  age\n",
       "0  Marisa Martins   45\n",
       "2   Joana Freitas   52"
      ]
     },
     "execution_count": 15,
     "metadata": {},
     "output_type": "execute_result"
    }
   ],
   "source": [
    "df.loc[[0,2],['name', 'age']]"
   ]
  },
  {
   "cell_type": "markdown",
   "metadata": {},
   "source": [
    "#### Access the values between rows with labels 0 and 2 and between columns 'name' and 'age'"
   ]
  },
  {
   "cell_type": "code",
   "execution_count": 16,
   "metadata": {
    "scrolled": true
   },
   "outputs": [
    {
     "data": {
      "text/html": [
       "<div>\n",
       "<style scoped>\n",
       "    .dataframe tbody tr th:only-of-type {\n",
       "        vertical-align: middle;\n",
       "    }\n",
       "\n",
       "    .dataframe tbody tr th {\n",
       "        vertical-align: top;\n",
       "    }\n",
       "\n",
       "    .dataframe thead th {\n",
       "        text-align: right;\n",
       "    }\n",
       "</style>\n",
       "<table border=\"1\" class=\"dataframe\">\n",
       "  <thead>\n",
       "    <tr style=\"text-align: right;\">\n",
       "      <th></th>\n",
       "      <th>name</th>\n",
       "      <th>date</th>\n",
       "      <th>height</th>\n",
       "      <th>weight</th>\n",
       "      <th>age</th>\n",
       "    </tr>\n",
       "  </thead>\n",
       "  <tbody>\n",
       "    <tr>\n",
       "      <th>0</th>\n",
       "      <td>Marisa Martins</td>\n",
       "      <td>2013-02-05</td>\n",
       "      <td>155</td>\n",
       "      <td>48</td>\n",
       "      <td>45</td>\n",
       "    </tr>\n",
       "    <tr>\n",
       "      <th>1</th>\n",
       "      <td>Rita Fonseca</td>\n",
       "      <td>2018-08-28</td>\n",
       "      <td>166</td>\n",
       "      <td>54</td>\n",
       "      <td>45</td>\n",
       "    </tr>\n",
       "    <tr>\n",
       "      <th>2</th>\n",
       "      <td>Joana Freitas</td>\n",
       "      <td>2013-10-21</td>\n",
       "      <td>150</td>\n",
       "      <td>42</td>\n",
       "      <td>52</td>\n",
       "    </tr>\n",
       "  </tbody>\n",
       "</table>\n",
       "</div>"
      ],
      "text/plain": [
       "             name       date  height  weight  age\n",
       "0  Marisa Martins 2013-02-05     155      48   45\n",
       "1    Rita Fonseca 2018-08-28     166      54   45\n",
       "2   Joana Freitas 2013-10-21     150      42   52"
      ]
     },
     "execution_count": 16,
     "metadata": {},
     "output_type": "execute_result"
    }
   ],
   "source": [
    "df.loc[0:2,'name':'age']"
   ]
  },
  {
   "cell_type": "markdown",
   "metadata": {},
   "source": [
    "#### Access the value in row 1 and column 1"
   ]
  },
  {
   "cell_type": "code",
   "execution_count": 17,
   "metadata": {},
   "outputs": [
    {
     "data": {
      "text/plain": [
       "'Rita Fonseca'"
      ]
     },
     "execution_count": 17,
     "metadata": {},
     "output_type": "execute_result"
    }
   ],
   "source": [
    "df.iloc[1,1]"
   ]
  },
  {
   "cell_type": "markdown",
   "metadata": {},
   "source": [
    "#### Access to all the values in row 1 "
   ]
  },
  {
   "cell_type": "code",
   "execution_count": 18,
   "metadata": {},
   "outputs": [
    {
     "data": {
      "text/plain": [
       "id                      1109818\n",
       "name               Rita Fonseca\n",
       "date        2018-08-28 00:00:00\n",
       "height                      166\n",
       "weight                       54\n",
       "age                          45\n",
       "hours                         3\n",
       "status                  married\n",
       "children                      3\n",
       "sex                           F\n",
       "Name: 1, dtype: object"
      ]
     },
     "execution_count": 18,
     "metadata": {},
     "output_type": "execute_result"
    }
   ],
   "source": [
    "df.iloc[1,:]"
   ]
  },
  {
   "cell_type": "markdown",
   "metadata": {},
   "source": [
    "#### Access rows between 0 and 2 and columns between 2 and 4"
   ]
  },
  {
   "cell_type": "code",
   "execution_count": 19,
   "metadata": {
    "scrolled": true
   },
   "outputs": [
    {
     "data": {
      "text/html": [
       "<div>\n",
       "<style scoped>\n",
       "    .dataframe tbody tr th:only-of-type {\n",
       "        vertical-align: middle;\n",
       "    }\n",
       "\n",
       "    .dataframe tbody tr th {\n",
       "        vertical-align: top;\n",
       "    }\n",
       "\n",
       "    .dataframe thead th {\n",
       "        text-align: right;\n",
       "    }\n",
       "</style>\n",
       "<table border=\"1\" class=\"dataframe\">\n",
       "  <thead>\n",
       "    <tr style=\"text-align: right;\">\n",
       "      <th></th>\n",
       "      <th>date</th>\n",
       "      <th>height</th>\n",
       "    </tr>\n",
       "  </thead>\n",
       "  <tbody>\n",
       "    <tr>\n",
       "      <th>0</th>\n",
       "      <td>2013-02-05</td>\n",
       "      <td>155</td>\n",
       "    </tr>\n",
       "    <tr>\n",
       "      <th>1</th>\n",
       "      <td>2018-08-28</td>\n",
       "      <td>166</td>\n",
       "    </tr>\n",
       "  </tbody>\n",
       "</table>\n",
       "</div>"
      ],
      "text/plain": [
       "        date  height\n",
       "0 2013-02-05     155\n",
       "1 2018-08-28     166"
      ]
     },
     "execution_count": 19,
     "metadata": {},
     "output_type": "execute_result"
    }
   ],
   "source": [
    "df.iloc[0:2,2:4]"
   ]
  },
  {
   "cell_type": "markdown",
   "metadata": {},
   "source": [
    "#### Row index, by default an integer row number"
   ]
  },
  {
   "cell_type": "code",
   "execution_count": 20,
   "metadata": {
    "scrolled": true
   },
   "outputs": [
    {
     "data": {
      "text/plain": [
       "RangeIndex(start=0, stop=60, step=1)"
      ]
     },
     "execution_count": 20,
     "metadata": {},
     "output_type": "execute_result"
    }
   ],
   "source": [
    "df.index"
   ]
  },
  {
   "cell_type": "markdown",
   "metadata": {},
   "source": [
    "#### Column index - column names"
   ]
  },
  {
   "cell_type": "code",
   "execution_count": 21,
   "metadata": {},
   "outputs": [
    {
     "data": {
      "text/plain": [
       "Index(['id', 'name', 'date', 'height', 'weight', 'age', 'hours', 'status',\n",
       "       'children', 'sex'],\n",
       "      dtype='object')"
      ]
     },
     "execution_count": 21,
     "metadata": {},
     "output_type": "execute_result"
    }
   ],
   "source": [
    "df.columns"
   ]
  },
  {
   "cell_type": "markdown",
   "metadata": {},
   "source": [
    "#### Set column 'name' as the new index"
   ]
  },
  {
   "cell_type": "code",
   "execution_count": 22,
   "metadata": {},
   "outputs": [],
   "source": [
    "df.set_index('name', inplace=True)"
   ]
  },
  {
   "cell_type": "markdown",
   "metadata": {},
   "source": [
    "#### The values in a row can be accessed using the index of the row"
   ]
  },
  {
   "cell_type": "code",
   "execution_count": 23,
   "metadata": {},
   "outputs": [
    {
     "data": {
      "text/plain": [
       "id                      1871004\n",
       "date        2004-09-17 00:00:00\n",
       "height                      153\n",
       "weight                       67\n",
       "age                          26\n",
       "hours                         7\n",
       "status                  married\n",
       "children                      1\n",
       "sex                           M\n",
       "Name: Jose Carvalho, dtype: object"
      ]
     },
     "execution_count": 23,
     "metadata": {},
     "output_type": "execute_result"
    }
   ],
   "source": [
    "df.loc['Jose Carvalho']"
   ]
  },
  {
   "cell_type": "markdown",
   "metadata": {},
   "source": [
    "#### The DataFrame index can be sorted"
   ]
  },
  {
   "cell_type": "code",
   "execution_count": 24,
   "metadata": {
    "scrolled": true
   },
   "outputs": [
    {
     "data": {
      "text/html": [
       "<div>\n",
       "<style scoped>\n",
       "    .dataframe tbody tr th:only-of-type {\n",
       "        vertical-align: middle;\n",
       "    }\n",
       "\n",
       "    .dataframe tbody tr th {\n",
       "        vertical-align: top;\n",
       "    }\n",
       "\n",
       "    .dataframe thead th {\n",
       "        text-align: right;\n",
       "    }\n",
       "</style>\n",
       "<table border=\"1\" class=\"dataframe\">\n",
       "  <thead>\n",
       "    <tr style=\"text-align: right;\">\n",
       "      <th></th>\n",
       "      <th>id</th>\n",
       "      <th>date</th>\n",
       "      <th>height</th>\n",
       "      <th>weight</th>\n",
       "      <th>age</th>\n",
       "      <th>hours</th>\n",
       "      <th>status</th>\n",
       "      <th>children</th>\n",
       "      <th>sex</th>\n",
       "    </tr>\n",
       "    <tr>\n",
       "      <th>name</th>\n",
       "      <th></th>\n",
       "      <th></th>\n",
       "      <th></th>\n",
       "      <th></th>\n",
       "      <th></th>\n",
       "      <th></th>\n",
       "      <th></th>\n",
       "      <th></th>\n",
       "      <th></th>\n",
       "    </tr>\n",
       "  </thead>\n",
       "  <tbody>\n",
       "    <tr>\n",
       "      <th>Susana Marinho</th>\n",
       "      <td>1521112</td>\n",
       "      <td>2012-08-18</td>\n",
       "      <td>174</td>\n",
       "      <td>60</td>\n",
       "      <td>35</td>\n",
       "      <td>5</td>\n",
       "      <td>single</td>\n",
       "      <td>0</td>\n",
       "      <td>F</td>\n",
       "    </tr>\n",
       "    <tr>\n",
       "      <th>Susana Madeira</th>\n",
       "      <td>1436908</td>\n",
       "      <td>2008-09-05</td>\n",
       "      <td>160</td>\n",
       "      <td>49</td>\n",
       "      <td>56</td>\n",
       "      <td>2</td>\n",
       "      <td>divorced</td>\n",
       "      <td>2</td>\n",
       "      <td>F</td>\n",
       "    </tr>\n",
       "    <tr>\n",
       "      <th>Susana Goncalves</th>\n",
       "      <td>1170413</td>\n",
       "      <td>2013-07-03</td>\n",
       "      <td>157</td>\n",
       "      <td>65</td>\n",
       "      <td>40</td>\n",
       "      <td>2</td>\n",
       "      <td>married</td>\n",
       "      <td>5</td>\n",
       "      <td>F</td>\n",
       "    </tr>\n",
       "    <tr>\n",
       "      <th>Sonia Pinho</th>\n",
       "      <td>1337319</td>\n",
       "      <td>2019-11-02</td>\n",
       "      <td>177</td>\n",
       "      <td>63</td>\n",
       "      <td>34</td>\n",
       "      <td>5</td>\n",
       "      <td>single</td>\n",
       "      <td>0</td>\n",
       "      <td>F</td>\n",
       "    </tr>\n",
       "    <tr>\n",
       "      <th>Sonia Pereira</th>\n",
       "      <td>1374905</td>\n",
       "      <td>2005-10-17</td>\n",
       "      <td>178</td>\n",
       "      <td>94</td>\n",
       "      <td>37</td>\n",
       "      <td>3</td>\n",
       "      <td>married</td>\n",
       "      <td>3</td>\n",
       "      <td>F</td>\n",
       "    </tr>\n",
       "    <tr>\n",
       "      <th>Sonia Marinho</th>\n",
       "      <td>1564109</td>\n",
       "      <td>2009-06-11</td>\n",
       "      <td>156</td>\n",
       "      <td>46</td>\n",
       "      <td>41</td>\n",
       "      <td>2</td>\n",
       "      <td>married</td>\n",
       "      <td>3</td>\n",
       "      <td>F</td>\n",
       "    </tr>\n",
       "    <tr>\n",
       "      <th>Sonia Goncalves</th>\n",
       "      <td>1471416</td>\n",
       "      <td>2016-07-05</td>\n",
       "      <td>170</td>\n",
       "      <td>52</td>\n",
       "      <td>43</td>\n",
       "      <td>3</td>\n",
       "      <td>married</td>\n",
       "      <td>2</td>\n",
       "      <td>F</td>\n",
       "    </tr>\n",
       "    <tr>\n",
       "      <th>Sonia Fonseca</th>\n",
       "      <td>1320306</td>\n",
       "      <td>2006-12-09</td>\n",
       "      <td>152</td>\n",
       "      <td>46</td>\n",
       "      <td>37</td>\n",
       "      <td>4</td>\n",
       "      <td>married</td>\n",
       "      <td>1</td>\n",
       "      <td>F</td>\n",
       "    </tr>\n",
       "    <tr>\n",
       "      <th>Rita Madeira</th>\n",
       "      <td>1204821</td>\n",
       "      <td>2021-11-06</td>\n",
       "      <td>151</td>\n",
       "      <td>45</td>\n",
       "      <td>44</td>\n",
       "      <td>2</td>\n",
       "      <td>married</td>\n",
       "      <td>2</td>\n",
       "      <td>F</td>\n",
       "    </tr>\n",
       "    <tr>\n",
       "      <th>Rita Fonseca</th>\n",
       "      <td>1109818</td>\n",
       "      <td>2018-08-28</td>\n",
       "      <td>166</td>\n",
       "      <td>54</td>\n",
       "      <td>45</td>\n",
       "      <td>3</td>\n",
       "      <td>married</td>\n",
       "      <td>3</td>\n",
       "      <td>F</td>\n",
       "    </tr>\n",
       "    <tr>\n",
       "      <th>Rita Cruz</th>\n",
       "      <td>1930916</td>\n",
       "      <td>2016-10-11</td>\n",
       "      <td>168</td>\n",
       "      <td>52</td>\n",
       "      <td>56</td>\n",
       "      <td>3</td>\n",
       "      <td>married</td>\n",
       "      <td>2</td>\n",
       "      <td>F</td>\n",
       "    </tr>\n",
       "    <tr>\n",
       "      <th>Pedro Madeira</th>\n",
       "      <td>1610119</td>\n",
       "      <td>2019-05-19</td>\n",
       "      <td>163</td>\n",
       "      <td>53</td>\n",
       "      <td>28</td>\n",
       "      <td>5</td>\n",
       "      <td>married</td>\n",
       "      <td>4</td>\n",
       "      <td>M</td>\n",
       "    </tr>\n",
       "    <tr>\n",
       "      <th>Pedro Goncalves</th>\n",
       "      <td>1776804</td>\n",
       "      <td>2004-09-03</td>\n",
       "      <td>156</td>\n",
       "      <td>46</td>\n",
       "      <td>32</td>\n",
       "      <td>5</td>\n",
       "      <td>single</td>\n",
       "      <td>0</td>\n",
       "      <td>M</td>\n",
       "    </tr>\n",
       "    <tr>\n",
       "      <th>Pedro Fonseca</th>\n",
       "      <td>1065208</td>\n",
       "      <td>2008-09-02</td>\n",
       "      <td>153</td>\n",
       "      <td>80</td>\n",
       "      <td>49</td>\n",
       "      <td>1</td>\n",
       "      <td>married</td>\n",
       "      <td>2</td>\n",
       "      <td>M</td>\n",
       "    </tr>\n",
       "    <tr>\n",
       "      <th>Pedro Cruz</th>\n",
       "      <td>1221721</td>\n",
       "      <td>2021-11-08</td>\n",
       "      <td>161</td>\n",
       "      <td>50</td>\n",
       "      <td>43</td>\n",
       "      <td>3</td>\n",
       "      <td>single</td>\n",
       "      <td>1</td>\n",
       "      <td>M</td>\n",
       "    </tr>\n",
       "    <tr>\n",
       "      <th>Marisa Martins</th>\n",
       "      <td>1373913</td>\n",
       "      <td>2013-02-05</td>\n",
       "      <td>155</td>\n",
       "      <td>48</td>\n",
       "      <td>45</td>\n",
       "      <td>3</td>\n",
       "      <td>married</td>\n",
       "      <td>2</td>\n",
       "      <td>F</td>\n",
       "    </tr>\n",
       "    <tr>\n",
       "      <th>Marisa Cruz</th>\n",
       "      <td>1223600</td>\n",
       "      <td>2000-10-16</td>\n",
       "      <td>171</td>\n",
       "      <td>61</td>\n",
       "      <td>42</td>\n",
       "      <td>4</td>\n",
       "      <td>married</td>\n",
       "      <td>2</td>\n",
       "      <td>F</td>\n",
       "    </tr>\n",
       "    <tr>\n",
       "      <th>Manuel Pinho</th>\n",
       "      <td>1315817</td>\n",
       "      <td>2017-12-23</td>\n",
       "      <td>179</td>\n",
       "      <td>58</td>\n",
       "      <td>29</td>\n",
       "      <td>5</td>\n",
       "      <td>single</td>\n",
       "      <td>0</td>\n",
       "      <td>M</td>\n",
       "    </tr>\n",
       "    <tr>\n",
       "      <th>Manuel Martins</th>\n",
       "      <td>1767703</td>\n",
       "      <td>2003-01-25</td>\n",
       "      <td>179</td>\n",
       "      <td>85</td>\n",
       "      <td>24</td>\n",
       "      <td>6</td>\n",
       "      <td>single</td>\n",
       "      <td>0</td>\n",
       "      <td>M</td>\n",
       "    </tr>\n",
       "    <tr>\n",
       "      <th>Manuel Marinho</th>\n",
       "      <td>1417018</td>\n",
       "      <td>2018-06-20</td>\n",
       "      <td>173</td>\n",
       "      <td>57</td>\n",
       "      <td>40</td>\n",
       "      <td>3</td>\n",
       "      <td>divorced</td>\n",
       "      <td>2</td>\n",
       "      <td>M</td>\n",
       "    </tr>\n",
       "    <tr>\n",
       "      <th>Manuel Madeira</th>\n",
       "      <td>1098118</td>\n",
       "      <td>2018-06-30</td>\n",
       "      <td>165</td>\n",
       "      <td>55</td>\n",
       "      <td>34</td>\n",
       "      <td>4</td>\n",
       "      <td>married</td>\n",
       "      <td>1</td>\n",
       "      <td>M</td>\n",
       "    </tr>\n",
       "    <tr>\n",
       "      <th>Manuel Freitas</th>\n",
       "      <td>1658815</td>\n",
       "      <td>2015-11-06</td>\n",
       "      <td>170</td>\n",
       "      <td>51</td>\n",
       "      <td>57</td>\n",
       "      <td>1</td>\n",
       "      <td>widow</td>\n",
       "      <td>2</td>\n",
       "      <td>M</td>\n",
       "    </tr>\n",
       "    <tr>\n",
       "      <th>Manuel Fonseca</th>\n",
       "      <td>1373707</td>\n",
       "      <td>2007-09-24</td>\n",
       "      <td>175</td>\n",
       "      <td>102</td>\n",
       "      <td>40</td>\n",
       "      <td>3</td>\n",
       "      <td>married</td>\n",
       "      <td>1</td>\n",
       "      <td>M</td>\n",
       "    </tr>\n",
       "    <tr>\n",
       "      <th>Manuel Cruz</th>\n",
       "      <td>1710710</td>\n",
       "      <td>2010-11-27</td>\n",
       "      <td>178</td>\n",
       "      <td>55</td>\n",
       "      <td>44</td>\n",
       "      <td>3</td>\n",
       "      <td>married</td>\n",
       "      <td>2</td>\n",
       "      <td>M</td>\n",
       "    </tr>\n",
       "    <tr>\n",
       "      <th>Manuel Carvalho</th>\n",
       "      <td>1235914</td>\n",
       "      <td>2014-08-27</td>\n",
       "      <td>158</td>\n",
       "      <td>45</td>\n",
       "      <td>38</td>\n",
       "      <td>3</td>\n",
       "      <td>married</td>\n",
       "      <td>2</td>\n",
       "      <td>M</td>\n",
       "    </tr>\n",
       "    <tr>\n",
       "      <th>Jose Fonseca</th>\n",
       "      <td>1359417</td>\n",
       "      <td>2017-10-28</td>\n",
       "      <td>155</td>\n",
       "      <td>68</td>\n",
       "      <td>41</td>\n",
       "      <td>3</td>\n",
       "      <td>married</td>\n",
       "      <td>0</td>\n",
       "      <td>M</td>\n",
       "    </tr>\n",
       "    <tr>\n",
       "      <th>Jose Cruz</th>\n",
       "      <td>1068508</td>\n",
       "      <td>2008-12-02</td>\n",
       "      <td>177</td>\n",
       "      <td>90</td>\n",
       "      <td>27</td>\n",
       "      <td>6</td>\n",
       "      <td>married</td>\n",
       "      <td>0</td>\n",
       "      <td>M</td>\n",
       "    </tr>\n",
       "    <tr>\n",
       "      <th>Jose Carvalho</th>\n",
       "      <td>1871004</td>\n",
       "      <td>2004-09-17</td>\n",
       "      <td>153</td>\n",
       "      <td>67</td>\n",
       "      <td>26</td>\n",
       "      <td>7</td>\n",
       "      <td>married</td>\n",
       "      <td>1</td>\n",
       "      <td>M</td>\n",
       "    </tr>\n",
       "    <tr>\n",
       "      <th>Joao Tavares</th>\n",
       "      <td>1769504</td>\n",
       "      <td>2004-06-08</td>\n",
       "      <td>177</td>\n",
       "      <td>85</td>\n",
       "      <td>32</td>\n",
       "      <td>3</td>\n",
       "      <td>married</td>\n",
       "      <td>2</td>\n",
       "      <td>M</td>\n",
       "    </tr>\n",
       "    <tr>\n",
       "      <th>Joao Pinho</th>\n",
       "      <td>1152520</td>\n",
       "      <td>2020-11-29</td>\n",
       "      <td>154</td>\n",
       "      <td>66</td>\n",
       "      <td>55</td>\n",
       "      <td>1</td>\n",
       "      <td>single</td>\n",
       "      <td>0</td>\n",
       "      <td>M</td>\n",
       "    </tr>\n",
       "    <tr>\n",
       "      <th>Joao Madeira</th>\n",
       "      <td>1286112</td>\n",
       "      <td>2012-08-19</td>\n",
       "      <td>152</td>\n",
       "      <td>78</td>\n",
       "      <td>29</td>\n",
       "      <td>6</td>\n",
       "      <td>single</td>\n",
       "      <td>1</td>\n",
       "      <td>M</td>\n",
       "    </tr>\n",
       "    <tr>\n",
       "      <th>Joao Freitas</th>\n",
       "      <td>1642316</td>\n",
       "      <td>2016-10-23</td>\n",
       "      <td>165</td>\n",
       "      <td>50</td>\n",
       "      <td>54</td>\n",
       "      <td>3</td>\n",
       "      <td>married</td>\n",
       "      <td>2</td>\n",
       "      <td>M</td>\n",
       "    </tr>\n",
       "    <tr>\n",
       "      <th>Joana Pereira</th>\n",
       "      <td>1147413</td>\n",
       "      <td>2013-03-24</td>\n",
       "      <td>162</td>\n",
       "      <td>49</td>\n",
       "      <td>34</td>\n",
       "      <td>5</td>\n",
       "      <td>married</td>\n",
       "      <td>2</td>\n",
       "      <td>F</td>\n",
       "    </tr>\n",
       "    <tr>\n",
       "      <th>Joana Marinho</th>\n",
       "      <td>1466415</td>\n",
       "      <td>2015-11-26</td>\n",
       "      <td>164</td>\n",
       "      <td>51</td>\n",
       "      <td>57</td>\n",
       "      <td>1</td>\n",
       "      <td>married</td>\n",
       "      <td>3</td>\n",
       "      <td>F</td>\n",
       "    </tr>\n",
       "    <tr>\n",
       "      <th>Joana Goncalves</th>\n",
       "      <td>1566515</td>\n",
       "      <td>2015-11-16</td>\n",
       "      <td>161</td>\n",
       "      <td>49</td>\n",
       "      <td>59</td>\n",
       "      <td>2</td>\n",
       "      <td>married</td>\n",
       "      <td>2</td>\n",
       "      <td>F</td>\n",
       "    </tr>\n",
       "    <tr>\n",
       "      <th>Joana Freitas</th>\n",
       "      <td>1158813</td>\n",
       "      <td>2013-10-21</td>\n",
       "      <td>150</td>\n",
       "      <td>42</td>\n",
       "      <td>52</td>\n",
       "      <td>3</td>\n",
       "      <td>widow</td>\n",
       "      <td>1</td>\n",
       "      <td>F</td>\n",
       "    </tr>\n",
       "    <tr>\n",
       "      <th>Joana Carvalho</th>\n",
       "      <td>1758412</td>\n",
       "      <td>2012-09-08</td>\n",
       "      <td>174</td>\n",
       "      <td>59</td>\n",
       "      <td>37</td>\n",
       "      <td>3</td>\n",
       "      <td>married</td>\n",
       "      <td>2</td>\n",
       "      <td>F</td>\n",
       "    </tr>\n",
       "    <tr>\n",
       "      <th>Francisco Pinho</th>\n",
       "      <td>1294215</td>\n",
       "      <td>2015-08-25</td>\n",
       "      <td>154</td>\n",
       "      <td>58</td>\n",
       "      <td>23</td>\n",
       "      <td>6</td>\n",
       "      <td>single</td>\n",
       "      <td>3</td>\n",
       "      <td>M</td>\n",
       "    </tr>\n",
       "    <tr>\n",
       "      <th>Francisco Pereira</th>\n",
       "      <td>1953503</td>\n",
       "      <td>2003-03-04</td>\n",
       "      <td>170</td>\n",
       "      <td>79</td>\n",
       "      <td>49</td>\n",
       "      <td>2</td>\n",
       "      <td>married</td>\n",
       "      <td>1</td>\n",
       "      <td>M</td>\n",
       "    </tr>\n",
       "    <tr>\n",
       "      <th>Francisco Martins</th>\n",
       "      <td>1410714</td>\n",
       "      <td>2014-11-25</td>\n",
       "      <td>153</td>\n",
       "      <td>58</td>\n",
       "      <td>24</td>\n",
       "      <td>7</td>\n",
       "      <td>single</td>\n",
       "      <td>0</td>\n",
       "      <td>M</td>\n",
       "    </tr>\n",
       "    <tr>\n",
       "      <th>Francisco Madeira</th>\n",
       "      <td>1692512</td>\n",
       "      <td>2012-09-24</td>\n",
       "      <td>154</td>\n",
       "      <td>49</td>\n",
       "      <td>23</td>\n",
       "      <td>8</td>\n",
       "      <td>single</td>\n",
       "      <td>0</td>\n",
       "      <td>M</td>\n",
       "    </tr>\n",
       "    <tr>\n",
       "      <th>Francisco Freitas</th>\n",
       "      <td>1560118</td>\n",
       "      <td>2018-07-15</td>\n",
       "      <td>152</td>\n",
       "      <td>53</td>\n",
       "      <td>41</td>\n",
       "      <td>3</td>\n",
       "      <td>married</td>\n",
       "      <td>2</td>\n",
       "      <td>M</td>\n",
       "    </tr>\n",
       "    <tr>\n",
       "      <th>Francisco Fonseca</th>\n",
       "      <td>1974509</td>\n",
       "      <td>2009-08-22</td>\n",
       "      <td>162</td>\n",
       "      <td>52</td>\n",
       "      <td>43</td>\n",
       "      <td>2</td>\n",
       "      <td>married</td>\n",
       "      <td>1</td>\n",
       "      <td>M</td>\n",
       "    </tr>\n",
       "    <tr>\n",
       "      <th>Francisco Carvalho</th>\n",
       "      <td>1653302</td>\n",
       "      <td>2002-05-09</td>\n",
       "      <td>150</td>\n",
       "      <td>66</td>\n",
       "      <td>23</td>\n",
       "      <td>7</td>\n",
       "      <td>single</td>\n",
       "      <td>0</td>\n",
       "      <td>M</td>\n",
       "    </tr>\n",
       "    <tr>\n",
       "      <th>Florbela Pereira</th>\n",
       "      <td>1705816</td>\n",
       "      <td>2016-12-08</td>\n",
       "      <td>171</td>\n",
       "      <td>58</td>\n",
       "      <td>32</td>\n",
       "      <td>6</td>\n",
       "      <td>married</td>\n",
       "      <td>0</td>\n",
       "      <td>F</td>\n",
       "    </tr>\n",
       "    <tr>\n",
       "      <th>Florbela Marinho</th>\n",
       "      <td>1305314</td>\n",
       "      <td>2014-04-24</td>\n",
       "      <td>154</td>\n",
       "      <td>62</td>\n",
       "      <td>36</td>\n",
       "      <td>4</td>\n",
       "      <td>married</td>\n",
       "      <td>1</td>\n",
       "      <td>F</td>\n",
       "    </tr>\n",
       "    <tr>\n",
       "      <th>Florbela Goncalves</th>\n",
       "      <td>1998809</td>\n",
       "      <td>2009-07-01</td>\n",
       "      <td>169</td>\n",
       "      <td>50</td>\n",
       "      <td>39</td>\n",
       "      <td>4</td>\n",
       "      <td>single</td>\n",
       "      <td>1</td>\n",
       "      <td>F</td>\n",
       "    </tr>\n",
       "    <tr>\n",
       "      <th>Florbela Freitas</th>\n",
       "      <td>1071208</td>\n",
       "      <td>2008-09-26</td>\n",
       "      <td>166</td>\n",
       "      <td>53</td>\n",
       "      <td>28</td>\n",
       "      <td>5</td>\n",
       "      <td>single</td>\n",
       "      <td>0</td>\n",
       "      <td>F</td>\n",
       "    </tr>\n",
       "    <tr>\n",
       "      <th>Florbela Cruz</th>\n",
       "      <td>1971506</td>\n",
       "      <td>2006-08-10</td>\n",
       "      <td>166</td>\n",
       "      <td>54</td>\n",
       "      <td>47</td>\n",
       "      <td>3</td>\n",
       "      <td>married</td>\n",
       "      <td>3</td>\n",
       "      <td>F</td>\n",
       "    </tr>\n",
       "    <tr>\n",
       "      <th>Catarina Pereira</th>\n",
       "      <td>1177213</td>\n",
       "      <td>2013-10-13</td>\n",
       "      <td>175</td>\n",
       "      <td>88</td>\n",
       "      <td>54</td>\n",
       "      <td>1</td>\n",
       "      <td>married</td>\n",
       "      <td>1</td>\n",
       "      <td>F</td>\n",
       "    </tr>\n",
       "    <tr>\n",
       "      <th>Catarina Marinho</th>\n",
       "      <td>1331601</td>\n",
       "      <td>2001-01-15</td>\n",
       "      <td>178</td>\n",
       "      <td>63</td>\n",
       "      <td>43</td>\n",
       "      <td>3</td>\n",
       "      <td>married</td>\n",
       "      <td>2</td>\n",
       "      <td>F</td>\n",
       "    </tr>\n",
       "    <tr>\n",
       "      <th>Catarina Madeira</th>\n",
       "      <td>1200611</td>\n",
       "      <td>2011-10-24</td>\n",
       "      <td>154</td>\n",
       "      <td>63</td>\n",
       "      <td>46</td>\n",
       "      <td>2</td>\n",
       "      <td>single</td>\n",
       "      <td>2</td>\n",
       "      <td>F</td>\n",
       "    </tr>\n",
       "    <tr>\n",
       "      <th>Catarina Goncalves</th>\n",
       "      <td>1055806</td>\n",
       "      <td>2006-09-21</td>\n",
       "      <td>168</td>\n",
       "      <td>53</td>\n",
       "      <td>59</td>\n",
       "      <td>2</td>\n",
       "      <td>widow</td>\n",
       "      <td>3</td>\n",
       "      <td>F</td>\n",
       "    </tr>\n",
       "    <tr>\n",
       "      <th>Catarina Freitas</th>\n",
       "      <td>1105321</td>\n",
       "      <td>2021-10-07</td>\n",
       "      <td>166</td>\n",
       "      <td>70</td>\n",
       "      <td>40</td>\n",
       "      <td>4</td>\n",
       "      <td>single</td>\n",
       "      <td>0</td>\n",
       "      <td>F</td>\n",
       "    </tr>\n",
       "    <tr>\n",
       "      <th>Catarina Cruz</th>\n",
       "      <td>1967921</td>\n",
       "      <td>2021-10-13</td>\n",
       "      <td>176</td>\n",
       "      <td>61</td>\n",
       "      <td>30</td>\n",
       "      <td>5</td>\n",
       "      <td>single</td>\n",
       "      <td>1</td>\n",
       "      <td>F</td>\n",
       "    </tr>\n",
       "    <tr>\n",
       "      <th>Catarina Carvalho</th>\n",
       "      <td>1058304</td>\n",
       "      <td>2004-09-25</td>\n",
       "      <td>150</td>\n",
       "      <td>45</td>\n",
       "      <td>59</td>\n",
       "      <td>2</td>\n",
       "      <td>married</td>\n",
       "      <td>4</td>\n",
       "      <td>F</td>\n",
       "    </tr>\n",
       "    <tr>\n",
       "      <th>Antonio Pereira</th>\n",
       "      <td>1811504</td>\n",
       "      <td>2004-02-16</td>\n",
       "      <td>154</td>\n",
       "      <td>61</td>\n",
       "      <td>51</td>\n",
       "      <td>2</td>\n",
       "      <td>married</td>\n",
       "      <td>1</td>\n",
       "      <td>M</td>\n",
       "    </tr>\n",
       "    <tr>\n",
       "      <th>Antonio Goncalves</th>\n",
       "      <td>1150114</td>\n",
       "      <td>2014-11-22</td>\n",
       "      <td>158</td>\n",
       "      <td>49</td>\n",
       "      <td>34</td>\n",
       "      <td>3</td>\n",
       "      <td>single</td>\n",
       "      <td>0</td>\n",
       "      <td>M</td>\n",
       "    </tr>\n",
       "    <tr>\n",
       "      <th>Antonio Fonseca</th>\n",
       "      <td>1867513</td>\n",
       "      <td>2013-07-06</td>\n",
       "      <td>164</td>\n",
       "      <td>53</td>\n",
       "      <td>41</td>\n",
       "      <td>3</td>\n",
       "      <td>married</td>\n",
       "      <td>3</td>\n",
       "      <td>M</td>\n",
       "    </tr>\n",
       "    <tr>\n",
       "      <th>Antonio Carvalho</th>\n",
       "      <td>1856501</td>\n",
       "      <td>2001-02-07</td>\n",
       "      <td>159</td>\n",
       "      <td>73</td>\n",
       "      <td>24</td>\n",
       "      <td>6</td>\n",
       "      <td>single</td>\n",
       "      <td>0</td>\n",
       "      <td>M</td>\n",
       "    </tr>\n",
       "  </tbody>\n",
       "</table>\n",
       "</div>"
      ],
      "text/plain": [
       "                         id       date  height  weight  age  hours    status  \\\n",
       "name                                                                           \n",
       "Susana Marinho      1521112 2012-08-18     174      60   35      5    single   \n",
       "Susana Madeira      1436908 2008-09-05     160      49   56      2  divorced   \n",
       "Susana Goncalves    1170413 2013-07-03     157      65   40      2   married   \n",
       "Sonia Pinho         1337319 2019-11-02     177      63   34      5    single   \n",
       "Sonia Pereira       1374905 2005-10-17     178      94   37      3   married   \n",
       "Sonia Marinho       1564109 2009-06-11     156      46   41      2   married   \n",
       "Sonia Goncalves     1471416 2016-07-05     170      52   43      3   married   \n",
       "Sonia Fonseca       1320306 2006-12-09     152      46   37      4   married   \n",
       "Rita Madeira        1204821 2021-11-06     151      45   44      2   married   \n",
       "Rita Fonseca        1109818 2018-08-28     166      54   45      3   married   \n",
       "Rita Cruz           1930916 2016-10-11     168      52   56      3   married   \n",
       "Pedro Madeira       1610119 2019-05-19     163      53   28      5   married   \n",
       "Pedro Goncalves     1776804 2004-09-03     156      46   32      5    single   \n",
       "Pedro Fonseca       1065208 2008-09-02     153      80   49      1   married   \n",
       "Pedro Cruz          1221721 2021-11-08     161      50   43      3    single   \n",
       "Marisa Martins      1373913 2013-02-05     155      48   45      3   married   \n",
       "Marisa Cruz         1223600 2000-10-16     171      61   42      4   married   \n",
       "Manuel Pinho        1315817 2017-12-23     179      58   29      5    single   \n",
       "Manuel Martins      1767703 2003-01-25     179      85   24      6    single   \n",
       "Manuel Marinho      1417018 2018-06-20     173      57   40      3  divorced   \n",
       "Manuel Madeira      1098118 2018-06-30     165      55   34      4   married   \n",
       "Manuel Freitas      1658815 2015-11-06     170      51   57      1     widow   \n",
       "Manuel Fonseca      1373707 2007-09-24     175     102   40      3   married   \n",
       "Manuel Cruz         1710710 2010-11-27     178      55   44      3   married   \n",
       "Manuel Carvalho     1235914 2014-08-27     158      45   38      3   married   \n",
       "Jose Fonseca        1359417 2017-10-28     155      68   41      3   married   \n",
       "Jose Cruz           1068508 2008-12-02     177      90   27      6   married   \n",
       "Jose Carvalho       1871004 2004-09-17     153      67   26      7   married   \n",
       "Joao Tavares        1769504 2004-06-08     177      85   32      3   married   \n",
       "Joao Pinho          1152520 2020-11-29     154      66   55      1    single   \n",
       "Joao Madeira        1286112 2012-08-19     152      78   29      6    single   \n",
       "Joao Freitas        1642316 2016-10-23     165      50   54      3   married   \n",
       "Joana Pereira       1147413 2013-03-24     162      49   34      5   married   \n",
       "Joana Marinho       1466415 2015-11-26     164      51   57      1   married   \n",
       "Joana Goncalves     1566515 2015-11-16     161      49   59      2   married   \n",
       "Joana Freitas       1158813 2013-10-21     150      42   52      3     widow   \n",
       "Joana Carvalho      1758412 2012-09-08     174      59   37      3   married   \n",
       "Francisco Pinho     1294215 2015-08-25     154      58   23      6    single   \n",
       "Francisco Pereira   1953503 2003-03-04     170      79   49      2   married   \n",
       "Francisco Martins   1410714 2014-11-25     153      58   24      7    single   \n",
       "Francisco Madeira   1692512 2012-09-24     154      49   23      8    single   \n",
       "Francisco Freitas   1560118 2018-07-15     152      53   41      3   married   \n",
       "Francisco Fonseca   1974509 2009-08-22     162      52   43      2   married   \n",
       "Francisco Carvalho  1653302 2002-05-09     150      66   23      7    single   \n",
       "Florbela Pereira    1705816 2016-12-08     171      58   32      6   married   \n",
       "Florbela Marinho    1305314 2014-04-24     154      62   36      4   married   \n",
       "Florbela Goncalves  1998809 2009-07-01     169      50   39      4    single   \n",
       "Florbela Freitas    1071208 2008-09-26     166      53   28      5    single   \n",
       "Florbela Cruz       1971506 2006-08-10     166      54   47      3   married   \n",
       "Catarina Pereira    1177213 2013-10-13     175      88   54      1   married   \n",
       "Catarina Marinho    1331601 2001-01-15     178      63   43      3   married   \n",
       "Catarina Madeira    1200611 2011-10-24     154      63   46      2    single   \n",
       "Catarina Goncalves  1055806 2006-09-21     168      53   59      2     widow   \n",
       "Catarina Freitas    1105321 2021-10-07     166      70   40      4    single   \n",
       "Catarina Cruz       1967921 2021-10-13     176      61   30      5    single   \n",
       "Catarina Carvalho   1058304 2004-09-25     150      45   59      2   married   \n",
       "Antonio Pereira     1811504 2004-02-16     154      61   51      2   married   \n",
       "Antonio Goncalves   1150114 2014-11-22     158      49   34      3    single   \n",
       "Antonio Fonseca     1867513 2013-07-06     164      53   41      3   married   \n",
       "Antonio Carvalho    1856501 2001-02-07     159      73   24      6    single   \n",
       "\n",
       "                    children sex  \n",
       "name                              \n",
       "Susana Marinho             0   F  \n",
       "Susana Madeira             2   F  \n",
       "Susana Goncalves           5   F  \n",
       "Sonia Pinho                0   F  \n",
       "Sonia Pereira              3   F  \n",
       "Sonia Marinho              3   F  \n",
       "Sonia Goncalves            2   F  \n",
       "Sonia Fonseca              1   F  \n",
       "Rita Madeira               2   F  \n",
       "Rita Fonseca               3   F  \n",
       "Rita Cruz                  2   F  \n",
       "Pedro Madeira              4   M  \n",
       "Pedro Goncalves            0   M  \n",
       "Pedro Fonseca              2   M  \n",
       "Pedro Cruz                 1   M  \n",
       "Marisa Martins             2   F  \n",
       "Marisa Cruz                2   F  \n",
       "Manuel Pinho               0   M  \n",
       "Manuel Martins             0   M  \n",
       "Manuel Marinho             2   M  \n",
       "Manuel Madeira             1   M  \n",
       "Manuel Freitas             2   M  \n",
       "Manuel Fonseca             1   M  \n",
       "Manuel Cruz                2   M  \n",
       "Manuel Carvalho            2   M  \n",
       "Jose Fonseca               0   M  \n",
       "Jose Cruz                  0   M  \n",
       "Jose Carvalho              1   M  \n",
       "Joao Tavares               2   M  \n",
       "Joao Pinho                 0   M  \n",
       "Joao Madeira               1   M  \n",
       "Joao Freitas               2   M  \n",
       "Joana Pereira              2   F  \n",
       "Joana Marinho              3   F  \n",
       "Joana Goncalves            2   F  \n",
       "Joana Freitas              1   F  \n",
       "Joana Carvalho             2   F  \n",
       "Francisco Pinho            3   M  \n",
       "Francisco Pereira          1   M  \n",
       "Francisco Martins          0   M  \n",
       "Francisco Madeira          0   M  \n",
       "Francisco Freitas          2   M  \n",
       "Francisco Fonseca          1   M  \n",
       "Francisco Carvalho         0   M  \n",
       "Florbela Pereira           0   F  \n",
       "Florbela Marinho           1   F  \n",
       "Florbela Goncalves         1   F  \n",
       "Florbela Freitas           0   F  \n",
       "Florbela Cruz              3   F  \n",
       "Catarina Pereira           1   F  \n",
       "Catarina Marinho           2   F  \n",
       "Catarina Madeira           2   F  \n",
       "Catarina Goncalves         3   F  \n",
       "Catarina Freitas           0   F  \n",
       "Catarina Cruz              1   F  \n",
       "Catarina Carvalho          4   F  \n",
       "Antonio Pereira            1   M  \n",
       "Antonio Goncalves          0   M  \n",
       "Antonio Fonseca            3   M  \n",
       "Antonio Carvalho           0   M  "
      ]
     },
     "execution_count": 24,
     "metadata": {},
     "output_type": "execute_result"
    }
   ],
   "source": [
    "df.sort_index(ascending=False)"
   ]
  },
  {
   "cell_type": "markdown",
   "metadata": {},
   "source": [
    "#### The DataFrame can be sorted by the values in another column"
   ]
  },
  {
   "cell_type": "code",
   "execution_count": 25,
   "metadata": {},
   "outputs": [
    {
     "data": {
      "text/html": [
       "<div>\n",
       "<style scoped>\n",
       "    .dataframe tbody tr th:only-of-type {\n",
       "        vertical-align: middle;\n",
       "    }\n",
       "\n",
       "    .dataframe tbody tr th {\n",
       "        vertical-align: top;\n",
       "    }\n",
       "\n",
       "    .dataframe thead th {\n",
       "        text-align: right;\n",
       "    }\n",
       "</style>\n",
       "<table border=\"1\" class=\"dataframe\">\n",
       "  <thead>\n",
       "    <tr style=\"text-align: right;\">\n",
       "      <th></th>\n",
       "      <th>id</th>\n",
       "      <th>date</th>\n",
       "      <th>height</th>\n",
       "      <th>weight</th>\n",
       "      <th>age</th>\n",
       "      <th>hours</th>\n",
       "      <th>status</th>\n",
       "      <th>children</th>\n",
       "      <th>sex</th>\n",
       "    </tr>\n",
       "    <tr>\n",
       "      <th>name</th>\n",
       "      <th></th>\n",
       "      <th></th>\n",
       "      <th></th>\n",
       "      <th></th>\n",
       "      <th></th>\n",
       "      <th></th>\n",
       "      <th></th>\n",
       "      <th></th>\n",
       "      <th></th>\n",
       "    </tr>\n",
       "  </thead>\n",
       "  <tbody>\n",
       "    <tr>\n",
       "      <th>Francisco Pinho</th>\n",
       "      <td>1294215</td>\n",
       "      <td>2015-08-25</td>\n",
       "      <td>154</td>\n",
       "      <td>58</td>\n",
       "      <td>23</td>\n",
       "      <td>6</td>\n",
       "      <td>single</td>\n",
       "      <td>3</td>\n",
       "      <td>M</td>\n",
       "    </tr>\n",
       "    <tr>\n",
       "      <th>Francisco Carvalho</th>\n",
       "      <td>1653302</td>\n",
       "      <td>2002-05-09</td>\n",
       "      <td>150</td>\n",
       "      <td>66</td>\n",
       "      <td>23</td>\n",
       "      <td>7</td>\n",
       "      <td>single</td>\n",
       "      <td>0</td>\n",
       "      <td>M</td>\n",
       "    </tr>\n",
       "    <tr>\n",
       "      <th>Francisco Madeira</th>\n",
       "      <td>1692512</td>\n",
       "      <td>2012-09-24</td>\n",
       "      <td>154</td>\n",
       "      <td>49</td>\n",
       "      <td>23</td>\n",
       "      <td>8</td>\n",
       "      <td>single</td>\n",
       "      <td>0</td>\n",
       "      <td>M</td>\n",
       "    </tr>\n",
       "    <tr>\n",
       "      <th>Antonio Carvalho</th>\n",
       "      <td>1856501</td>\n",
       "      <td>2001-02-07</td>\n",
       "      <td>159</td>\n",
       "      <td>73</td>\n",
       "      <td>24</td>\n",
       "      <td>6</td>\n",
       "      <td>single</td>\n",
       "      <td>0</td>\n",
       "      <td>M</td>\n",
       "    </tr>\n",
       "    <tr>\n",
       "      <th>Manuel Martins</th>\n",
       "      <td>1767703</td>\n",
       "      <td>2003-01-25</td>\n",
       "      <td>179</td>\n",
       "      <td>85</td>\n",
       "      <td>24</td>\n",
       "      <td>6</td>\n",
       "      <td>single</td>\n",
       "      <td>0</td>\n",
       "      <td>M</td>\n",
       "    </tr>\n",
       "  </tbody>\n",
       "</table>\n",
       "</div>"
      ],
      "text/plain": [
       "                         id       date  height  weight  age  hours  status  \\\n",
       "name                                                                         \n",
       "Francisco Pinho     1294215 2015-08-25     154      58   23      6  single   \n",
       "Francisco Carvalho  1653302 2002-05-09     150      66   23      7  single   \n",
       "Francisco Madeira   1692512 2012-09-24     154      49   23      8  single   \n",
       "Antonio Carvalho    1856501 2001-02-07     159      73   24      6  single   \n",
       "Manuel Martins      1767703 2003-01-25     179      85   24      6  single   \n",
       "\n",
       "                    children sex  \n",
       "name                              \n",
       "Francisco Pinho            3   M  \n",
       "Francisco Carvalho         0   M  \n",
       "Francisco Madeira          0   M  \n",
       "Antonio Carvalho           0   M  \n",
       "Manuel Martins             0   M  "
      ]
     },
     "execution_count": 25,
     "metadata": {},
     "output_type": "execute_result"
    }
   ],
   "source": [
    "df.sort_values('age').head(5)"
   ]
  },
  {
   "cell_type": "markdown",
   "metadata": {},
   "source": [
    "#### Reset the index to the default"
   ]
  },
  {
   "cell_type": "code",
   "execution_count": 26,
   "metadata": {},
   "outputs": [],
   "source": [
    "df.reset_index(inplace=True)"
   ]
  },
  {
   "cell_type": "markdown",
   "metadata": {},
   "source": [
    "#### Statistical functions can be used in DataFrame column series"
   ]
  },
  {
   "cell_type": "code",
   "execution_count": 27,
   "metadata": {
    "scrolled": true
   },
   "outputs": [
    {
     "data": {
      "text/plain": [
       "40.083333333333336"
      ]
     },
     "execution_count": 27,
     "metadata": {},
     "output_type": "execute_result"
    }
   ],
   "source": [
    "df['age'].mean()"
   ]
  },
  {
   "cell_type": "code",
   "execution_count": 28,
   "metadata": {},
   "outputs": [
    {
     "data": {
      "text/plain": [
       "179"
      ]
     },
     "execution_count": 28,
     "metadata": {},
     "output_type": "execute_result"
    }
   ],
   "source": [
    "df['height'].max()"
   ]
  },
  {
   "cell_type": "code",
   "execution_count": 29,
   "metadata": {
    "scrolled": true
   },
   "outputs": [
    {
     "data": {
      "text/plain": [
       "42"
      ]
     },
     "execution_count": 29,
     "metadata": {},
     "output_type": "execute_result"
    }
   ],
   "source": [
    "df['weight'].min()"
   ]
  },
  {
   "cell_type": "code",
   "execution_count": 30,
   "metadata": {},
   "outputs": [
    {
     "data": {
      "text/html": [
       "<div>\n",
       "<style scoped>\n",
       "    .dataframe tbody tr th:only-of-type {\n",
       "        vertical-align: middle;\n",
       "    }\n",
       "\n",
       "    .dataframe tbody tr th {\n",
       "        vertical-align: top;\n",
       "    }\n",
       "\n",
       "    .dataframe thead th {\n",
       "        text-align: right;\n",
       "    }\n",
       "</style>\n",
       "<table border=\"1\" class=\"dataframe\">\n",
       "  <thead>\n",
       "    <tr style=\"text-align: right;\">\n",
       "      <th></th>\n",
       "      <th>id</th>\n",
       "      <th>height</th>\n",
       "      <th>weight</th>\n",
       "      <th>age</th>\n",
       "      <th>hours</th>\n",
       "      <th>children</th>\n",
       "    </tr>\n",
       "  </thead>\n",
       "  <tbody>\n",
       "    <tr>\n",
       "      <th>count</th>\n",
       "      <td>6.000000e+01</td>\n",
       "      <td>60.000000</td>\n",
       "      <td>60.00000</td>\n",
       "      <td>60.000000</td>\n",
       "      <td>60.000000</td>\n",
       "      <td>60.000000</td>\n",
       "    </tr>\n",
       "    <tr>\n",
       "      <th>mean</th>\n",
       "      <td>1.461868e+06</td>\n",
       "      <td>163.533333</td>\n",
       "      <td>59.95000</td>\n",
       "      <td>40.083333</td>\n",
       "      <td>3.600000</td>\n",
       "      <td>1.483333</td>\n",
       "    </tr>\n",
       "    <tr>\n",
       "      <th>std</th>\n",
       "      <td>2.932733e+05</td>\n",
       "      <td>9.307308</td>\n",
       "      <td>13.55144</td>\n",
       "      <td>10.469150</td>\n",
       "      <td>1.719282</td>\n",
       "      <td>1.214205</td>\n",
       "    </tr>\n",
       "    <tr>\n",
       "      <th>min</th>\n",
       "      <td>1.055806e+06</td>\n",
       "      <td>150.000000</td>\n",
       "      <td>42.00000</td>\n",
       "      <td>23.000000</td>\n",
       "      <td>1.000000</td>\n",
       "      <td>0.000000</td>\n",
       "    </tr>\n",
       "    <tr>\n",
       "      <th>25%</th>\n",
       "      <td>1.203768e+06</td>\n",
       "      <td>154.000000</td>\n",
       "      <td>50.00000</td>\n",
       "      <td>32.000000</td>\n",
       "      <td>2.000000</td>\n",
       "      <td>0.000000</td>\n",
       "    </tr>\n",
       "    <tr>\n",
       "      <th>50%</th>\n",
       "      <td>1.392810e+06</td>\n",
       "      <td>163.500000</td>\n",
       "      <td>56.00000</td>\n",
       "      <td>40.000000</td>\n",
       "      <td>3.000000</td>\n",
       "      <td>1.500000</td>\n",
       "    </tr>\n",
       "    <tr>\n",
       "      <th>75%</th>\n",
       "      <td>1.707040e+06</td>\n",
       "      <td>171.000000</td>\n",
       "      <td>65.25000</td>\n",
       "      <td>46.250000</td>\n",
       "      <td>5.000000</td>\n",
       "      <td>2.000000</td>\n",
       "    </tr>\n",
       "    <tr>\n",
       "      <th>max</th>\n",
       "      <td>1.998809e+06</td>\n",
       "      <td>179.000000</td>\n",
       "      <td>102.00000</td>\n",
       "      <td>59.000000</td>\n",
       "      <td>8.000000</td>\n",
       "      <td>5.000000</td>\n",
       "    </tr>\n",
       "  </tbody>\n",
       "</table>\n",
       "</div>"
      ],
      "text/plain": [
       "                 id      height     weight        age      hours   children\n",
       "count  6.000000e+01   60.000000   60.00000  60.000000  60.000000  60.000000\n",
       "mean   1.461868e+06  163.533333   59.95000  40.083333   3.600000   1.483333\n",
       "std    2.932733e+05    9.307308   13.55144  10.469150   1.719282   1.214205\n",
       "min    1.055806e+06  150.000000   42.00000  23.000000   1.000000   0.000000\n",
       "25%    1.203768e+06  154.000000   50.00000  32.000000   2.000000   0.000000\n",
       "50%    1.392810e+06  163.500000   56.00000  40.000000   3.000000   1.500000\n",
       "75%    1.707040e+06  171.000000   65.25000  46.250000   5.000000   2.000000\n",
       "max    1.998809e+06  179.000000  102.00000  59.000000   8.000000   5.000000"
      ]
     },
     "execution_count": 30,
     "metadata": {},
     "output_type": "execute_result"
    }
   ],
   "source": [
    "df.describe()"
   ]
  },
  {
   "cell_type": "markdown",
   "metadata": {},
   "source": [
    "#### The DataFrame elements can be accessed in Python code"
   ]
  },
  {
   "cell_type": "code",
   "execution_count": 31,
   "metadata": {},
   "outputs": [],
   "source": [
    "def avg(col_name):\n",
    "    s = 0\n",
    "    n = len(df[col_name])\n",
    "    for i in df[col_name]:\n",
    "        s = s + i\n",
    "    avg = s / n\n",
    "    return avg"
   ]
  },
  {
   "cell_type": "code",
   "execution_count": 32,
   "metadata": {
    "scrolled": false
   },
   "outputs": [
    {
     "data": {
      "text/plain": [
       "40.083333333333336"
      ]
     },
     "execution_count": 32,
     "metadata": {},
     "output_type": "execute_result"
    }
   ],
   "source": [
    "avg('age')"
   ]
  },
  {
   "cell_type": "markdown",
   "metadata": {},
   "source": [
    "**Create a new column with the number of years at the gym and insert it at position 3**"
   ]
  },
  {
   "cell_type": "code",
   "execution_count": 33,
   "metadata": {},
   "outputs": [],
   "source": [
    "df.insert(3, 'years', 2021 - df['date'].dt.year)"
   ]
  },
  {
   "cell_type": "markdown",
   "metadata": {},
   "source": [
    "**Create new columns at last position**"
   ]
  },
  {
   "cell_type": "code",
   "execution_count": 34,
   "metadata": {},
   "outputs": [],
   "source": [
    "df['days'] = df['years'] * 365"
   ]
  },
  {
   "cell_type": "code",
   "execution_count": 35,
   "metadata": {},
   "outputs": [],
   "source": [
    "df['old_client'] = df['years'] > 7"
   ]
  },
  {
   "cell_type": "code",
   "execution_count": 36,
   "metadata": {},
   "outputs": [
    {
     "data": {
      "text/html": [
       "<div>\n",
       "<style scoped>\n",
       "    .dataframe tbody tr th:only-of-type {\n",
       "        vertical-align: middle;\n",
       "    }\n",
       "\n",
       "    .dataframe tbody tr th {\n",
       "        vertical-align: top;\n",
       "    }\n",
       "\n",
       "    .dataframe thead th {\n",
       "        text-align: right;\n",
       "    }\n",
       "</style>\n",
       "<table border=\"1\" class=\"dataframe\">\n",
       "  <thead>\n",
       "    <tr style=\"text-align: right;\">\n",
       "      <th></th>\n",
       "      <th>name</th>\n",
       "      <th>id</th>\n",
       "      <th>date</th>\n",
       "      <th>years</th>\n",
       "      <th>height</th>\n",
       "      <th>weight</th>\n",
       "      <th>age</th>\n",
       "      <th>hours</th>\n",
       "      <th>status</th>\n",
       "      <th>children</th>\n",
       "      <th>sex</th>\n",
       "      <th>days</th>\n",
       "      <th>old_client</th>\n",
       "    </tr>\n",
       "  </thead>\n",
       "  <tbody>\n",
       "    <tr>\n",
       "      <th>0</th>\n",
       "      <td>Marisa Martins</td>\n",
       "      <td>1373913</td>\n",
       "      <td>2013-02-05</td>\n",
       "      <td>8</td>\n",
       "      <td>155</td>\n",
       "      <td>48</td>\n",
       "      <td>45</td>\n",
       "      <td>3</td>\n",
       "      <td>married</td>\n",
       "      <td>2</td>\n",
       "      <td>F</td>\n",
       "      <td>2920</td>\n",
       "      <td>True</td>\n",
       "    </tr>\n",
       "    <tr>\n",
       "      <th>1</th>\n",
       "      <td>Rita Fonseca</td>\n",
       "      <td>1109818</td>\n",
       "      <td>2018-08-28</td>\n",
       "      <td>3</td>\n",
       "      <td>166</td>\n",
       "      <td>54</td>\n",
       "      <td>45</td>\n",
       "      <td>3</td>\n",
       "      <td>married</td>\n",
       "      <td>3</td>\n",
       "      <td>F</td>\n",
       "      <td>1095</td>\n",
       "      <td>False</td>\n",
       "    </tr>\n",
       "    <tr>\n",
       "      <th>2</th>\n",
       "      <td>Joana Freitas</td>\n",
       "      <td>1158813</td>\n",
       "      <td>2013-10-21</td>\n",
       "      <td>8</td>\n",
       "      <td>150</td>\n",
       "      <td>42</td>\n",
       "      <td>52</td>\n",
       "      <td>3</td>\n",
       "      <td>widow</td>\n",
       "      <td>1</td>\n",
       "      <td>F</td>\n",
       "      <td>2920</td>\n",
       "      <td>True</td>\n",
       "    </tr>\n",
       "  </tbody>\n",
       "</table>\n",
       "</div>"
      ],
      "text/plain": [
       "             name       id       date  years  height  weight  age  hours  \\\n",
       "0  Marisa Martins  1373913 2013-02-05      8     155      48   45      3   \n",
       "1    Rita Fonseca  1109818 2018-08-28      3     166      54   45      3   \n",
       "2   Joana Freitas  1158813 2013-10-21      8     150      42   52      3   \n",
       "\n",
       "    status  children sex  days  old_client  \n",
       "0  married         2   F  2920        True  \n",
       "1  married         3   F  1095       False  \n",
       "2    widow         1   F  2920        True  "
      ]
     },
     "execution_count": 36,
     "metadata": {},
     "output_type": "execute_result"
    }
   ],
   "source": [
    "df.head(3)"
   ]
  },
  {
   "cell_type": "markdown",
   "metadata": {},
   "source": [
    "**Remove the columns years, days and old_client**"
   ]
  },
  {
   "cell_type": "code",
   "execution_count": 37,
   "metadata": {},
   "outputs": [],
   "source": [
    "df.drop('years', axis = 1, inplace = True)"
   ]
  },
  {
   "cell_type": "code",
   "execution_count": 38,
   "metadata": {},
   "outputs": [],
   "source": [
    "del df['days']"
   ]
  },
  {
   "cell_type": "code",
   "execution_count": 39,
   "metadata": {},
   "outputs": [],
   "source": [
    "old_client = df.pop('old_client')"
   ]
  },
  {
   "cell_type": "code",
   "execution_count": 40,
   "metadata": {},
   "outputs": [
    {
     "data": {
      "text/html": [
       "<div>\n",
       "<style scoped>\n",
       "    .dataframe tbody tr th:only-of-type {\n",
       "        vertical-align: middle;\n",
       "    }\n",
       "\n",
       "    .dataframe tbody tr th {\n",
       "        vertical-align: top;\n",
       "    }\n",
       "\n",
       "    .dataframe thead th {\n",
       "        text-align: right;\n",
       "    }\n",
       "</style>\n",
       "<table border=\"1\" class=\"dataframe\">\n",
       "  <thead>\n",
       "    <tr style=\"text-align: right;\">\n",
       "      <th></th>\n",
       "      <th>name</th>\n",
       "      <th>id</th>\n",
       "      <th>date</th>\n",
       "      <th>height</th>\n",
       "      <th>weight</th>\n",
       "      <th>age</th>\n",
       "      <th>hours</th>\n",
       "      <th>status</th>\n",
       "      <th>children</th>\n",
       "      <th>sex</th>\n",
       "    </tr>\n",
       "  </thead>\n",
       "  <tbody>\n",
       "    <tr>\n",
       "      <th>0</th>\n",
       "      <td>Marisa Martins</td>\n",
       "      <td>1373913</td>\n",
       "      <td>2013-02-05</td>\n",
       "      <td>155</td>\n",
       "      <td>48</td>\n",
       "      <td>45</td>\n",
       "      <td>3</td>\n",
       "      <td>married</td>\n",
       "      <td>2</td>\n",
       "      <td>F</td>\n",
       "    </tr>\n",
       "    <tr>\n",
       "      <th>1</th>\n",
       "      <td>Rita Fonseca</td>\n",
       "      <td>1109818</td>\n",
       "      <td>2018-08-28</td>\n",
       "      <td>166</td>\n",
       "      <td>54</td>\n",
       "      <td>45</td>\n",
       "      <td>3</td>\n",
       "      <td>married</td>\n",
       "      <td>3</td>\n",
       "      <td>F</td>\n",
       "    </tr>\n",
       "    <tr>\n",
       "      <th>2</th>\n",
       "      <td>Joana Freitas</td>\n",
       "      <td>1158813</td>\n",
       "      <td>2013-10-21</td>\n",
       "      <td>150</td>\n",
       "      <td>42</td>\n",
       "      <td>52</td>\n",
       "      <td>3</td>\n",
       "      <td>widow</td>\n",
       "      <td>1</td>\n",
       "      <td>F</td>\n",
       "    </tr>\n",
       "  </tbody>\n",
       "</table>\n",
       "</div>"
      ],
      "text/plain": [
       "             name       id       date  height  weight  age  hours   status  \\\n",
       "0  Marisa Martins  1373913 2013-02-05     155      48   45      3  married   \n",
       "1    Rita Fonseca  1109818 2018-08-28     166      54   45      3  married   \n",
       "2   Joana Freitas  1158813 2013-10-21     150      42   52      3    widow   \n",
       "\n",
       "   children sex  \n",
       "0         2   F  \n",
       "1         3   F  \n",
       "2         1   F  "
      ]
     },
     "execution_count": 40,
     "metadata": {},
     "output_type": "execute_result"
    }
   ],
   "source": [
    "df.head(3)"
   ]
  },
  {
   "cell_type": "markdown",
   "metadata": {},
   "source": [
    "**Set the column names**"
   ]
  },
  {
   "cell_type": "code",
   "execution_count": 41,
   "metadata": {},
   "outputs": [],
   "source": [
    "df.columns = ['Name', 'Id', 'Date', 'Height', 'Weight', 'Age', 'Hours', 'Status', 'Children', 'Sex']"
   ]
  },
  {
   "cell_type": "code",
   "execution_count": 42,
   "metadata": {},
   "outputs": [
    {
     "data": {
      "text/html": [
       "<div>\n",
       "<style scoped>\n",
       "    .dataframe tbody tr th:only-of-type {\n",
       "        vertical-align: middle;\n",
       "    }\n",
       "\n",
       "    .dataframe tbody tr th {\n",
       "        vertical-align: top;\n",
       "    }\n",
       "\n",
       "    .dataframe thead th {\n",
       "        text-align: right;\n",
       "    }\n",
       "</style>\n",
       "<table border=\"1\" class=\"dataframe\">\n",
       "  <thead>\n",
       "    <tr style=\"text-align: right;\">\n",
       "      <th></th>\n",
       "      <th>Name</th>\n",
       "      <th>Id</th>\n",
       "      <th>Date</th>\n",
       "      <th>Height</th>\n",
       "      <th>Weight</th>\n",
       "      <th>Age</th>\n",
       "      <th>Hours</th>\n",
       "      <th>Status</th>\n",
       "      <th>Children</th>\n",
       "      <th>Sex</th>\n",
       "    </tr>\n",
       "  </thead>\n",
       "  <tbody>\n",
       "    <tr>\n",
       "      <th>0</th>\n",
       "      <td>Marisa Martins</td>\n",
       "      <td>1373913</td>\n",
       "      <td>2013-02-05</td>\n",
       "      <td>155</td>\n",
       "      <td>48</td>\n",
       "      <td>45</td>\n",
       "      <td>3</td>\n",
       "      <td>married</td>\n",
       "      <td>2</td>\n",
       "      <td>F</td>\n",
       "    </tr>\n",
       "    <tr>\n",
       "      <th>1</th>\n",
       "      <td>Rita Fonseca</td>\n",
       "      <td>1109818</td>\n",
       "      <td>2018-08-28</td>\n",
       "      <td>166</td>\n",
       "      <td>54</td>\n",
       "      <td>45</td>\n",
       "      <td>3</td>\n",
       "      <td>married</td>\n",
       "      <td>3</td>\n",
       "      <td>F</td>\n",
       "    </tr>\n",
       "    <tr>\n",
       "      <th>2</th>\n",
       "      <td>Joana Freitas</td>\n",
       "      <td>1158813</td>\n",
       "      <td>2013-10-21</td>\n",
       "      <td>150</td>\n",
       "      <td>42</td>\n",
       "      <td>52</td>\n",
       "      <td>3</td>\n",
       "      <td>widow</td>\n",
       "      <td>1</td>\n",
       "      <td>F</td>\n",
       "    </tr>\n",
       "  </tbody>\n",
       "</table>\n",
       "</div>"
      ],
      "text/plain": [
       "             Name       Id       Date  Height  Weight  Age  Hours   Status  \\\n",
       "0  Marisa Martins  1373913 2013-02-05     155      48   45      3  married   \n",
       "1    Rita Fonseca  1109818 2018-08-28     166      54   45      3  married   \n",
       "2   Joana Freitas  1158813 2013-10-21     150      42   52      3    widow   \n",
       "\n",
       "   Children Sex  \n",
       "0         2   F  \n",
       "1         3   F  \n",
       "2         1   F  "
      ]
     },
     "execution_count": 42,
     "metadata": {},
     "output_type": "execute_result"
    }
   ],
   "source": [
    "df.head(3)"
   ]
  },
  {
   "cell_type": "markdown",
   "metadata": {},
   "source": [
    "**Change the column name using the str replace method**"
   ]
  },
  {
   "cell_type": "code",
   "execution_count": 43,
   "metadata": {
    "scrolled": true
   },
   "outputs": [],
   "source": [
    "df.columns = df.columns.str.replace('Age', 'age')"
   ]
  },
  {
   "cell_type": "code",
   "execution_count": 44,
   "metadata": {},
   "outputs": [
    {
     "data": {
      "text/html": [
       "<div>\n",
       "<style scoped>\n",
       "    .dataframe tbody tr th:only-of-type {\n",
       "        vertical-align: middle;\n",
       "    }\n",
       "\n",
       "    .dataframe tbody tr th {\n",
       "        vertical-align: top;\n",
       "    }\n",
       "\n",
       "    .dataframe thead th {\n",
       "        text-align: right;\n",
       "    }\n",
       "</style>\n",
       "<table border=\"1\" class=\"dataframe\">\n",
       "  <thead>\n",
       "    <tr style=\"text-align: right;\">\n",
       "      <th></th>\n",
       "      <th>Name</th>\n",
       "      <th>Id</th>\n",
       "      <th>Date</th>\n",
       "      <th>Height</th>\n",
       "      <th>Weight</th>\n",
       "      <th>age</th>\n",
       "      <th>Hours</th>\n",
       "      <th>Status</th>\n",
       "      <th>Children</th>\n",
       "      <th>Sex</th>\n",
       "    </tr>\n",
       "  </thead>\n",
       "  <tbody>\n",
       "    <tr>\n",
       "      <th>0</th>\n",
       "      <td>Marisa Martins</td>\n",
       "      <td>1373913</td>\n",
       "      <td>2013-02-05</td>\n",
       "      <td>155</td>\n",
       "      <td>48</td>\n",
       "      <td>45</td>\n",
       "      <td>3</td>\n",
       "      <td>married</td>\n",
       "      <td>2</td>\n",
       "      <td>F</td>\n",
       "    </tr>\n",
       "    <tr>\n",
       "      <th>1</th>\n",
       "      <td>Rita Fonseca</td>\n",
       "      <td>1109818</td>\n",
       "      <td>2018-08-28</td>\n",
       "      <td>166</td>\n",
       "      <td>54</td>\n",
       "      <td>45</td>\n",
       "      <td>3</td>\n",
       "      <td>married</td>\n",
       "      <td>3</td>\n",
       "      <td>F</td>\n",
       "    </tr>\n",
       "    <tr>\n",
       "      <th>2</th>\n",
       "      <td>Joana Freitas</td>\n",
       "      <td>1158813</td>\n",
       "      <td>2013-10-21</td>\n",
       "      <td>150</td>\n",
       "      <td>42</td>\n",
       "      <td>52</td>\n",
       "      <td>3</td>\n",
       "      <td>widow</td>\n",
       "      <td>1</td>\n",
       "      <td>F</td>\n",
       "    </tr>\n",
       "  </tbody>\n",
       "</table>\n",
       "</div>"
      ],
      "text/plain": [
       "             Name       Id       Date  Height  Weight  age  Hours   Status  \\\n",
       "0  Marisa Martins  1373913 2013-02-05     155      48   45      3  married   \n",
       "1    Rita Fonseca  1109818 2018-08-28     166      54   45      3  married   \n",
       "2   Joana Freitas  1158813 2013-10-21     150      42   52      3    widow   \n",
       "\n",
       "   Children Sex  \n",
       "0         2   F  \n",
       "1         3   F  \n",
       "2         1   F  "
      ]
     },
     "execution_count": 44,
     "metadata": {},
     "output_type": "execute_result"
    }
   ],
   "source": [
    "df.head(3)"
   ]
  },
  {
   "cell_type": "markdown",
   "metadata": {},
   "source": [
    "**Change the column names using the rename method**"
   ]
  },
  {
   "cell_type": "code",
   "execution_count": 45,
   "metadata": {},
   "outputs": [],
   "source": [
    "df.rename(columns={'Name':'name', 'Id': 'id'}, inplace=True)"
   ]
  },
  {
   "cell_type": "code",
   "execution_count": 46,
   "metadata": {},
   "outputs": [
    {
     "data": {
      "text/html": [
       "<div>\n",
       "<style scoped>\n",
       "    .dataframe tbody tr th:only-of-type {\n",
       "        vertical-align: middle;\n",
       "    }\n",
       "\n",
       "    .dataframe tbody tr th {\n",
       "        vertical-align: top;\n",
       "    }\n",
       "\n",
       "    .dataframe thead th {\n",
       "        text-align: right;\n",
       "    }\n",
       "</style>\n",
       "<table border=\"1\" class=\"dataframe\">\n",
       "  <thead>\n",
       "    <tr style=\"text-align: right;\">\n",
       "      <th></th>\n",
       "      <th>name</th>\n",
       "      <th>id</th>\n",
       "      <th>Date</th>\n",
       "      <th>Height</th>\n",
       "      <th>Weight</th>\n",
       "      <th>age</th>\n",
       "      <th>Hours</th>\n",
       "      <th>Status</th>\n",
       "      <th>Children</th>\n",
       "      <th>Sex</th>\n",
       "    </tr>\n",
       "  </thead>\n",
       "  <tbody>\n",
       "    <tr>\n",
       "      <th>0</th>\n",
       "      <td>Marisa Martins</td>\n",
       "      <td>1373913</td>\n",
       "      <td>2013-02-05</td>\n",
       "      <td>155</td>\n",
       "      <td>48</td>\n",
       "      <td>45</td>\n",
       "      <td>3</td>\n",
       "      <td>married</td>\n",
       "      <td>2</td>\n",
       "      <td>F</td>\n",
       "    </tr>\n",
       "    <tr>\n",
       "      <th>1</th>\n",
       "      <td>Rita Fonseca</td>\n",
       "      <td>1109818</td>\n",
       "      <td>2018-08-28</td>\n",
       "      <td>166</td>\n",
       "      <td>54</td>\n",
       "      <td>45</td>\n",
       "      <td>3</td>\n",
       "      <td>married</td>\n",
       "      <td>3</td>\n",
       "      <td>F</td>\n",
       "    </tr>\n",
       "    <tr>\n",
       "      <th>2</th>\n",
       "      <td>Joana Freitas</td>\n",
       "      <td>1158813</td>\n",
       "      <td>2013-10-21</td>\n",
       "      <td>150</td>\n",
       "      <td>42</td>\n",
       "      <td>52</td>\n",
       "      <td>3</td>\n",
       "      <td>widow</td>\n",
       "      <td>1</td>\n",
       "      <td>F</td>\n",
       "    </tr>\n",
       "  </tbody>\n",
       "</table>\n",
       "</div>"
      ],
      "text/plain": [
       "             name       id       Date  Height  Weight  age  Hours   Status  \\\n",
       "0  Marisa Martins  1373913 2013-02-05     155      48   45      3  married   \n",
       "1    Rita Fonseca  1109818 2018-08-28     166      54   45      3  married   \n",
       "2   Joana Freitas  1158813 2013-10-21     150      42   52      3    widow   \n",
       "\n",
       "   Children Sex  \n",
       "0         2   F  \n",
       "1         3   F  \n",
       "2         1   F  "
      ]
     },
     "execution_count": 46,
     "metadata": {},
     "output_type": "execute_result"
    }
   ],
   "source": [
    "df.head(3)"
   ]
  },
  {
   "cell_type": "markdown",
   "metadata": {},
   "source": [
    "**Change the column names using list comprehension**"
   ]
  },
  {
   "cell_type": "code",
   "execution_count": 47,
   "metadata": {},
   "outputs": [],
   "source": [
    "df.columns = [x.lower() for x in df.columns]"
   ]
  },
  {
   "cell_type": "code",
   "execution_count": 48,
   "metadata": {
    "scrolled": true
   },
   "outputs": [
    {
     "data": {
      "text/html": [
       "<div>\n",
       "<style scoped>\n",
       "    .dataframe tbody tr th:only-of-type {\n",
       "        vertical-align: middle;\n",
       "    }\n",
       "\n",
       "    .dataframe tbody tr th {\n",
       "        vertical-align: top;\n",
       "    }\n",
       "\n",
       "    .dataframe thead th {\n",
       "        text-align: right;\n",
       "    }\n",
       "</style>\n",
       "<table border=\"1\" class=\"dataframe\">\n",
       "  <thead>\n",
       "    <tr style=\"text-align: right;\">\n",
       "      <th></th>\n",
       "      <th>name</th>\n",
       "      <th>id</th>\n",
       "      <th>date</th>\n",
       "      <th>height</th>\n",
       "      <th>weight</th>\n",
       "      <th>age</th>\n",
       "      <th>hours</th>\n",
       "      <th>status</th>\n",
       "      <th>children</th>\n",
       "      <th>sex</th>\n",
       "    </tr>\n",
       "  </thead>\n",
       "  <tbody>\n",
       "    <tr>\n",
       "      <th>0</th>\n",
       "      <td>Marisa Martins</td>\n",
       "      <td>1373913</td>\n",
       "      <td>2013-02-05</td>\n",
       "      <td>155</td>\n",
       "      <td>48</td>\n",
       "      <td>45</td>\n",
       "      <td>3</td>\n",
       "      <td>married</td>\n",
       "      <td>2</td>\n",
       "      <td>F</td>\n",
       "    </tr>\n",
       "    <tr>\n",
       "      <th>1</th>\n",
       "      <td>Rita Fonseca</td>\n",
       "      <td>1109818</td>\n",
       "      <td>2018-08-28</td>\n",
       "      <td>166</td>\n",
       "      <td>54</td>\n",
       "      <td>45</td>\n",
       "      <td>3</td>\n",
       "      <td>married</td>\n",
       "      <td>3</td>\n",
       "      <td>F</td>\n",
       "    </tr>\n",
       "    <tr>\n",
       "      <th>2</th>\n",
       "      <td>Joana Freitas</td>\n",
       "      <td>1158813</td>\n",
       "      <td>2013-10-21</td>\n",
       "      <td>150</td>\n",
       "      <td>42</td>\n",
       "      <td>52</td>\n",
       "      <td>3</td>\n",
       "      <td>widow</td>\n",
       "      <td>1</td>\n",
       "      <td>F</td>\n",
       "    </tr>\n",
       "  </tbody>\n",
       "</table>\n",
       "</div>"
      ],
      "text/plain": [
       "             name       id       date  height  weight  age  hours   status  \\\n",
       "0  Marisa Martins  1373913 2013-02-05     155      48   45      3  married   \n",
       "1    Rita Fonseca  1109818 2018-08-28     166      54   45      3  married   \n",
       "2   Joana Freitas  1158813 2013-10-21     150      42   52      3    widow   \n",
       "\n",
       "   children sex  \n",
       "0         2   F  \n",
       "1         3   F  \n",
       "2         1   F  "
      ]
     },
     "execution_count": 48,
     "metadata": {},
     "output_type": "execute_result"
    }
   ],
   "source": [
    "df.head(3)"
   ]
  },
  {
   "cell_type": "markdown",
   "metadata": {},
   "source": [
    "#### Assign a new set of values to a row"
   ]
  },
  {
   "cell_type": "code",
   "execution_count": 49,
   "metadata": {},
   "outputs": [
    {
     "data": {
      "text/html": [
       "<div>\n",
       "<style scoped>\n",
       "    .dataframe tbody tr th:only-of-type {\n",
       "        vertical-align: middle;\n",
       "    }\n",
       "\n",
       "    .dataframe tbody tr th {\n",
       "        vertical-align: top;\n",
       "    }\n",
       "\n",
       "    .dataframe thead th {\n",
       "        text-align: right;\n",
       "    }\n",
       "</style>\n",
       "<table border=\"1\" class=\"dataframe\">\n",
       "  <thead>\n",
       "    <tr style=\"text-align: right;\">\n",
       "      <th></th>\n",
       "      <th>name</th>\n",
       "      <th>id</th>\n",
       "      <th>date</th>\n",
       "      <th>height</th>\n",
       "      <th>weight</th>\n",
       "      <th>age</th>\n",
       "      <th>hours</th>\n",
       "      <th>status</th>\n",
       "      <th>children</th>\n",
       "      <th>sex</th>\n",
       "    </tr>\n",
       "  </thead>\n",
       "  <tbody>\n",
       "    <tr>\n",
       "      <th>0</th>\n",
       "      <td>Antonio Gomes</td>\n",
       "      <td>1354891</td>\n",
       "      <td>2018-05-20</td>\n",
       "      <td>100</td>\n",
       "      <td>20</td>\n",
       "      <td>30</td>\n",
       "      <td>2</td>\n",
       "      <td>widow</td>\n",
       "      <td>1</td>\n",
       "      <td>M</td>\n",
       "    </tr>\n",
       "    <tr>\n",
       "      <th>1</th>\n",
       "      <td>Rita Fonseca</td>\n",
       "      <td>1109818</td>\n",
       "      <td>2018-08-28</td>\n",
       "      <td>166</td>\n",
       "      <td>54</td>\n",
       "      <td>45</td>\n",
       "      <td>3</td>\n",
       "      <td>married</td>\n",
       "      <td>3</td>\n",
       "      <td>F</td>\n",
       "    </tr>\n",
       "  </tbody>\n",
       "</table>\n",
       "</div>"
      ],
      "text/plain": [
       "            name       id       date  height  weight  age  hours   status  \\\n",
       "0  Antonio Gomes  1354891 2018-05-20     100      20   30      2    widow   \n",
       "1   Rita Fonseca  1109818 2018-08-28     166      54   45      3  married   \n",
       "\n",
       "   children sex  \n",
       "0         1   M  \n",
       "1         3   F  "
      ]
     },
     "execution_count": 49,
     "metadata": {},
     "output_type": "execute_result"
    }
   ],
   "source": [
    "df.loc[0] = ['Antonio Gomes',1354891, '2018-05-20',100, 20, 30, 2, 'widow',1, 'M']\n",
    "df.head(2)"
   ]
  },
  {
   "cell_type": "markdown",
   "metadata": {},
   "source": [
    "**Change some of the values in a row**"
   ]
  },
  {
   "cell_type": "code",
   "execution_count": 50,
   "metadata": {},
   "outputs": [
    {
     "data": {
      "text/html": [
       "<div>\n",
       "<style scoped>\n",
       "    .dataframe tbody tr th:only-of-type {\n",
       "        vertical-align: middle;\n",
       "    }\n",
       "\n",
       "    .dataframe tbody tr th {\n",
       "        vertical-align: top;\n",
       "    }\n",
       "\n",
       "    .dataframe thead th {\n",
       "        text-align: right;\n",
       "    }\n",
       "</style>\n",
       "<table border=\"1\" class=\"dataframe\">\n",
       "  <thead>\n",
       "    <tr style=\"text-align: right;\">\n",
       "      <th></th>\n",
       "      <th>name</th>\n",
       "      <th>id</th>\n",
       "      <th>date</th>\n",
       "      <th>height</th>\n",
       "      <th>weight</th>\n",
       "      <th>age</th>\n",
       "      <th>hours</th>\n",
       "      <th>status</th>\n",
       "      <th>children</th>\n",
       "      <th>sex</th>\n",
       "    </tr>\n",
       "  </thead>\n",
       "  <tbody>\n",
       "    <tr>\n",
       "      <th>0</th>\n",
       "      <td>Antonio Gomes</td>\n",
       "      <td>1234567</td>\n",
       "      <td>2018-05-20</td>\n",
       "      <td>100</td>\n",
       "      <td>20</td>\n",
       "      <td>30</td>\n",
       "      <td>2</td>\n",
       "      <td>single</td>\n",
       "      <td>1</td>\n",
       "      <td>M</td>\n",
       "    </tr>\n",
       "    <tr>\n",
       "      <th>1</th>\n",
       "      <td>Rita Fonseca</td>\n",
       "      <td>1109818</td>\n",
       "      <td>2018-08-28</td>\n",
       "      <td>166</td>\n",
       "      <td>54</td>\n",
       "      <td>45</td>\n",
       "      <td>3</td>\n",
       "      <td>married</td>\n",
       "      <td>3</td>\n",
       "      <td>F</td>\n",
       "    </tr>\n",
       "  </tbody>\n",
       "</table>\n",
       "</div>"
      ],
      "text/plain": [
       "            name       id       date  height  weight  age  hours   status  \\\n",
       "0  Antonio Gomes  1234567 2018-05-20     100      20   30      2   single   \n",
       "1   Rita Fonseca  1109818 2018-08-28     166      54   45      3  married   \n",
       "\n",
       "   children sex  \n",
       "0         1   M  \n",
       "1         3   F  "
      ]
     },
     "execution_count": 50,
     "metadata": {},
     "output_type": "execute_result"
    }
   ],
   "source": [
    "df.loc[0,['id', 'status']] = [1234567, 'single']\n",
    "df.head(2)"
   ]
  },
  {
   "cell_type": "markdown",
   "metadata": {},
   "source": [
    "**Append a row to a DataFrame**"
   ]
  },
  {
   "cell_type": "code",
   "execution_count": 51,
   "metadata": {},
   "outputs": [
    {
     "data": {
      "text/html": [
       "<div>\n",
       "<style scoped>\n",
       "    .dataframe tbody tr th:only-of-type {\n",
       "        vertical-align: middle;\n",
       "    }\n",
       "\n",
       "    .dataframe tbody tr th {\n",
       "        vertical-align: top;\n",
       "    }\n",
       "\n",
       "    .dataframe thead th {\n",
       "        text-align: right;\n",
       "    }\n",
       "</style>\n",
       "<table border=\"1\" class=\"dataframe\">\n",
       "  <thead>\n",
       "    <tr style=\"text-align: right;\">\n",
       "      <th></th>\n",
       "      <th>name</th>\n",
       "      <th>id</th>\n",
       "      <th>date</th>\n",
       "      <th>height</th>\n",
       "      <th>weight</th>\n",
       "      <th>age</th>\n",
       "      <th>hours</th>\n",
       "      <th>status</th>\n",
       "      <th>children</th>\n",
       "      <th>sex</th>\n",
       "    </tr>\n",
       "  </thead>\n",
       "  <tbody>\n",
       "    <tr>\n",
       "      <th>59</th>\n",
       "      <td>Joao Tavares</td>\n",
       "      <td>1769504</td>\n",
       "      <td>2004-06-08</td>\n",
       "      <td>177</td>\n",
       "      <td>85.0</td>\n",
       "      <td>32.0</td>\n",
       "      <td>3.0</td>\n",
       "      <td>married</td>\n",
       "      <td>2.0</td>\n",
       "      <td>M</td>\n",
       "    </tr>\n",
       "    <tr>\n",
       "      <th>60</th>\n",
       "      <td>Xavier Furtado</td>\n",
       "      <td>1111111</td>\n",
       "      <td>NaT</td>\n",
       "      <td>150</td>\n",
       "      <td>NaN</td>\n",
       "      <td>NaN</td>\n",
       "      <td>NaN</td>\n",
       "      <td>NaN</td>\n",
       "      <td>NaN</td>\n",
       "      <td>NaN</td>\n",
       "    </tr>\n",
       "  </tbody>\n",
       "</table>\n",
       "</div>"
      ],
      "text/plain": [
       "              name       id       date  height  weight   age  hours   status  \\\n",
       "59    Joao Tavares  1769504 2004-06-08     177    85.0  32.0    3.0  married   \n",
       "60  Xavier Furtado  1111111        NaT     150     NaN   NaN    NaN      NaN   \n",
       "\n",
       "    children  sex  \n",
       "59       2.0    M  \n",
       "60       NaN  NaN  "
      ]
     },
     "execution_count": 51,
     "metadata": {},
     "output_type": "execute_result"
    }
   ],
   "source": [
    "df = df.append({'name':'Xavier Furtado','id':1111111,'height':150},ignore_index=True)\n",
    "df.tail(2)"
   ]
  },
  {
   "cell_type": "markdown",
   "metadata": {},
   "source": [
    "**Delete a row**"
   ]
  },
  {
   "cell_type": "code",
   "execution_count": 52,
   "metadata": {},
   "outputs": [
    {
     "data": {
      "text/html": [
       "<div>\n",
       "<style scoped>\n",
       "    .dataframe tbody tr th:only-of-type {\n",
       "        vertical-align: middle;\n",
       "    }\n",
       "\n",
       "    .dataframe tbody tr th {\n",
       "        vertical-align: top;\n",
       "    }\n",
       "\n",
       "    .dataframe thead th {\n",
       "        text-align: right;\n",
       "    }\n",
       "</style>\n",
       "<table border=\"1\" class=\"dataframe\">\n",
       "  <thead>\n",
       "    <tr style=\"text-align: right;\">\n",
       "      <th></th>\n",
       "      <th>name</th>\n",
       "      <th>id</th>\n",
       "      <th>date</th>\n",
       "      <th>height</th>\n",
       "      <th>weight</th>\n",
       "      <th>age</th>\n",
       "      <th>hours</th>\n",
       "      <th>status</th>\n",
       "      <th>children</th>\n",
       "      <th>sex</th>\n",
       "    </tr>\n",
       "  </thead>\n",
       "  <tbody>\n",
       "    <tr>\n",
       "      <th>58</th>\n",
       "      <td>Manuel Freitas</td>\n",
       "      <td>1658815</td>\n",
       "      <td>2015-11-06</td>\n",
       "      <td>170</td>\n",
       "      <td>51.0</td>\n",
       "      <td>57.0</td>\n",
       "      <td>1.0</td>\n",
       "      <td>widow</td>\n",
       "      <td>2.0</td>\n",
       "      <td>M</td>\n",
       "    </tr>\n",
       "    <tr>\n",
       "      <th>59</th>\n",
       "      <td>Joao Tavares</td>\n",
       "      <td>1769504</td>\n",
       "      <td>2004-06-08</td>\n",
       "      <td>177</td>\n",
       "      <td>85.0</td>\n",
       "      <td>32.0</td>\n",
       "      <td>3.0</td>\n",
       "      <td>married</td>\n",
       "      <td>2.0</td>\n",
       "      <td>M</td>\n",
       "    </tr>\n",
       "  </tbody>\n",
       "</table>\n",
       "</div>"
      ],
      "text/plain": [
       "              name       id       date  height  weight   age  hours   status  \\\n",
       "58  Manuel Freitas  1658815 2015-11-06     170    51.0  57.0    1.0    widow   \n",
       "59    Joao Tavares  1769504 2004-06-08     177    85.0  32.0    3.0  married   \n",
       "\n",
       "    children sex  \n",
       "58       2.0   M  \n",
       "59       2.0   M  "
      ]
     },
     "execution_count": 52,
     "metadata": {},
     "output_type": "execute_result"
    }
   ],
   "source": [
    "df.drop(60, inplace=True)\n",
    "df.tail(2)"
   ]
  },
  {
   "cell_type": "markdown",
   "metadata": {},
   "source": [
    "**Select the customers over 55 years old**"
   ]
  },
  {
   "cell_type": "code",
   "execution_count": 53,
   "metadata": {
    "scrolled": false
   },
   "outputs": [
    {
     "data": {
      "text/html": [
       "<div>\n",
       "<style scoped>\n",
       "    .dataframe tbody tr th:only-of-type {\n",
       "        vertical-align: middle;\n",
       "    }\n",
       "\n",
       "    .dataframe tbody tr th {\n",
       "        vertical-align: top;\n",
       "    }\n",
       "\n",
       "    .dataframe thead th {\n",
       "        text-align: right;\n",
       "    }\n",
       "</style>\n",
       "<table border=\"1\" class=\"dataframe\">\n",
       "  <thead>\n",
       "    <tr style=\"text-align: right;\">\n",
       "      <th></th>\n",
       "      <th>name</th>\n",
       "      <th>id</th>\n",
       "      <th>date</th>\n",
       "      <th>height</th>\n",
       "      <th>weight</th>\n",
       "      <th>age</th>\n",
       "      <th>hours</th>\n",
       "      <th>status</th>\n",
       "      <th>children</th>\n",
       "      <th>sex</th>\n",
       "    </tr>\n",
       "  </thead>\n",
       "  <tbody>\n",
       "    <tr>\n",
       "      <th>3</th>\n",
       "      <td>Joana Goncalves</td>\n",
       "      <td>1566515</td>\n",
       "      <td>2015-11-16</td>\n",
       "      <td>161</td>\n",
       "      <td>49.0</td>\n",
       "      <td>59.0</td>\n",
       "      <td>2.0</td>\n",
       "      <td>married</td>\n",
       "      <td>2.0</td>\n",
       "      <td>F</td>\n",
       "    </tr>\n",
       "    <tr>\n",
       "      <th>7</th>\n",
       "      <td>Rita Cruz</td>\n",
       "      <td>1930916</td>\n",
       "      <td>2016-10-11</td>\n",
       "      <td>168</td>\n",
       "      <td>52.0</td>\n",
       "      <td>56.0</td>\n",
       "      <td>3.0</td>\n",
       "      <td>married</td>\n",
       "      <td>2.0</td>\n",
       "      <td>F</td>\n",
       "    </tr>\n",
       "    <tr>\n",
       "      <th>15</th>\n",
       "      <td>Susana Madeira</td>\n",
       "      <td>1436908</td>\n",
       "      <td>2008-09-05</td>\n",
       "      <td>160</td>\n",
       "      <td>49.0</td>\n",
       "      <td>56.0</td>\n",
       "      <td>2.0</td>\n",
       "      <td>divorced</td>\n",
       "      <td>2.0</td>\n",
       "      <td>F</td>\n",
       "    </tr>\n",
       "    <tr>\n",
       "      <th>19</th>\n",
       "      <td>Catarina Goncalves</td>\n",
       "      <td>1055806</td>\n",
       "      <td>2006-09-21</td>\n",
       "      <td>168</td>\n",
       "      <td>53.0</td>\n",
       "      <td>59.0</td>\n",
       "      <td>2.0</td>\n",
       "      <td>widow</td>\n",
       "      <td>3.0</td>\n",
       "      <td>F</td>\n",
       "    </tr>\n",
       "    <tr>\n",
       "      <th>32</th>\n",
       "      <td>Joana Marinho</td>\n",
       "      <td>1466415</td>\n",
       "      <td>2015-11-26</td>\n",
       "      <td>164</td>\n",
       "      <td>51.0</td>\n",
       "      <td>57.0</td>\n",
       "      <td>1.0</td>\n",
       "      <td>married</td>\n",
       "      <td>3.0</td>\n",
       "      <td>F</td>\n",
       "    </tr>\n",
       "    <tr>\n",
       "      <th>43</th>\n",
       "      <td>Catarina Carvalho</td>\n",
       "      <td>1058304</td>\n",
       "      <td>2004-09-25</td>\n",
       "      <td>150</td>\n",
       "      <td>45.0</td>\n",
       "      <td>59.0</td>\n",
       "      <td>2.0</td>\n",
       "      <td>married</td>\n",
       "      <td>4.0</td>\n",
       "      <td>F</td>\n",
       "    </tr>\n",
       "    <tr>\n",
       "      <th>58</th>\n",
       "      <td>Manuel Freitas</td>\n",
       "      <td>1658815</td>\n",
       "      <td>2015-11-06</td>\n",
       "      <td>170</td>\n",
       "      <td>51.0</td>\n",
       "      <td>57.0</td>\n",
       "      <td>1.0</td>\n",
       "      <td>widow</td>\n",
       "      <td>2.0</td>\n",
       "      <td>M</td>\n",
       "    </tr>\n",
       "  </tbody>\n",
       "</table>\n",
       "</div>"
      ],
      "text/plain": [
       "                  name       id       date  height  weight   age  hours  \\\n",
       "3      Joana Goncalves  1566515 2015-11-16     161    49.0  59.0    2.0   \n",
       "7            Rita Cruz  1930916 2016-10-11     168    52.0  56.0    3.0   \n",
       "15      Susana Madeira  1436908 2008-09-05     160    49.0  56.0    2.0   \n",
       "19  Catarina Goncalves  1055806 2006-09-21     168    53.0  59.0    2.0   \n",
       "32       Joana Marinho  1466415 2015-11-26     164    51.0  57.0    1.0   \n",
       "43   Catarina Carvalho  1058304 2004-09-25     150    45.0  59.0    2.0   \n",
       "58      Manuel Freitas  1658815 2015-11-06     170    51.0  57.0    1.0   \n",
       "\n",
       "      status  children sex  \n",
       "3    married       2.0   F  \n",
       "7    married       2.0   F  \n",
       "15  divorced       2.0   F  \n",
       "19     widow       3.0   F  \n",
       "32   married       3.0   F  \n",
       "43   married       4.0   F  \n",
       "58     widow       2.0   M  "
      ]
     },
     "execution_count": 53,
     "metadata": {},
     "output_type": "execute_result"
    }
   ],
   "source": [
    "df.loc[df['age'] > 55]"
   ]
  },
  {
   "cell_type": "markdown",
   "metadata": {},
   "source": [
    "**Select the customers over 55 years old and weight over 50kg**"
   ]
  },
  {
   "cell_type": "code",
   "execution_count": 54,
   "metadata": {
    "scrolled": true
   },
   "outputs": [
    {
     "data": {
      "text/html": [
       "<div>\n",
       "<style scoped>\n",
       "    .dataframe tbody tr th:only-of-type {\n",
       "        vertical-align: middle;\n",
       "    }\n",
       "\n",
       "    .dataframe tbody tr th {\n",
       "        vertical-align: top;\n",
       "    }\n",
       "\n",
       "    .dataframe thead th {\n",
       "        text-align: right;\n",
       "    }\n",
       "</style>\n",
       "<table border=\"1\" class=\"dataframe\">\n",
       "  <thead>\n",
       "    <tr style=\"text-align: right;\">\n",
       "      <th></th>\n",
       "      <th>name</th>\n",
       "      <th>id</th>\n",
       "      <th>date</th>\n",
       "      <th>height</th>\n",
       "      <th>weight</th>\n",
       "      <th>age</th>\n",
       "      <th>hours</th>\n",
       "      <th>status</th>\n",
       "      <th>children</th>\n",
       "      <th>sex</th>\n",
       "    </tr>\n",
       "  </thead>\n",
       "  <tbody>\n",
       "    <tr>\n",
       "      <th>7</th>\n",
       "      <td>Rita Cruz</td>\n",
       "      <td>1930916</td>\n",
       "      <td>2016-10-11</td>\n",
       "      <td>168</td>\n",
       "      <td>52.0</td>\n",
       "      <td>56.0</td>\n",
       "      <td>3.0</td>\n",
       "      <td>married</td>\n",
       "      <td>2.0</td>\n",
       "      <td>F</td>\n",
       "    </tr>\n",
       "    <tr>\n",
       "      <th>19</th>\n",
       "      <td>Catarina Goncalves</td>\n",
       "      <td>1055806</td>\n",
       "      <td>2006-09-21</td>\n",
       "      <td>168</td>\n",
       "      <td>53.0</td>\n",
       "      <td>59.0</td>\n",
       "      <td>2.0</td>\n",
       "      <td>widow</td>\n",
       "      <td>3.0</td>\n",
       "      <td>F</td>\n",
       "    </tr>\n",
       "    <tr>\n",
       "      <th>32</th>\n",
       "      <td>Joana Marinho</td>\n",
       "      <td>1466415</td>\n",
       "      <td>2015-11-26</td>\n",
       "      <td>164</td>\n",
       "      <td>51.0</td>\n",
       "      <td>57.0</td>\n",
       "      <td>1.0</td>\n",
       "      <td>married</td>\n",
       "      <td>3.0</td>\n",
       "      <td>F</td>\n",
       "    </tr>\n",
       "    <tr>\n",
       "      <th>58</th>\n",
       "      <td>Manuel Freitas</td>\n",
       "      <td>1658815</td>\n",
       "      <td>2015-11-06</td>\n",
       "      <td>170</td>\n",
       "      <td>51.0</td>\n",
       "      <td>57.0</td>\n",
       "      <td>1.0</td>\n",
       "      <td>widow</td>\n",
       "      <td>2.0</td>\n",
       "      <td>M</td>\n",
       "    </tr>\n",
       "  </tbody>\n",
       "</table>\n",
       "</div>"
      ],
      "text/plain": [
       "                  name       id       date  height  weight   age  hours  \\\n",
       "7            Rita Cruz  1930916 2016-10-11     168    52.0  56.0    3.0   \n",
       "19  Catarina Goncalves  1055806 2006-09-21     168    53.0  59.0    2.0   \n",
       "32       Joana Marinho  1466415 2015-11-26     164    51.0  57.0    1.0   \n",
       "58      Manuel Freitas  1658815 2015-11-06     170    51.0  57.0    1.0   \n",
       "\n",
       "     status  children sex  \n",
       "7   married       2.0   F  \n",
       "19    widow       3.0   F  \n",
       "32  married       3.0   F  \n",
       "58    widow       2.0   M  "
      ]
     },
     "execution_count": 54,
     "metadata": {},
     "output_type": "execute_result"
    }
   ],
   "source": [
    "df.loc[(df['age'] > 55) & (df['weight'] > 50)]"
   ]
  },
  {
   "cell_type": "markdown",
   "metadata": {},
   "source": [
    "**Select the customers over 55 or under 24 years old. View name and age**"
   ]
  },
  {
   "cell_type": "code",
   "execution_count": 55,
   "metadata": {},
   "outputs": [
    {
     "data": {
      "text/html": [
       "<div>\n",
       "<style scoped>\n",
       "    .dataframe tbody tr th:only-of-type {\n",
       "        vertical-align: middle;\n",
       "    }\n",
       "\n",
       "    .dataframe tbody tr th {\n",
       "        vertical-align: top;\n",
       "    }\n",
       "\n",
       "    .dataframe thead th {\n",
       "        text-align: right;\n",
       "    }\n",
       "</style>\n",
       "<table border=\"1\" class=\"dataframe\">\n",
       "  <thead>\n",
       "    <tr style=\"text-align: right;\">\n",
       "      <th></th>\n",
       "      <th>name</th>\n",
       "      <th>age</th>\n",
       "    </tr>\n",
       "  </thead>\n",
       "  <tbody>\n",
       "    <tr>\n",
       "      <th>3</th>\n",
       "      <td>Joana Goncalves</td>\n",
       "      <td>59.0</td>\n",
       "    </tr>\n",
       "    <tr>\n",
       "      <th>16</th>\n",
       "      <td>Francisco Pinho</td>\n",
       "      <td>23.0</td>\n",
       "    </tr>\n",
       "    <tr>\n",
       "      <th>19</th>\n",
       "      <td>Catarina Goncalves</td>\n",
       "      <td>59.0</td>\n",
       "    </tr>\n",
       "    <tr>\n",
       "      <th>38</th>\n",
       "      <td>Francisco Madeira</td>\n",
       "      <td>23.0</td>\n",
       "    </tr>\n",
       "    <tr>\n",
       "      <th>43</th>\n",
       "      <td>Catarina Carvalho</td>\n",
       "      <td>59.0</td>\n",
       "    </tr>\n",
       "    <tr>\n",
       "      <th>44</th>\n",
       "      <td>Francisco Carvalho</td>\n",
       "      <td>23.0</td>\n",
       "    </tr>\n",
       "  </tbody>\n",
       "</table>\n",
       "</div>"
      ],
      "text/plain": [
       "                  name   age\n",
       "3      Joana Goncalves  59.0\n",
       "16     Francisco Pinho  23.0\n",
       "19  Catarina Goncalves  59.0\n",
       "38   Francisco Madeira  23.0\n",
       "43   Catarina Carvalho  59.0\n",
       "44  Francisco Carvalho  23.0"
      ]
     },
     "execution_count": 55,
     "metadata": {},
     "output_type": "execute_result"
    }
   ],
   "source": [
    "df.loc[(df['age'] > 57) | (df['age'] < 24), ['name', 'age']]"
   ]
  },
  {
   "cell_type": "markdown",
   "metadata": {},
   "source": [
    "**Select the customers with status: divorced or widow**"
   ]
  },
  {
   "cell_type": "code",
   "execution_count": 56,
   "metadata": {
    "scrolled": false
   },
   "outputs": [
    {
     "data": {
      "text/html": [
       "<div>\n",
       "<style scoped>\n",
       "    .dataframe tbody tr th:only-of-type {\n",
       "        vertical-align: middle;\n",
       "    }\n",
       "\n",
       "    .dataframe tbody tr th {\n",
       "        vertical-align: top;\n",
       "    }\n",
       "\n",
       "    .dataframe thead th {\n",
       "        text-align: right;\n",
       "    }\n",
       "</style>\n",
       "<table border=\"1\" class=\"dataframe\">\n",
       "  <thead>\n",
       "    <tr style=\"text-align: right;\">\n",
       "      <th></th>\n",
       "      <th>name</th>\n",
       "      <th>id</th>\n",
       "      <th>date</th>\n",
       "      <th>height</th>\n",
       "      <th>weight</th>\n",
       "      <th>age</th>\n",
       "      <th>hours</th>\n",
       "      <th>status</th>\n",
       "      <th>children</th>\n",
       "      <th>sex</th>\n",
       "    </tr>\n",
       "  </thead>\n",
       "  <tbody>\n",
       "    <tr>\n",
       "      <th>2</th>\n",
       "      <td>Joana Freitas</td>\n",
       "      <td>1158813</td>\n",
       "      <td>2013-10-21</td>\n",
       "      <td>150</td>\n",
       "      <td>42.0</td>\n",
       "      <td>52.0</td>\n",
       "      <td>3.0</td>\n",
       "      <td>widow</td>\n",
       "      <td>1.0</td>\n",
       "      <td>F</td>\n",
       "    </tr>\n",
       "    <tr>\n",
       "      <th>10</th>\n",
       "      <td>Manuel Marinho</td>\n",
       "      <td>1417018</td>\n",
       "      <td>2018-06-20</td>\n",
       "      <td>173</td>\n",
       "      <td>57.0</td>\n",
       "      <td>40.0</td>\n",
       "      <td>3.0</td>\n",
       "      <td>divorced</td>\n",
       "      <td>2.0</td>\n",
       "      <td>M</td>\n",
       "    </tr>\n",
       "    <tr>\n",
       "      <th>15</th>\n",
       "      <td>Susana Madeira</td>\n",
       "      <td>1436908</td>\n",
       "      <td>2008-09-05</td>\n",
       "      <td>160</td>\n",
       "      <td>49.0</td>\n",
       "      <td>56.0</td>\n",
       "      <td>2.0</td>\n",
       "      <td>divorced</td>\n",
       "      <td>2.0</td>\n",
       "      <td>F</td>\n",
       "    </tr>\n",
       "    <tr>\n",
       "      <th>19</th>\n",
       "      <td>Catarina Goncalves</td>\n",
       "      <td>1055806</td>\n",
       "      <td>2006-09-21</td>\n",
       "      <td>168</td>\n",
       "      <td>53.0</td>\n",
       "      <td>59.0</td>\n",
       "      <td>2.0</td>\n",
       "      <td>widow</td>\n",
       "      <td>3.0</td>\n",
       "      <td>F</td>\n",
       "    </tr>\n",
       "    <tr>\n",
       "      <th>58</th>\n",
       "      <td>Manuel Freitas</td>\n",
       "      <td>1658815</td>\n",
       "      <td>2015-11-06</td>\n",
       "      <td>170</td>\n",
       "      <td>51.0</td>\n",
       "      <td>57.0</td>\n",
       "      <td>1.0</td>\n",
       "      <td>widow</td>\n",
       "      <td>2.0</td>\n",
       "      <td>M</td>\n",
       "    </tr>\n",
       "  </tbody>\n",
       "</table>\n",
       "</div>"
      ],
      "text/plain": [
       "                  name       id       date  height  weight   age  hours  \\\n",
       "2        Joana Freitas  1158813 2013-10-21     150    42.0  52.0    3.0   \n",
       "10      Manuel Marinho  1417018 2018-06-20     173    57.0  40.0    3.0   \n",
       "15      Susana Madeira  1436908 2008-09-05     160    49.0  56.0    2.0   \n",
       "19  Catarina Goncalves  1055806 2006-09-21     168    53.0  59.0    2.0   \n",
       "58      Manuel Freitas  1658815 2015-11-06     170    51.0  57.0    1.0   \n",
       "\n",
       "      status  children sex  \n",
       "2      widow       1.0   F  \n",
       "10  divorced       2.0   M  \n",
       "15  divorced       2.0   F  \n",
       "19     widow       3.0   F  \n",
       "58     widow       2.0   M  "
      ]
     },
     "execution_count": 56,
     "metadata": {},
     "output_type": "execute_result"
    }
   ],
   "source": [
    "df.loc[df['status'].isin(['divorced','widow'])]"
   ]
  },
  {
   "cell_type": "markdown",
   "metadata": {},
   "source": [
    "**Select the customers with name Freitas**"
   ]
  },
  {
   "cell_type": "code",
   "execution_count": 57,
   "metadata": {
    "scrolled": true
   },
   "outputs": [
    {
     "data": {
      "text/html": [
       "<div>\n",
       "<style scoped>\n",
       "    .dataframe tbody tr th:only-of-type {\n",
       "        vertical-align: middle;\n",
       "    }\n",
       "\n",
       "    .dataframe tbody tr th {\n",
       "        vertical-align: top;\n",
       "    }\n",
       "\n",
       "    .dataframe thead th {\n",
       "        text-align: right;\n",
       "    }\n",
       "</style>\n",
       "<table border=\"1\" class=\"dataframe\">\n",
       "  <thead>\n",
       "    <tr style=\"text-align: right;\">\n",
       "      <th></th>\n",
       "      <th>name</th>\n",
       "      <th>id</th>\n",
       "      <th>date</th>\n",
       "      <th>height</th>\n",
       "      <th>weight</th>\n",
       "      <th>age</th>\n",
       "      <th>hours</th>\n",
       "      <th>status</th>\n",
       "      <th>children</th>\n",
       "      <th>sex</th>\n",
       "    </tr>\n",
       "  </thead>\n",
       "  <tbody>\n",
       "    <tr>\n",
       "      <th>2</th>\n",
       "      <td>Joana Freitas</td>\n",
       "      <td>1158813</td>\n",
       "      <td>2013-10-21</td>\n",
       "      <td>150</td>\n",
       "      <td>42.0</td>\n",
       "      <td>52.0</td>\n",
       "      <td>3.0</td>\n",
       "      <td>widow</td>\n",
       "      <td>1.0</td>\n",
       "      <td>F</td>\n",
       "    </tr>\n",
       "    <tr>\n",
       "      <th>6</th>\n",
       "      <td>Florbela Freitas</td>\n",
       "      <td>1071208</td>\n",
       "      <td>2008-09-26</td>\n",
       "      <td>166</td>\n",
       "      <td>53.0</td>\n",
       "      <td>28.0</td>\n",
       "      <td>5.0</td>\n",
       "      <td>single</td>\n",
       "      <td>0.0</td>\n",
       "      <td>F</td>\n",
       "    </tr>\n",
       "    <tr>\n",
       "      <th>11</th>\n",
       "      <td>Joao Freitas</td>\n",
       "      <td>1642316</td>\n",
       "      <td>2016-10-23</td>\n",
       "      <td>165</td>\n",
       "      <td>50.0</td>\n",
       "      <td>54.0</td>\n",
       "      <td>3.0</td>\n",
       "      <td>married</td>\n",
       "      <td>2.0</td>\n",
       "      <td>M</td>\n",
       "    </tr>\n",
       "    <tr>\n",
       "      <th>13</th>\n",
       "      <td>Francisco Freitas</td>\n",
       "      <td>1560118</td>\n",
       "      <td>2018-07-15</td>\n",
       "      <td>152</td>\n",
       "      <td>53.0</td>\n",
       "      <td>41.0</td>\n",
       "      <td>3.0</td>\n",
       "      <td>married</td>\n",
       "      <td>2.0</td>\n",
       "      <td>M</td>\n",
       "    </tr>\n",
       "    <tr>\n",
       "      <th>24</th>\n",
       "      <td>Catarina Freitas</td>\n",
       "      <td>1105321</td>\n",
       "      <td>2021-10-07</td>\n",
       "      <td>166</td>\n",
       "      <td>70.0</td>\n",
       "      <td>40.0</td>\n",
       "      <td>4.0</td>\n",
       "      <td>single</td>\n",
       "      <td>0.0</td>\n",
       "      <td>F</td>\n",
       "    </tr>\n",
       "    <tr>\n",
       "      <th>58</th>\n",
       "      <td>Manuel Freitas</td>\n",
       "      <td>1658815</td>\n",
       "      <td>2015-11-06</td>\n",
       "      <td>170</td>\n",
       "      <td>51.0</td>\n",
       "      <td>57.0</td>\n",
       "      <td>1.0</td>\n",
       "      <td>widow</td>\n",
       "      <td>2.0</td>\n",
       "      <td>M</td>\n",
       "    </tr>\n",
       "  </tbody>\n",
       "</table>\n",
       "</div>"
      ],
      "text/plain": [
       "                 name       id       date  height  weight   age  hours  \\\n",
       "2       Joana Freitas  1158813 2013-10-21     150    42.0  52.0    3.0   \n",
       "6    Florbela Freitas  1071208 2008-09-26     166    53.0  28.0    5.0   \n",
       "11       Joao Freitas  1642316 2016-10-23     165    50.0  54.0    3.0   \n",
       "13  Francisco Freitas  1560118 2018-07-15     152    53.0  41.0    3.0   \n",
       "24   Catarina Freitas  1105321 2021-10-07     166    70.0  40.0    4.0   \n",
       "58     Manuel Freitas  1658815 2015-11-06     170    51.0  57.0    1.0   \n",
       "\n",
       "     status  children sex  \n",
       "2     widow       1.0   F  \n",
       "6    single       0.0   F  \n",
       "11  married       2.0   M  \n",
       "13  married       2.0   M  \n",
       "24   single       0.0   F  \n",
       "58    widow       2.0   M  "
      ]
     },
     "execution_count": 57,
     "metadata": {},
     "output_type": "execute_result"
    }
   ],
   "source": [
    "df.loc[df['name'].str.contains('Freitas',na=False)]"
   ]
  },
  {
   "cell_type": "markdown",
   "metadata": {},
   "source": [
    "**Apply a function to all the elements of a Series**"
   ]
  },
  {
   "cell_type": "code",
   "execution_count": 58,
   "metadata": {},
   "outputs": [
    {
     "data": {
      "text/html": [
       "<div>\n",
       "<style scoped>\n",
       "    .dataframe tbody tr th:only-of-type {\n",
       "        vertical-align: middle;\n",
       "    }\n",
       "\n",
       "    .dataframe tbody tr th {\n",
       "        vertical-align: top;\n",
       "    }\n",
       "\n",
       "    .dataframe thead th {\n",
       "        text-align: right;\n",
       "    }\n",
       "</style>\n",
       "<table border=\"1\" class=\"dataframe\">\n",
       "  <thead>\n",
       "    <tr style=\"text-align: right;\">\n",
       "      <th></th>\n",
       "      <th>name</th>\n",
       "      <th>id</th>\n",
       "      <th>date</th>\n",
       "      <th>height</th>\n",
       "      <th>weight</th>\n",
       "      <th>age</th>\n",
       "      <th>hours</th>\n",
       "      <th>status</th>\n",
       "      <th>children</th>\n",
       "      <th>sex</th>\n",
       "    </tr>\n",
       "  </thead>\n",
       "  <tbody>\n",
       "    <tr>\n",
       "      <th>0</th>\n",
       "      <td>Antonio Gomes</td>\n",
       "      <td>1234567</td>\n",
       "      <td>2018-05-20</td>\n",
       "      <td>100</td>\n",
       "      <td>20.0</td>\n",
       "      <td>30.0</td>\n",
       "      <td>2.0</td>\n",
       "      <td>SINGLE</td>\n",
       "      <td>1.0</td>\n",
       "      <td>M</td>\n",
       "    </tr>\n",
       "    <tr>\n",
       "      <th>1</th>\n",
       "      <td>Rita Fonseca</td>\n",
       "      <td>1109818</td>\n",
       "      <td>2018-08-28</td>\n",
       "      <td>166</td>\n",
       "      <td>54.0</td>\n",
       "      <td>45.0</td>\n",
       "      <td>3.0</td>\n",
       "      <td>MARRIED</td>\n",
       "      <td>3.0</td>\n",
       "      <td>F</td>\n",
       "    </tr>\n",
       "  </tbody>\n",
       "</table>\n",
       "</div>"
      ],
      "text/plain": [
       "            name       id       date  height  weight   age  hours   status  \\\n",
       "0  Antonio Gomes  1234567 2018-05-20     100    20.0  30.0    2.0   SINGLE   \n",
       "1   Rita Fonseca  1109818 2018-08-28     166    54.0  45.0    3.0  MARRIED   \n",
       "\n",
       "   children sex  \n",
       "0       1.0   M  \n",
       "1       3.0   F  "
      ]
     },
     "execution_count": 58,
     "metadata": {},
     "output_type": "execute_result"
    }
   ],
   "source": [
    "df['status'] = df['status'].apply(str.upper)\n",
    "df.head(2)"
   ]
  },
  {
   "cell_type": "markdown",
   "metadata": {},
   "source": [
    "**Get the unique elements from a series**"
   ]
  },
  {
   "cell_type": "code",
   "execution_count": 59,
   "metadata": {},
   "outputs": [
    {
     "data": {
      "text/plain": [
       "array(['SINGLE', 'MARRIED', 'WIDOW', 'DIVORCED'], dtype=object)"
      ]
     },
     "execution_count": 59,
     "metadata": {},
     "output_type": "execute_result"
    }
   ],
   "source": [
    "df['status'].unique()"
   ]
  },
  {
   "cell_type": "markdown",
   "metadata": {},
   "source": [
    "**Return the number of counts of unique values**"
   ]
  },
  {
   "cell_type": "code",
   "execution_count": 60,
   "metadata": {
    "scrolled": true
   },
   "outputs": [
    {
     "data": {
      "text/plain": [
       "MARRIED     35\n",
       "SINGLE      20\n",
       "WIDOW        3\n",
       "DIVORCED     2\n",
       "Name: status, dtype: int64"
      ]
     },
     "execution_count": 60,
     "metadata": {},
     "output_type": "execute_result"
    }
   ],
   "source": [
    "df['status'].value_counts()"
   ]
  },
  {
   "cell_type": "code",
   "execution_count": 61,
   "metadata": {},
   "outputs": [],
   "source": [
    "df['status'] = df['status'].apply(str.lower)"
   ]
  },
  {
   "cell_type": "markdown",
   "metadata": {},
   "source": [
    "**Groupby can be used to count values by group**"
   ]
  },
  {
   "cell_type": "code",
   "execution_count": 62,
   "metadata": {
    "scrolled": true
   },
   "outputs": [
    {
     "data": {
      "text/plain": [
       "sex  status  \n",
       "F    married     19\n",
       "     single       7\n",
       "     widow        2\n",
       "     divorced     1\n",
       "M    married     16\n",
       "     single      13\n",
       "     divorced     1\n",
       "     widow        1\n",
       "Name: status, dtype: int64"
      ]
     },
     "execution_count": 62,
     "metadata": {},
     "output_type": "execute_result"
    }
   ],
   "source": [
    "df.groupby('sex')['status'].value_counts()"
   ]
  },
  {
   "cell_type": "markdown",
   "metadata": {},
   "source": [
    "**Write a DataFrame to a .csv and Excel files**"
   ]
  },
  {
   "cell_type": "code",
   "execution_count": 63,
   "metadata": {},
   "outputs": [],
   "source": [
    "df.to_csv('gym_new.csv', sep = ';', index=False)"
   ]
  },
  {
   "cell_type": "code",
   "execution_count": 64,
   "metadata": {},
   "outputs": [],
   "source": [
    "df.to_excel('gym_new.xlsx', index=False)"
   ]
  }
 ],
 "metadata": {
  "kernelspec": {
   "display_name": "Python 3 (ipykernel)",
   "language": "python",
   "name": "python3"
  },
  "language_info": {
   "codemirror_mode": {
    "name": "ipython",
    "version": 3
   },
   "file_extension": ".py",
   "mimetype": "text/x-python",
   "name": "python",
   "nbconvert_exporter": "python",
   "pygments_lexer": "ipython3",
   "version": "3.8.11"
  }
 },
 "nbformat": 4,
 "nbformat_minor": 4
}
