{
 "cells": [
  {
   "cell_type": "code",
   "execution_count": 1,
   "id": "f42cf81e",
   "metadata": {},
   "outputs": [],
   "source": [
    "import calendar"
   ]
  },
  {
   "cell_type": "code",
   "execution_count": 2,
   "id": "8d26ddaf",
   "metadata": {},
   "outputs": [
    {
     "name": "stdout",
     "output_type": "stream",
     "text": [
      "                                  2021\n",
      "\n",
      "      January                   February                   March\n",
      "Mo Tu We Th Fr Sa Su      Mo Tu We Th Fr Sa Su      Mo Tu We Th Fr Sa Su\n",
      "             1  2  3       1  2  3  4  5  6  7       1  2  3  4  5  6  7\n",
      " 4  5  6  7  8  9 10       8  9 10 11 12 13 14       8  9 10 11 12 13 14\n",
      "11 12 13 14 15 16 17      15 16 17 18 19 20 21      15 16 17 18 19 20 21\n",
      "18 19 20 21 22 23 24      22 23 24 25 26 27 28      22 23 24 25 26 27 28\n",
      "25 26 27 28 29 30 31                                29 30 31\n",
      "\n",
      "       April                      May                       June\n",
      "Mo Tu We Th Fr Sa Su      Mo Tu We Th Fr Sa Su      Mo Tu We Th Fr Sa Su\n",
      "          1  2  3  4                      1  2          1  2  3  4  5  6\n",
      " 5  6  7  8  9 10 11       3  4  5  6  7  8  9       7  8  9 10 11 12 13\n",
      "12 13 14 15 16 17 18      10 11 12 13 14 15 16      14 15 16 17 18 19 20\n",
      "19 20 21 22 23 24 25      17 18 19 20 21 22 23      21 22 23 24 25 26 27\n",
      "26 27 28 29 30            24 25 26 27 28 29 30      28 29 30\n",
      "                          31\n",
      "\n",
      "        July                     August                  September\n",
      "Mo Tu We Th Fr Sa Su      Mo Tu We Th Fr Sa Su      Mo Tu We Th Fr Sa Su\n",
      "          1  2  3  4                         1             1  2  3  4  5\n",
      " 5  6  7  8  9 10 11       2  3  4  5  6  7  8       6  7  8  9 10 11 12\n",
      "12 13 14 15 16 17 18       9 10 11 12 13 14 15      13 14 15 16 17 18 19\n",
      "19 20 21 22 23 24 25      16 17 18 19 20 21 22      20 21 22 23 24 25 26\n",
      "26 27 28 29 30 31         23 24 25 26 27 28 29      27 28 29 30\n",
      "                          30 31\n",
      "\n",
      "      October                   November                  December\n",
      "Mo Tu We Th Fr Sa Su      Mo Tu We Th Fr Sa Su      Mo Tu We Th Fr Sa Su\n",
      "             1  2  3       1  2  3  4  5  6  7             1  2  3  4  5\n",
      " 4  5  6  7  8  9 10       8  9 10 11 12 13 14       6  7  8  9 10 11 12\n",
      "11 12 13 14 15 16 17      15 16 17 18 19 20 21      13 14 15 16 17 18 19\n",
      "18 19 20 21 22 23 24      22 23 24 25 26 27 28      20 21 22 23 24 25 26\n",
      "25 26 27 28 29 30 31      29 30                     27 28 29 30 31\n",
      "\n"
     ]
    }
   ],
   "source": [
    "# print the year calendar\n",
    "print(calendar.calendar(2021))"
   ]
  },
  {
   "cell_type": "code",
   "execution_count": 3,
   "id": "2d1afca4",
   "metadata": {
    "scrolled": true
   },
   "outputs": [
    {
     "name": "stdout",
     "output_type": "stream",
     "text": [
      "   December 2021\n",
      "Mo Tu We Th Fr Sa Su\n",
      "       1  2  3  4  5\n",
      " 6  7  8  9 10 11 12\n",
      "13 14 15 16 17 18 19\n",
      "20 21 22 23 24 25 26\n",
      "27 28 29 30 31\n",
      "\n"
     ]
    }
   ],
   "source": [
    "# Print the month calendar\n",
    "print(calendar.month(2021,12))"
   ]
  },
  {
   "cell_type": "code",
   "execution_count": 4,
   "id": "a2b1cc48",
   "metadata": {
    "scrolled": true
   },
   "outputs": [
    {
     "data": {
      "text/plain": [
       "[[0, 0, 1, 2, 3, 4, 5],\n",
       " [6, 7, 8, 9, 10, 11, 12],\n",
       " [13, 14, 15, 16, 17, 18, 19],\n",
       " [20, 21, 22, 23, 24, 25, 26],\n",
       " [27, 28, 29, 30, 31, 0, 0]]"
      ]
     },
     "execution_count": 4,
     "metadata": {},
     "output_type": "execute_result"
    }
   ],
   "source": [
    "# Get a matrix with the week days of a month\n",
    "calendar.monthcalendar(2021,12)"
   ]
  },
  {
   "cell_type": "code",
   "execution_count": 5,
   "id": "19ccaebf",
   "metadata": {
    "scrolled": true
   },
   "outputs": [
    {
     "data": {
      "text/plain": [
       "True"
      ]
     },
     "execution_count": 5,
     "metadata": {},
     "output_type": "execute_result"
    }
   ],
   "source": [
    "# Check if it is a leap year\n",
    "calendar.isleap(2020)"
   ]
  },
  {
   "cell_type": "code",
   "execution_count": 6,
   "id": "9f6d9e3f",
   "metadata": {},
   "outputs": [
    {
     "data": {
      "text/plain": [
       "0"
      ]
     },
     "execution_count": 6,
     "metadata": {},
     "output_type": "execute_result"
    }
   ],
   "source": [
    "# Set and get the first day of the week\n",
    "# Default 0 - Monday\n",
    "calendar.setfirstweekday(0)\n",
    "calendar.firstweekday()"
   ]
  },
  {
   "cell_type": "code",
   "execution_count": 7,
   "id": "8064d235",
   "metadata": {},
   "outputs": [
    {
     "data": {
      "text/plain": [
       "(2, 31)"
      ]
     },
     "execution_count": 7,
     "metadata": {},
     "output_type": "execute_result"
    }
   ],
   "source": [
    "# Day of the week of the first day (0 - Monday)\n",
    "# Number of days in the month\n",
    "calendar.monthrange(2021,12)"
   ]
  },
  {
   "cell_type": "code",
   "execution_count": 8,
   "id": "f7bf4ac7",
   "metadata": {},
   "outputs": [
    {
     "data": {
      "text/plain": [
       "4"
      ]
     },
     "execution_count": 8,
     "metadata": {},
     "output_type": "execute_result"
    }
   ],
   "source": [
    "# Day of the week of a date\n",
    "calendar.weekday(2021, 12, 31)"
   ]
  },
  {
   "cell_type": "code",
   "execution_count": 9,
   "id": "a793dbaf",
   "metadata": {
    "scrolled": true
   },
   "outputs": [
    {
     "name": "stdout",
     "output_type": "stream",
     "text": [
      "Monday\n",
      "Tuesday\n",
      "Wednesday\n",
      "Thursday\n",
      "Friday\n",
      "Saturday\n",
      "Sunday\n"
     ]
    }
   ],
   "source": [
    "# Array with the days of week\n",
    "for i in range(7):\n",
    "    print(calendar.day_name[i])"
   ]
  },
  {
   "cell_type": "code",
   "execution_count": 10,
   "id": "a49c6667",
   "metadata": {
    "scrolled": true
   },
   "outputs": [
    {
     "data": {
      "text/plain": [
       "['Monday', 'Tuesday', 'Wednesday', 'Thursday', 'Friday', 'Saturday', 'Sunday']"
      ]
     },
     "execution_count": 10,
     "metadata": {},
     "output_type": "execute_result"
    }
   ],
   "source": [
    "list(calendar.day_name)"
   ]
  },
  {
   "cell_type": "code",
   "execution_count": 11,
   "id": "f2337341",
   "metadata": {
    "scrolled": false
   },
   "outputs": [
    {
     "data": {
      "text/plain": [
       "['Mon', 'Tue', 'Wed', 'Thu', 'Fri', 'Sat', 'Sun']"
      ]
     },
     "execution_count": 11,
     "metadata": {},
     "output_type": "execute_result"
    }
   ],
   "source": [
    "list(calendar.day_abbr)"
   ]
  },
  {
   "cell_type": "code",
   "execution_count": 12,
   "id": "0ea2936c",
   "metadata": {
    "scrolled": true
   },
   "outputs": [
    {
     "name": "stdout",
     "output_type": "stream",
     "text": [
      "January\n",
      "February\n",
      "March\n",
      "April\n",
      "May\n",
      "June\n",
      "July\n",
      "August\n",
      "September\n",
      "October\n",
      "November\n",
      "December\n"
     ]
    }
   ],
   "source": [
    "# Array with the months of the year\n",
    "for i in range(1,13):\n",
    "    print(calendar.month_name[i])"
   ]
  },
  {
   "cell_type": "code",
   "execution_count": 13,
   "id": "2f06a2f4",
   "metadata": {
    "scrolled": false
   },
   "outputs": [
    {
     "data": {
      "text/plain": [
       "['',\n",
       " 'January',\n",
       " 'February',\n",
       " 'March',\n",
       " 'April',\n",
       " 'May',\n",
       " 'June',\n",
       " 'July',\n",
       " 'August',\n",
       " 'September',\n",
       " 'October',\n",
       " 'November',\n",
       " 'December']"
      ]
     },
     "execution_count": 13,
     "metadata": {},
     "output_type": "execute_result"
    }
   ],
   "source": [
    "list(calendar.month_name)"
   ]
  },
  {
   "cell_type": "code",
   "execution_count": 14,
   "id": "4e0a76f3",
   "metadata": {
    "scrolled": true
   },
   "outputs": [
    {
     "data": {
      "text/plain": [
       "['',\n",
       " 'Jan',\n",
       " 'Feb',\n",
       " 'Mar',\n",
       " 'Apr',\n",
       " 'May',\n",
       " 'Jun',\n",
       " 'Jul',\n",
       " 'Aug',\n",
       " 'Sep',\n",
       " 'Oct',\n",
       " 'Nov',\n",
       " 'Dec']"
      ]
     },
     "execution_count": 14,
     "metadata": {},
     "output_type": "execute_result"
    }
   ],
   "source": [
    "list(calendar.month_abbr)"
   ]
  },
  {
   "cell_type": "code",
   "execution_count": 15,
   "id": "1d09a893",
   "metadata": {
    "scrolled": true
   },
   "outputs": [
    {
     "name": "stdout",
     "output_type": "stream",
     "text": [
      "0\n",
      "1\n",
      "2\n",
      "3\n",
      "4\n",
      "5\n",
      "6\n"
     ]
    }
   ],
   "source": [
    "# Calendar object and example methods\n",
    "cl = calendar.Calendar()\n",
    "# Week day numbers \n",
    "for i in cl.iterweekdays():\n",
    "    print( i)"
   ]
  },
  {
   "cell_type": "code",
   "execution_count": 16,
   "id": "d4c2f7c2",
   "metadata": {
    "scrolled": true
   },
   "outputs": [
    {
     "data": {
      "text/plain": [
       "[datetime.date(2021, 11, 29),\n",
       " datetime.date(2021, 11, 30),\n",
       " datetime.date(2021, 12, 1),\n",
       " datetime.date(2021, 12, 2),\n",
       " datetime.date(2021, 12, 3),\n",
       " datetime.date(2021, 12, 4),\n",
       " datetime.date(2021, 12, 5),\n",
       " datetime.date(2021, 12, 6),\n",
       " datetime.date(2021, 12, 7),\n",
       " datetime.date(2021, 12, 8),\n",
       " datetime.date(2021, 12, 9),\n",
       " datetime.date(2021, 12, 10),\n",
       " datetime.date(2021, 12, 11),\n",
       " datetime.date(2021, 12, 12),\n",
       " datetime.date(2021, 12, 13),\n",
       " datetime.date(2021, 12, 14),\n",
       " datetime.date(2021, 12, 15),\n",
       " datetime.date(2021, 12, 16),\n",
       " datetime.date(2021, 12, 17),\n",
       " datetime.date(2021, 12, 18),\n",
       " datetime.date(2021, 12, 19),\n",
       " datetime.date(2021, 12, 20),\n",
       " datetime.date(2021, 12, 21),\n",
       " datetime.date(2021, 12, 22),\n",
       " datetime.date(2021, 12, 23),\n",
       " datetime.date(2021, 12, 24),\n",
       " datetime.date(2021, 12, 25),\n",
       " datetime.date(2021, 12, 26),\n",
       " datetime.date(2021, 12, 27),\n",
       " datetime.date(2021, 12, 28),\n",
       " datetime.date(2021, 12, 29),\n",
       " datetime.date(2021, 12, 30),\n",
       " datetime.date(2021, 12, 31),\n",
       " datetime.date(2022, 1, 1),\n",
       " datetime.date(2022, 1, 2)]"
      ]
     },
     "execution_count": 16,
     "metadata": {},
     "output_type": "execute_result"
    }
   ],
   "source": [
    "# All days for the month (datetime.date objects)\n",
    "list(cl.itermonthdates(2021,12))"
   ]
  },
  {
   "cell_type": "code",
   "execution_count": 17,
   "id": "be4b891c",
   "metadata": {},
   "outputs": [
    {
     "data": {
      "text/plain": [
       "[[0, 0, 1, 2, 3, 4, 5],\n",
       " [6, 7, 8, 9, 10, 11, 12],\n",
       " [13, 14, 15, 16, 17, 18, 19],\n",
       " [20, 21, 22, 23, 24, 25, 26],\n",
       " [27, 28, 29, 30, 31, 0, 0]]"
      ]
     },
     "execution_count": 17,
     "metadata": {},
     "output_type": "execute_result"
    }
   ],
   "source": [
    "# List of the weeks of the month of the year\n",
    "list(cl.monthdayscalendar(2021,12))"
   ]
  },
  {
   "cell_type": "code",
   "execution_count": 18,
   "id": "d11554e1",
   "metadata": {},
   "outputs": [
    {
     "data": {
      "text/plain": [
       "[[[[0, 0, 0, 0, 1, 2, 3],\n",
       "   [4, 5, 6, 7, 8, 9, 10],\n",
       "   [11, 12, 13, 14, 15, 16, 17],\n",
       "   [18, 19, 20, 21, 22, 23, 24],\n",
       "   [25, 26, 27, 28, 29, 30, 31]],\n",
       "  [[1, 2, 3, 4, 5, 6, 7],\n",
       "   [8, 9, 10, 11, 12, 13, 14],\n",
       "   [15, 16, 17, 18, 19, 20, 21],\n",
       "   [22, 23, 24, 25, 26, 27, 28]],\n",
       "  [[1, 2, 3, 4, 5, 6, 7],\n",
       "   [8, 9, 10, 11, 12, 13, 14],\n",
       "   [15, 16, 17, 18, 19, 20, 21],\n",
       "   [22, 23, 24, 25, 26, 27, 28],\n",
       "   [29, 30, 31, 0, 0, 0, 0]]],\n",
       " [[[0, 0, 0, 1, 2, 3, 4],\n",
       "   [5, 6, 7, 8, 9, 10, 11],\n",
       "   [12, 13, 14, 15, 16, 17, 18],\n",
       "   [19, 20, 21, 22, 23, 24, 25],\n",
       "   [26, 27, 28, 29, 30, 0, 0]],\n",
       "  [[0, 0, 0, 0, 0, 1, 2],\n",
       "   [3, 4, 5, 6, 7, 8, 9],\n",
       "   [10, 11, 12, 13, 14, 15, 16],\n",
       "   [17, 18, 19, 20, 21, 22, 23],\n",
       "   [24, 25, 26, 27, 28, 29, 30],\n",
       "   [31, 0, 0, 0, 0, 0, 0]],\n",
       "  [[0, 1, 2, 3, 4, 5, 6],\n",
       "   [7, 8, 9, 10, 11, 12, 13],\n",
       "   [14, 15, 16, 17, 18, 19, 20],\n",
       "   [21, 22, 23, 24, 25, 26, 27],\n",
       "   [28, 29, 30, 0, 0, 0, 0]]],\n",
       " [[[0, 0, 0, 1, 2, 3, 4],\n",
       "   [5, 6, 7, 8, 9, 10, 11],\n",
       "   [12, 13, 14, 15, 16, 17, 18],\n",
       "   [19, 20, 21, 22, 23, 24, 25],\n",
       "   [26, 27, 28, 29, 30, 31, 0]],\n",
       "  [[0, 0, 0, 0, 0, 0, 1],\n",
       "   [2, 3, 4, 5, 6, 7, 8],\n",
       "   [9, 10, 11, 12, 13, 14, 15],\n",
       "   [16, 17, 18, 19, 20, 21, 22],\n",
       "   [23, 24, 25, 26, 27, 28, 29],\n",
       "   [30, 31, 0, 0, 0, 0, 0]],\n",
       "  [[0, 0, 1, 2, 3, 4, 5],\n",
       "   [6, 7, 8, 9, 10, 11, 12],\n",
       "   [13, 14, 15, 16, 17, 18, 19],\n",
       "   [20, 21, 22, 23, 24, 25, 26],\n",
       "   [27, 28, 29, 30, 0, 0, 0]]],\n",
       " [[[0, 0, 0, 0, 1, 2, 3],\n",
       "   [4, 5, 6, 7, 8, 9, 10],\n",
       "   [11, 12, 13, 14, 15, 16, 17],\n",
       "   [18, 19, 20, 21, 22, 23, 24],\n",
       "   [25, 26, 27, 28, 29, 30, 31]],\n",
       "  [[1, 2, 3, 4, 5, 6, 7],\n",
       "   [8, 9, 10, 11, 12, 13, 14],\n",
       "   [15, 16, 17, 18, 19, 20, 21],\n",
       "   [22, 23, 24, 25, 26, 27, 28],\n",
       "   [29, 30, 0, 0, 0, 0, 0]],\n",
       "  [[0, 0, 1, 2, 3, 4, 5],\n",
       "   [6, 7, 8, 9, 10, 11, 12],\n",
       "   [13, 14, 15, 16, 17, 18, 19],\n",
       "   [20, 21, 22, 23, 24, 25, 26],\n",
       "   [27, 28, 29, 30, 31, 0, 0]]]]"
      ]
     },
     "execution_count": 18,
     "metadata": {},
     "output_type": "execute_result"
    }
   ],
   "source": [
    "# List of the weeks of the year\n",
    "list(cl.yeardayscalendar(2021))"
   ]
  },
  {
   "cell_type": "code",
   "execution_count": null,
   "id": "798b29df",
   "metadata": {},
   "outputs": [],
   "source": []
  }
 ],
 "metadata": {
  "kernelspec": {
   "display_name": "Python 3 (ipykernel)",
   "language": "python",
   "name": "python3"
  },
  "language_info": {
   "codemirror_mode": {
    "name": "ipython",
    "version": 3
   },
   "file_extension": ".py",
   "mimetype": "text/x-python",
   "name": "python",
   "nbconvert_exporter": "python",
   "pygments_lexer": "ipython3",
   "version": "3.8.11"
  }
 },
 "nbformat": 4,
 "nbformat_minor": 5
}
