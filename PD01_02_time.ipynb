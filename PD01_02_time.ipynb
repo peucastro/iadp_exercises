{
 "cells": [
  {
   "cell_type": "code",
   "execution_count": 1,
   "id": "679d98c8",
   "metadata": {},
   "outputs": [],
   "source": [
    "import time\n",
    "import calendar"
   ]
  },
  {
   "cell_type": "code",
   "execution_count": 2,
   "id": "e219427f",
   "metadata": {
    "scrolled": true
   },
   "outputs": [
    {
     "data": {
      "text/plain": [
       "time.struct_time(tm_year=1970, tm_mon=1, tm_mday=1, tm_hour=0, tm_min=0, tm_sec=0, tm_wday=3, tm_yday=1, tm_isdst=0)"
      ]
     },
     "execution_count": 2,
     "metadata": {},
     "output_type": "execute_result"
    }
   ],
   "source": [
    "# Converts time since the epoch to a struct_time\n",
    "time.gmtime(0)"
   ]
  },
  {
   "cell_type": "code",
   "execution_count": 3,
   "id": "ff8e528a",
   "metadata": {
    "scrolled": true
   },
   "outputs": [
    {
     "data": {
      "text/plain": [
       "time.struct_time(tm_year=2024, tm_mon=10, tm_mday=28, tm_hour=10, tm_min=35, tm_sec=10, tm_wday=0, tm_yday=302, tm_isdst=0)"
      ]
     },
     "execution_count": 3,
     "metadata": {},
     "output_type": "execute_result"
    }
   ],
   "source": [
    "# Returns the current time in UTC\n",
    "time_UTC = time.gmtime()\n",
    "time_UTC"
   ]
  },
  {
   "cell_type": "code",
   "execution_count": 4,
   "id": "8b38a128",
   "metadata": {},
   "outputs": [
    {
     "data": {
      "text/plain": [
       "1730111710"
      ]
     },
     "execution_count": 4,
     "metadata": {},
     "output_type": "execute_result"
    }
   ],
   "source": [
    "# Returns the number of seconds since the epoch\n",
    "# Inverse of gmtime()\n",
    "calendar.timegm(time_UTC)"
   ]
  },
  {
   "cell_type": "markdown",
   "id": "18c0f0e2",
   "metadata": {},
   "source": [
    "**struct_time attributes**"
   ]
  },
  {
   "cell_type": "code",
   "execution_count": 5,
   "id": "1d98d331",
   "metadata": {},
   "outputs": [
    {
     "data": {
      "text/plain": [
       "(2024, 10, 28)"
      ]
     },
     "execution_count": 5,
     "metadata": {},
     "output_type": "execute_result"
    }
   ],
   "source": [
    "time_UTC.tm_year, time_UTC.tm_mon, time_UTC.tm_mday"
   ]
  },
  {
   "cell_type": "code",
   "execution_count": 6,
   "id": "5bbc66c0",
   "metadata": {},
   "outputs": [
    {
     "data": {
      "text/plain": [
       "(10, 35, 10)"
      ]
     },
     "execution_count": 6,
     "metadata": {},
     "output_type": "execute_result"
    }
   ],
   "source": [
    "time_UTC.tm_hour, time_UTC.tm_min, time_UTC.tm_sec"
   ]
  },
  {
   "cell_type": "code",
   "execution_count": 7,
   "id": "e69d4a4b",
   "metadata": {},
   "outputs": [
    {
     "data": {
      "text/plain": [
       "(0, 302)"
      ]
     },
     "execution_count": 7,
     "metadata": {},
     "output_type": "execute_result"
    }
   ],
   "source": [
    "time_UTC.tm_wday, time_UTC.tm_yday"
   ]
  },
  {
   "cell_type": "code",
   "execution_count": 8,
   "id": "80ae1fce",
   "metadata": {},
   "outputs": [
    {
     "data": {
      "text/plain": [
       "(0, 'GMT', 0)"
      ]
     },
     "execution_count": 8,
     "metadata": {},
     "output_type": "execute_result"
    }
   ],
   "source": [
    "time_UTC.tm_isdst, time_UTC.tm_zone, time_UTC.tm_gmtoff"
   ]
  },
  {
   "cell_type": "code",
   "execution_count": 9,
   "id": "e0203b70",
   "metadata": {
    "scrolled": true
   },
   "outputs": [
    {
     "data": {
      "text/plain": [
       "1730111710.7787316"
      ]
     },
     "execution_count": 9,
     "metadata": {},
     "output_type": "execute_result"
    }
   ],
   "source": [
    "# Returns the number of seconds since the epoch\n",
    "time.time()"
   ]
  },
  {
   "cell_type": "code",
   "execution_count": 10,
   "id": "e2cb76b7",
   "metadata": {},
   "outputs": [
    {
     "data": {
      "text/plain": [
       "1730111710785604728"
      ]
     },
     "execution_count": 10,
     "metadata": {},
     "output_type": "execute_result"
    }
   ],
   "source": [
    "# Returns the number of nanoseconds since the epoch\n",
    "time.time_ns()"
   ]
  },
  {
   "cell_type": "code",
   "execution_count": 11,
   "id": "ed5b93f0",
   "metadata": {},
   "outputs": [
    {
     "data": {
      "text/plain": [
       "'Mon Oct 28 10:35:10 2024'"
      ]
     },
     "execution_count": 11,
     "metadata": {},
     "output_type": "execute_result"
    }
   ],
   "source": [
    "# Returns the string representation of the time\n",
    "# expressed in floating number of seconds\n",
    "# Default argument is current time\n",
    "time.ctime()"
   ]
  },
  {
   "cell_type": "code",
   "execution_count": 12,
   "id": "61760dbb",
   "metadata": {
    "scrolled": true
   },
   "outputs": [
    {
     "data": {
      "text/plain": [
       "time.struct_time(tm_year=2024, tm_mon=10, tm_mday=28, tm_hour=10, tm_min=35, tm_sec=10, tm_wday=0, tm_yday=302, tm_isdst=0)"
      ]
     },
     "execution_count": 12,
     "metadata": {},
     "output_type": "execute_result"
    }
   ],
   "source": [
    "# Returns the current local time - struct_time\n",
    "local_time = time.localtime()\n",
    "local_time"
   ]
  },
  {
   "cell_type": "code",
   "execution_count": 13,
   "id": "c2835113",
   "metadata": {
    "scrolled": true
   },
   "outputs": [
    {
     "data": {
      "text/plain": [
       "'WET'"
      ]
     },
     "execution_count": 13,
     "metadata": {},
     "output_type": "execute_result"
    }
   ],
   "source": [
    "# struct_time time zone attribute\n",
    "local_time.tm_zone"
   ]
  },
  {
   "cell_type": "code",
   "execution_count": 14,
   "id": "d6daefd5",
   "metadata": {},
   "outputs": [
    {
     "data": {
      "text/plain": [
       "0"
      ]
     },
     "execution_count": 14,
     "metadata": {},
     "output_type": "execute_result"
    }
   ],
   "source": [
    "# struct_time UTC offset attribue\n",
    "local_time.tm_gmtoff"
   ]
  },
  {
   "cell_type": "code",
   "execution_count": 15,
   "id": "1c368348",
   "metadata": {},
   "outputs": [
    {
     "data": {
      "text/plain": [
       "0"
      ]
     },
     "execution_count": 15,
     "metadata": {},
     "output_type": "execute_result"
    }
   ],
   "source": [
    "# struct_time DST attribute\n",
    "local_time.tm_isdst"
   ]
  },
  {
   "cell_type": "code",
   "execution_count": 16,
   "id": "503cb74e",
   "metadata": {},
   "outputs": [
    {
     "data": {
      "text/plain": [
       "1730111710.0"
      ]
     },
     "execution_count": 16,
     "metadata": {},
     "output_type": "execute_result"
    }
   ],
   "source": [
    "# Convert local_time to seconds\n",
    "# inverse function of localtime()\n",
    "time.mktime(local_time)"
   ]
  },
  {
   "cell_type": "code",
   "execution_count": 17,
   "id": "b9693fab",
   "metadata": {},
   "outputs": [
    {
     "data": {
      "text/plain": [
       "'Mon Oct 28 10:35:10 2024'"
      ]
     },
     "execution_count": 17,
     "metadata": {},
     "output_type": "execute_result"
    }
   ],
   "source": [
    "# Convert a struct_time to a time string\n",
    "# Default argument is current local time\n",
    "time.asctime()"
   ]
  },
  {
   "cell_type": "code",
   "execution_count": 18,
   "id": "5a2eeb97",
   "metadata": {},
   "outputs": [
    {
     "data": {
      "text/plain": [
       "'2024-10-28'"
      ]
     },
     "execution_count": 18,
     "metadata": {},
     "output_type": "execute_result"
    }
   ],
   "source": [
    "# String format time given a struct_time\n",
    "# if time is not provided localtime() is used\n",
    "time.strftime('%Y-%m-%d', time.localtime())"
   ]
  },
  {
   "cell_type": "code",
   "execution_count": 19,
   "id": "b5d7edfd",
   "metadata": {
    "scrolled": true
   },
   "outputs": [
    {
     "data": {
      "text/plain": [
       "time.struct_time(tm_year=2021, tm_mon=12, tm_mday=25, tm_hour=21, tm_min=45, tm_sec=38, tm_wday=5, tm_yday=359, tm_isdst=-1)"
      ]
     },
     "execution_count": 19,
     "metadata": {},
     "output_type": "execute_result"
    }
   ],
   "source": [
    "# Convert a given time string in a struct_time \n",
    "time.strptime(\"Sat Dec 25 21:45:38 2021\", '%a %b %d %H:%M:%S %Y')"
   ]
  },
  {
   "cell_type": "code",
   "execution_count": 20,
   "id": "9e2d3ea3",
   "metadata": {},
   "outputs": [],
   "source": [
    "# Suspends the program execution by an amount of time\n",
    "time.sleep(10)"
   ]
  },
  {
   "cell_type": "code",
   "execution_count": 21,
   "id": "0bf853db",
   "metadata": {},
   "outputs": [
    {
     "data": {
      "text/plain": [
       "10.000255635999565"
      ]
     },
     "execution_count": 21,
     "metadata": {},
     "output_type": "execute_result"
    }
   ],
   "source": [
    "# Computes the execution time of the code\n",
    "t1 = time.perf_counter()\n",
    "time.sleep(10)\n",
    "t2 = time.perf_counter()\n",
    "t2-t1"
   ]
  },
  {
   "cell_type": "code",
   "execution_count": 22,
   "id": "94a34ec8",
   "metadata": {},
   "outputs": [
    {
     "data": {
      "text/plain": [
       "10000259194"
      ]
     },
     "execution_count": 22,
     "metadata": {},
     "output_type": "execute_result"
    }
   ],
   "source": [
    "# Computes the execution time of the code\n",
    "# using nanoseconds\n",
    "t1 = time.perf_counter_ns()\n",
    "time.sleep(10)\n",
    "t2 = time.perf_counter_ns()\n",
    "t2-t1"
   ]
  },
  {
   "cell_type": "markdown",
   "id": "a1c5d0c1",
   "metadata": {},
   "source": [
    "**Timezone constants**"
   ]
  },
  {
   "cell_type": "code",
   "execution_count": 23,
   "id": "d056f7cb",
   "metadata": {
    "scrolled": true
   },
   "outputs": [
    {
     "data": {
      "text/plain": [
       "-3600"
      ]
     },
     "execution_count": 23,
     "metadata": {},
     "output_type": "execute_result"
    }
   ],
   "source": [
    "time.altzone"
   ]
  },
  {
   "cell_type": "code",
   "execution_count": 24,
   "id": "1120a30c",
   "metadata": {},
   "outputs": [
    {
     "data": {
      "text/plain": [
       "1"
      ]
     },
     "execution_count": 24,
     "metadata": {},
     "output_type": "execute_result"
    }
   ],
   "source": [
    "time.daylight"
   ]
  },
  {
   "cell_type": "code",
   "execution_count": 25,
   "id": "b106fef1",
   "metadata": {},
   "outputs": [
    {
     "data": {
      "text/plain": [
       "0"
      ]
     },
     "execution_count": 25,
     "metadata": {},
     "output_type": "execute_result"
    }
   ],
   "source": [
    "time.timezone"
   ]
  },
  {
   "cell_type": "code",
   "execution_count": 26,
   "id": "454cefcd",
   "metadata": {},
   "outputs": [
    {
     "data": {
      "text/plain": [
       "('WET', 'WEST')"
      ]
     },
     "execution_count": 26,
     "metadata": {},
     "output_type": "execute_result"
    }
   ],
   "source": [
    "time.tzname"
   ]
  },
  {
   "cell_type": "code",
   "execution_count": null,
   "id": "7f84bc1c",
   "metadata": {},
   "outputs": [],
   "source": []
  }
 ],
 "metadata": {
  "kernelspec": {
   "display_name": "Python 3 (ipykernel)",
   "language": "python",
   "name": "python3"
  },
  "language_info": {
   "codemirror_mode": {
    "name": "ipython",
    "version": 3
   },
   "file_extension": ".py",
   "mimetype": "text/x-python",
   "name": "python",
   "nbconvert_exporter": "python",
   "pygments_lexer": "ipython3",
   "version": "3.12.7"
  }
 },
 "nbformat": 4,
 "nbformat_minor": 5
}
