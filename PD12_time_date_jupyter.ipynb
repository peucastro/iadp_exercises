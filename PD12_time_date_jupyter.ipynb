{
 "cells": [
  {
   "cell_type": "code",
   "execution_count": 1,
   "id": "cf083456",
   "metadata": {},
   "outputs": [],
   "source": [
    "import pandas as pd\n",
    "import numpy as np\n",
    "import datetime"
   ]
  },
  {
   "cell_type": "markdown",
   "id": "aaffeafa",
   "metadata": {},
   "source": [
    "**Parsing time from various sources and formats**"
   ]
  },
  {
   "cell_type": "code",
   "execution_count": 2,
   "id": "810b7ab9",
   "metadata": {},
   "outputs": [
    {
     "data": {
      "text/plain": [
       "DatetimeIndex(['2021-12-25', '2021-12-25', '2021-12-25'], dtype='datetime64[ns]', freq=None)"
      ]
     },
     "execution_count": 2,
     "metadata": {},
     "output_type": "execute_result"
    }
   ],
   "source": [
    "pd.to_datetime([\"25/12/2021\", np.datetime64(\"2021-12-25\"), datetime.datetime(2021,12,25)])"
   ]
  },
  {
   "cell_type": "markdown",
   "id": "94a68d8c",
   "metadata": {},
   "source": [
    "**Generate sequences of fixed-frequency dates and time spans**"
   ]
  },
  {
   "cell_type": "code",
   "execution_count": 3,
   "id": "8f7ea62a",
   "metadata": {},
   "outputs": [
    {
     "data": {
      "text/plain": [
       "DatetimeIndex(['2021-12-25 00:00:00', '2021-12-25 01:00:00',\n",
       "               '2021-12-25 02:00:00'],\n",
       "              dtype='datetime64[ns]', freq='H')"
      ]
     },
     "execution_count": 3,
     "metadata": {},
     "output_type": "execute_result"
    }
   ],
   "source": [
    "dti = pd.date_range(\"2021-12-25\", periods = 3, freq = \"H\")\n",
    "dti"
   ]
  },
  {
   "cell_type": "markdown",
   "id": "0fba2d66",
   "metadata": {},
   "source": [
    "**Defining and converting date times with timezone information**"
   ]
  },
  {
   "cell_type": "code",
   "execution_count": 4,
   "id": "a1247e8d",
   "metadata": {},
   "outputs": [
    {
     "data": {
      "text/plain": [
       "DatetimeIndex(['2021-12-25 00:00:00+00:00', '2021-12-25 01:00:00+00:00',\n",
       "               '2021-12-25 02:00:00+00:00'],\n",
       "              dtype='datetime64[ns, UTC]', freq='H')"
      ]
     },
     "execution_count": 4,
     "metadata": {},
     "output_type": "execute_result"
    }
   ],
   "source": [
    "dti = dti.tz_localize(\"UTC\")\n",
    "dti"
   ]
  },
  {
   "cell_type": "code",
   "execution_count": 5,
   "id": "8de84ca8",
   "metadata": {},
   "outputs": [
    {
     "data": {
      "text/plain": [
       "DatetimeIndex(['2021-12-24 16:00:00-08:00', '2021-12-24 17:00:00-08:00',\n",
       "               '2021-12-24 18:00:00-08:00'],\n",
       "              dtype='datetime64[ns, US/Pacific]', freq='H')"
      ]
     },
     "execution_count": 5,
     "metadata": {},
     "output_type": "execute_result"
    }
   ],
   "source": [
    "dti = dti.tz_convert(\"US/Pacific\")\n",
    "dti"
   ]
  },
  {
   "cell_type": "markdown",
   "id": "f6355f63",
   "metadata": {},
   "source": [
    "**Resampling or converting a time series to a particular frequency**"
   ]
  },
  {
   "cell_type": "code",
   "execution_count": 6,
   "id": "457fdda8",
   "metadata": {},
   "outputs": [
    {
     "data": {
      "text/plain": [
       "2021-12-25 00:00:00    0\n",
       "2021-12-25 01:00:00    1\n",
       "2021-12-25 02:00:00    2\n",
       "2021-12-25 03:00:00    3\n",
       "2021-12-25 04:00:00    4\n",
       "Freq: H, dtype: int64"
      ]
     },
     "execution_count": 6,
     "metadata": {},
     "output_type": "execute_result"
    }
   ],
   "source": [
    "idx = pd.date_range(\"2021-12-25\", periods=5, freq=\"H\")\n",
    "ts = pd.Series(range(len(idx)), index=idx)\n",
    "ts"
   ]
  },
  {
   "cell_type": "code",
   "execution_count": 7,
   "id": "eac426de",
   "metadata": {},
   "outputs": [
    {
     "data": {
      "text/plain": [
       "2021-12-25 00:00:00    0.5\n",
       "2021-12-25 02:00:00    2.5\n",
       "2021-12-25 04:00:00    4.0\n",
       "Freq: 2H, dtype: float64"
      ]
     },
     "execution_count": 7,
     "metadata": {},
     "output_type": "execute_result"
    }
   ],
   "source": [
    "ts.resample(\"2H\").mean()"
   ]
  },
  {
   "cell_type": "markdown",
   "id": "0796e10f",
   "metadata": {},
   "source": [
    "**Date and time arithmetic with absolute or relative increments**"
   ]
  },
  {
   "cell_type": "code",
   "execution_count": 8,
   "id": "3459d206",
   "metadata": {},
   "outputs": [
    {
     "data": {
      "text/plain": [
       "'Friday'"
      ]
     },
     "execution_count": 8,
     "metadata": {},
     "output_type": "execute_result"
    }
   ],
   "source": [
    "friday = pd.Timestamp(\"2021-12-24\")\n",
    "friday.day_name()"
   ]
  },
  {
   "cell_type": "code",
   "execution_count": 9,
   "id": "97cff4ab",
   "metadata": {},
   "outputs": [
    {
     "data": {
      "text/plain": [
       "'Saturday'"
      ]
     },
     "execution_count": 9,
     "metadata": {},
     "output_type": "execute_result"
    }
   ],
   "source": [
    "saturday = friday + pd.Timedelta(\"1 day\")\n",
    "saturday.day_name()"
   ]
  },
  {
   "cell_type": "code",
   "execution_count": 10,
   "id": "4cf73af3",
   "metadata": {},
   "outputs": [
    {
     "data": {
      "text/plain": [
       "'Monday'"
      ]
     },
     "execution_count": 10,
     "metadata": {},
     "output_type": "execute_result"
    }
   ],
   "source": [
    "monday = friday + pd.offsets.BDay()\n",
    "monday.day_name()"
   ]
  },
  {
   "cell_type": "markdown",
   "id": "238143b9",
   "metadata": {},
   "source": [
    "**Time series data can be used as index or data**"
   ]
  },
  {
   "cell_type": "code",
   "execution_count": 11,
   "id": "ceadaa1e",
   "metadata": {},
   "outputs": [
    {
     "data": {
      "text/plain": [
       "2000-01-01    0\n",
       "2000-01-02    1\n",
       "2000-01-03    2\n",
       "Freq: D, dtype: int64"
      ]
     },
     "execution_count": 11,
     "metadata": {},
     "output_type": "execute_result"
    }
   ],
   "source": [
    "pd.Series(range(3), index=pd.date_range(\"2000\", freq=\"D\", periods=3))"
   ]
  },
  {
   "cell_type": "code",
   "execution_count": 12,
   "id": "7aeccb2a",
   "metadata": {},
   "outputs": [
    {
     "data": {
      "text/plain": [
       "0   2000-01-01\n",
       "1   2000-01-02\n",
       "2   2000-01-03\n",
       "dtype: datetime64[ns]"
      ]
     },
     "execution_count": 12,
     "metadata": {},
     "output_type": "execute_result"
    }
   ],
   "source": [
    "pd.Series(pd.date_range(\"2000\", freq=\"D\", periods=3))"
   ]
  },
  {
   "cell_type": "markdown",
   "id": "2a4d5c78",
   "metadata": {},
   "source": [
    "**A format argument can be provided**"
   ]
  },
  {
   "cell_type": "code",
   "execution_count": 13,
   "id": "2302e379",
   "metadata": {},
   "outputs": [
    {
     "data": {
      "text/plain": [
       "Timestamp('2021-12-25 00:00:00')"
      ]
     },
     "execution_count": 13,
     "metadata": {},
     "output_type": "execute_result"
    }
   ],
   "source": [
    "pd.to_datetime(\"25-12-2021 00:00\", format=\"%d-%m-%Y %H:%M\")"
   ]
  },
  {
   "cell_type": "markdown",
   "id": "7d6463a1",
   "metadata": {},
   "source": [
    "**The span represented by Period can be specified explicitly, or inferred from datetime string format**"
   ]
  },
  {
   "cell_type": "code",
   "execution_count": 14,
   "id": "4eeaa7a1",
   "metadata": {},
   "outputs": [
    {
     "data": {
      "text/plain": [
       "Period('2021-12', 'M')"
      ]
     },
     "execution_count": 14,
     "metadata": {},
     "output_type": "execute_result"
    }
   ],
   "source": [
    "pd.Period(\"2021-12\")"
   ]
  },
  {
   "cell_type": "code",
   "execution_count": 15,
   "id": "19523312",
   "metadata": {},
   "outputs": [
    {
     "data": {
      "text/plain": [
       "Period('2021-12-01', 'D')"
      ]
     },
     "execution_count": 15,
     "metadata": {},
     "output_type": "execute_result"
    }
   ],
   "source": [
    "pd.Period(\"2021-12\", freq=\"D\")"
   ]
  },
  {
   "cell_type": "markdown",
   "id": "2c72e0f0",
   "metadata": {},
   "source": [
    "**A Timedelta day will always increment datetimes by 24 hours, while a<br>\n",
    " DateOffset day will increment datetimes to the same time the next day<br>\n",
    " whether a day represents 23, 24 or 25 hours due to daylight savings time**"
   ]
  },
  {
   "cell_type": "code",
   "execution_count": 16,
   "id": "8e268348",
   "metadata": {},
   "outputs": [],
   "source": [
    "ts = pd.Timestamp(\"2021-10-30 016:00:00\", tz=\"Europe/Lisbon\")\n"
   ]
  },
  {
   "cell_type": "code",
   "execution_count": 17,
   "id": "e6c98b42",
   "metadata": {},
   "outputs": [
    {
     "data": {
      "text/plain": [
       "Timestamp('2021-10-31 15:00:00+0000', tz='Europe/Lisbon')"
      ]
     },
     "execution_count": 17,
     "metadata": {},
     "output_type": "execute_result"
    }
   ],
   "source": [
    "ts + pd.Timedelta(days=1)"
   ]
  },
  {
   "cell_type": "code",
   "execution_count": 18,
   "id": "b7dc4042",
   "metadata": {},
   "outputs": [
    {
     "data": {
      "text/plain": [
       "Timestamp('2021-10-31 16:00:00+0000', tz='Europe/Lisbon')"
      ]
     },
     "execution_count": 18,
     "metadata": {},
     "output_type": "execute_result"
    }
   ],
   "source": [
    "ts + pd.DateOffset(days=1)"
   ]
  },
  {
   "cell_type": "markdown",
   "id": "abf819aa",
   "metadata": {},
   "source": [
    "**DateOffset shifts a date time by the corresponding calendar duration specified.<br>\n",
    "The arithmetic operator (+) or the apply method can be used to perform the shift**"
   ]
  },
  {
   "cell_type": "code",
   "execution_count": 22,
   "id": "0ddfe0a3",
   "metadata": {},
   "outputs": [
    {
     "data": {
      "text/plain": [
       "Timestamp('2021-12-24 00:00:00')"
      ]
     },
     "execution_count": 22,
     "metadata": {},
     "output_type": "execute_result"
    }
   ],
   "source": [
    "friday"
   ]
  },
  {
   "cell_type": "code",
   "execution_count": 19,
   "id": "e7cd2d1a",
   "metadata": {},
   "outputs": [],
   "source": [
    "two_business_days = 2 * pd.offsets.BDay()"
   ]
  },
  {
   "cell_type": "code",
   "execution_count": 20,
   "id": "281e5ff7",
   "metadata": {},
   "outputs": [
    {
     "data": {
      "text/plain": [
       "Timestamp('2021-12-28 00:00:00')"
      ]
     },
     "execution_count": 20,
     "metadata": {},
     "output_type": "execute_result"
    }
   ],
   "source": [
    "two_business_days.apply(friday)"
   ]
  },
  {
   "cell_type": "code",
   "execution_count": 21,
   "id": "5e84fefc",
   "metadata": {},
   "outputs": [
    {
     "data": {
      "text/plain": [
       "Timestamp('2021-12-28 00:00:00')"
      ]
     },
     "execution_count": 21,
     "metadata": {},
     "output_type": "execute_result"
    }
   ],
   "source": [
    "friday + two_business_days"
   ]
  },
  {
   "cell_type": "code",
   "execution_count": null,
   "id": "b2643787",
   "metadata": {},
   "outputs": [],
   "source": []
  }
 ],
 "metadata": {
  "kernelspec": {
   "display_name": "Python 3 (ipykernel)",
   "language": "python",
   "name": "python3"
  },
  "language_info": {
   "codemirror_mode": {
    "name": "ipython",
    "version": 3
   },
   "file_extension": ".py",
   "mimetype": "text/x-python",
   "name": "python",
   "nbconvert_exporter": "python",
   "pygments_lexer": "ipython3",
   "version": "3.8.11"
  }
 },
 "nbformat": 4,
 "nbformat_minor": 5
}
