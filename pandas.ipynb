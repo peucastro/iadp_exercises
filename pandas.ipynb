{
 "cells": [
  {
   "cell_type": "code",
   "execution_count": 16,
   "id": "9abea2bb-966d-4c10-90ab-77c8045fe835",
   "metadata": {},
   "outputs": [],
   "source": [
    "import numpy as np\n",
    "import pandas as pd"
   ]
  },
  {
   "cell_type": "code",
   "execution_count": 17,
   "id": "f84eb2a2-1c08-4fd4-abc5-234ef0760aa8",
   "metadata": {},
   "outputs": [
    {
     "data": {
      "text/plain": [
       "0    antonio\n",
       "1      joana\n",
       "2     carlos\n",
       "dtype: object"
      ]
     },
     "execution_count": 17,
     "metadata": {},
     "output_type": "execute_result"
    }
   ],
   "source": [
    "# Pandas series - simple one dimentional array\n",
    "s1 = pd.Series(['antonio', 'joana', 'carlos'])\n",
    "s1"
   ]
  },
  {
   "cell_type": "code",
   "execution_count": 18,
   "id": "a1d5deb9-2ca6-47f6-84c2-4433762c9065",
   "metadata": {},
   "outputs": [
    {
     "data": {
      "text/plain": [
       "1      one\n",
       "2      two\n",
       "3    three\n",
       "dtype: object"
      ]
     },
     "execution_count": 18,
     "metadata": {},
     "output_type": "execute_result"
    }
   ],
   "source": [
    "s2 = pd.Series({1: 'one', 2: 'two', 3: 'three'})\n",
    "s2"
   ]
  },
  {
   "cell_type": "code",
   "execution_count": 19,
   "id": "20c29ae9-95fa-43ac-ab42-dea514e9f27b",
   "metadata": {},
   "outputs": [],
   "source": [
    "# Pandas DataFrames - like an SQL table or Excel sheet\n",
    "df = pd.DataFrame({\"one\": [1, 2, 3, 4], \"two\": [5, 6, 7, 8]})"
   ]
  },
  {
   "cell_type": "code",
   "execution_count": 20,
   "id": "b5442331-ac3f-4889-a4ec-f0d0bad88e4d",
   "metadata": {},
   "outputs": [
    {
     "data": {
      "text/html": [
       "<div>\n",
       "<style scoped>\n",
       "    .dataframe tbody tr th:only-of-type {\n",
       "        vertical-align: middle;\n",
       "    }\n",
       "\n",
       "    .dataframe tbody tr th {\n",
       "        vertical-align: top;\n",
       "    }\n",
       "\n",
       "    .dataframe thead th {\n",
       "        text-align: right;\n",
       "    }\n",
       "</style>\n",
       "<table border=\"1\" class=\"dataframe\">\n",
       "  <thead>\n",
       "    <tr style=\"text-align: right;\">\n",
       "      <th></th>\n",
       "      <th>one</th>\n",
       "      <th>two</th>\n",
       "    </tr>\n",
       "  </thead>\n",
       "  <tbody>\n",
       "    <tr>\n",
       "      <th>0</th>\n",
       "      <td>1</td>\n",
       "      <td>5</td>\n",
       "    </tr>\n",
       "    <tr>\n",
       "      <th>1</th>\n",
       "      <td>2</td>\n",
       "      <td>6</td>\n",
       "    </tr>\n",
       "    <tr>\n",
       "      <th>2</th>\n",
       "      <td>3</td>\n",
       "      <td>7</td>\n",
       "    </tr>\n",
       "    <tr>\n",
       "      <th>3</th>\n",
       "      <td>4</td>\n",
       "      <td>8</td>\n",
       "    </tr>\n",
       "  </tbody>\n",
       "</table>\n",
       "</div>"
      ],
      "text/plain": [
       "   one  two\n",
       "0    1    5\n",
       "1    2    6\n",
       "2    3    7\n",
       "3    4    8"
      ]
     },
     "execution_count": 20,
     "metadata": {},
     "output_type": "execute_result"
    }
   ],
   "source": [
    "df"
   ]
  },
  {
   "cell_type": "code",
   "execution_count": 31,
   "id": "cb3e2391-70a4-4c3d-ba1f-c11e4f5c30a4",
   "metadata": {},
   "outputs": [],
   "source": [
    "df = pd.read_csv('PD06-09/gym2_q1.csv', sep=';', parse_dates=['date'])"
   ]
  },
  {
   "cell_type": "code",
   "execution_count": 32,
   "id": "e27b0155-79ac-496f-ad5e-bb79937b63cd",
   "metadata": {},
   "outputs": [
    {
     "data": {
      "text/html": [
       "<div>\n",
       "<style scoped>\n",
       "    .dataframe tbody tr th:only-of-type {\n",
       "        vertical-align: middle;\n",
       "    }\n",
       "\n",
       "    .dataframe tbody tr th {\n",
       "        vertical-align: top;\n",
       "    }\n",
       "\n",
       "    .dataframe thead th {\n",
       "        text-align: right;\n",
       "    }\n",
       "</style>\n",
       "<table border=\"1\" class=\"dataframe\">\n",
       "  <thead>\n",
       "    <tr style=\"text-align: right;\">\n",
       "      <th></th>\n",
       "      <th>id</th>\n",
       "      <th>name</th>\n",
       "      <th>date</th>\n",
       "      <th>height</th>\n",
       "      <th>weight</th>\n",
       "      <th>age</th>\n",
       "      <th>hours</th>\n",
       "      <th>status</th>\n",
       "      <th>children</th>\n",
       "      <th>sex</th>\n",
       "      <th>class</th>\n",
       "      <th>city</th>\n",
       "      <th>years</th>\n",
       "      <th>rank</th>\n",
       "    </tr>\n",
       "  </thead>\n",
       "  <tbody>\n",
       "    <tr>\n",
       "      <th>0</th>\n",
       "      <td>1373913</td>\n",
       "      <td>Marisa Martins</td>\n",
       "      <td>05/02/2013</td>\n",
       "      <td>155</td>\n",
       "      <td>48</td>\n",
       "      <td>45</td>\n",
       "      <td>3</td>\n",
       "      <td>married</td>\n",
       "      <td>2</td>\n",
       "      <td>F</td>\n",
       "      <td>cycle</td>\n",
       "      <td>Porto</td>\n",
       "      <td>9</td>\n",
       "      <td>good</td>\n",
       "    </tr>\n",
       "    <tr>\n",
       "      <th>1</th>\n",
       "      <td>1109818</td>\n",
       "      <td>Rita Fonseca</td>\n",
       "      <td>28/08/2018</td>\n",
       "      <td>166</td>\n",
       "      <td>54</td>\n",
       "      <td>45</td>\n",
       "      <td>3</td>\n",
       "      <td>married</td>\n",
       "      <td>3</td>\n",
       "      <td>F</td>\n",
       "      <td>hydrogymnastics</td>\n",
       "      <td>Matosinhos</td>\n",
       "      <td>3</td>\n",
       "      <td>fair</td>\n",
       "    </tr>\n",
       "    <tr>\n",
       "      <th>2</th>\n",
       "      <td>1158813</td>\n",
       "      <td>Joana Freitas</td>\n",
       "      <td>21/10/2013</td>\n",
       "      <td>150</td>\n",
       "      <td>42</td>\n",
       "      <td>52</td>\n",
       "      <td>3</td>\n",
       "      <td>widow</td>\n",
       "      <td>1</td>\n",
       "      <td>F</td>\n",
       "      <td>zumba</td>\n",
       "      <td>Porto</td>\n",
       "      <td>8</td>\n",
       "      <td>good</td>\n",
       "    </tr>\n",
       "  </tbody>\n",
       "</table>\n",
       "</div>"
      ],
      "text/plain": [
       "        id            name        date  height  weight  age  hours   status  \\\n",
       "0  1373913  Marisa Martins  05/02/2013     155      48   45      3  married   \n",
       "1  1109818    Rita Fonseca  28/08/2018     166      54   45      3  married   \n",
       "2  1158813   Joana Freitas  21/10/2013     150      42   52      3    widow   \n",
       "\n",
       "   children sex            class        city  years  rank  \n",
       "0         2   F            cycle       Porto      9  good  \n",
       "1         3   F  hydrogymnastics  Matosinhos      3  fair  \n",
       "2         1   F            zumba       Porto      8  good  "
      ]
     },
     "execution_count": 32,
     "metadata": {},
     "output_type": "execute_result"
    }
   ],
   "source": [
    "df.head(3)"
   ]
  },
  {
   "cell_type": "code",
   "execution_count": 33,
   "id": "bef2a5c1-6cd2-45b5-828d-8c6f1e76934c",
   "metadata": {},
   "outputs": [
    {
     "data": {
      "text/html": [
       "<div>\n",
       "<style scoped>\n",
       "    .dataframe tbody tr th:only-of-type {\n",
       "        vertical-align: middle;\n",
       "    }\n",
       "\n",
       "    .dataframe tbody tr th {\n",
       "        vertical-align: top;\n",
       "    }\n",
       "\n",
       "    .dataframe thead th {\n",
       "        text-align: right;\n",
       "    }\n",
       "</style>\n",
       "<table border=\"1\" class=\"dataframe\">\n",
       "  <thead>\n",
       "    <tr style=\"text-align: right;\">\n",
       "      <th></th>\n",
       "      <th>name</th>\n",
       "      <th>weight</th>\n",
       "    </tr>\n",
       "  </thead>\n",
       "  <tbody>\n",
       "    <tr>\n",
       "      <th>3</th>\n",
       "      <td>Joana Goncalves</td>\n",
       "      <td>49</td>\n",
       "    </tr>\n",
       "    <tr>\n",
       "      <th>7</th>\n",
       "      <td>Rita Cruz</td>\n",
       "      <td>52</td>\n",
       "    </tr>\n",
       "    <tr>\n",
       "      <th>15</th>\n",
       "      <td>Susana Madeira</td>\n",
       "      <td>49</td>\n",
       "    </tr>\n",
       "    <tr>\n",
       "      <th>32</th>\n",
       "      <td>Joana Marinho</td>\n",
       "      <td>51</td>\n",
       "    </tr>\n",
       "    <tr>\n",
       "      <th>43</th>\n",
       "      <td>Catarina Carvalho</td>\n",
       "      <td>45</td>\n",
       "    </tr>\n",
       "  </tbody>\n",
       "</table>\n",
       "</div>"
      ],
      "text/plain": [
       "                 name  weight\n",
       "3     Joana Goncalves      49\n",
       "7           Rita Cruz      52\n",
       "15     Susana Madeira      49\n",
       "32      Joana Marinho      51\n",
       "43  Catarina Carvalho      45"
      ]
     },
     "execution_count": 33,
     "metadata": {},
     "output_type": "execute_result"
    }
   ],
   "source": [
    "df.loc[(df['age'] > 55) & (df['sex'] == 'F') & (df['status'].isin(['married', 'divorced'])), ['name', 'weight']]"
   ]
  },
  {
   "cell_type": "code",
   "execution_count": 34,
   "id": "293179aa-4088-49ec-8162-a13bfb5a4a42",
   "metadata": {},
   "outputs": [
    {
     "data": {
      "text/plain": [
       "0    05/02/2013\n",
       "1    28/08/2018\n",
       "2    21/10/2013\n",
       "Name: date, dtype: object"
      ]
     },
     "execution_count": 34,
     "metadata": {},
     "output_type": "execute_result"
    }
   ],
   "source": [
    "df.iloc[:, 2].head(3)"
   ]
  },
  {
   "cell_type": "code",
   "execution_count": 35,
   "id": "8245d515-4f17-4bf3-8a5d-d3e40c6161fb",
   "metadata": {},
   "outputs": [
    {
     "data": {
      "text/html": [
       "<div>\n",
       "<style scoped>\n",
       "    .dataframe tbody tr th:only-of-type {\n",
       "        vertical-align: middle;\n",
       "    }\n",
       "\n",
       "    .dataframe tbody tr th {\n",
       "        vertical-align: top;\n",
       "    }\n",
       "\n",
       "    .dataframe thead th {\n",
       "        text-align: right;\n",
       "    }\n",
       "</style>\n",
       "<table border=\"1\" class=\"dataframe\">\n",
       "  <thead>\n",
       "    <tr style=\"text-align: right;\">\n",
       "      <th></th>\n",
       "      <th>id</th>\n",
       "      <th>name</th>\n",
       "      <th>date</th>\n",
       "      <th>height</th>\n",
       "      <th>weight</th>\n",
       "      <th>age</th>\n",
       "      <th>hours</th>\n",
       "      <th>status</th>\n",
       "      <th>children</th>\n",
       "      <th>sex</th>\n",
       "      <th>class</th>\n",
       "      <th>city</th>\n",
       "      <th>years</th>\n",
       "      <th>rank</th>\n",
       "    </tr>\n",
       "  </thead>\n",
       "  <tbody>\n",
       "    <tr>\n",
       "      <th>12</th>\n",
       "      <td>1170413</td>\n",
       "      <td>Susana Goncalves</td>\n",
       "      <td>03/07/2013</td>\n",
       "      <td>157</td>\n",
       "      <td>65</td>\n",
       "      <td>40</td>\n",
       "      <td>2</td>\n",
       "      <td>married</td>\n",
       "      <td>5</td>\n",
       "      <td>F</td>\n",
       "      <td>hydrogymnastics</td>\n",
       "      <td>Porto</td>\n",
       "      <td>8</td>\n",
       "      <td>good</td>\n",
       "    </tr>\n",
       "    <tr>\n",
       "      <th>33</th>\n",
       "      <td>1610119</td>\n",
       "      <td>Pedro Madeira</td>\n",
       "      <td>19/05/2019</td>\n",
       "      <td>163</td>\n",
       "      <td>53</td>\n",
       "      <td>28</td>\n",
       "      <td>5</td>\n",
       "      <td>married</td>\n",
       "      <td>4</td>\n",
       "      <td>M</td>\n",
       "      <td>pilates</td>\n",
       "      <td>Gaia</td>\n",
       "      <td>2</td>\n",
       "      <td>fair</td>\n",
       "    </tr>\n",
       "    <tr>\n",
       "      <th>43</th>\n",
       "      <td>1058304</td>\n",
       "      <td>Catarina Carvalho</td>\n",
       "      <td>25/09/2004</td>\n",
       "      <td>150</td>\n",
       "      <td>45</td>\n",
       "      <td>59</td>\n",
       "      <td>2</td>\n",
       "      <td>married</td>\n",
       "      <td>4</td>\n",
       "      <td>F</td>\n",
       "      <td>swimming</td>\n",
       "      <td>Gondomar</td>\n",
       "      <td>17</td>\n",
       "      <td>excellent</td>\n",
       "    </tr>\n",
       "    <tr>\n",
       "      <th>1</th>\n",
       "      <td>1109818</td>\n",
       "      <td>Rita Fonseca</td>\n",
       "      <td>28/08/2018</td>\n",
       "      <td>166</td>\n",
       "      <td>54</td>\n",
       "      <td>45</td>\n",
       "      <td>3</td>\n",
       "      <td>married</td>\n",
       "      <td>3</td>\n",
       "      <td>F</td>\n",
       "      <td>hydrogymnastics</td>\n",
       "      <td>Matosinhos</td>\n",
       "      <td>3</td>\n",
       "      <td>fair</td>\n",
       "    </tr>\n",
       "    <tr>\n",
       "      <th>25</th>\n",
       "      <td>1867513</td>\n",
       "      <td>Antonio Fonseca</td>\n",
       "      <td>06/07/2013</td>\n",
       "      <td>164</td>\n",
       "      <td>53</td>\n",
       "      <td>41</td>\n",
       "      <td>3</td>\n",
       "      <td>married</td>\n",
       "      <td>3</td>\n",
       "      <td>M</td>\n",
       "      <td>zumba</td>\n",
       "      <td>Valongo</td>\n",
       "      <td>8</td>\n",
       "      <td>good</td>\n",
       "    </tr>\n",
       "  </tbody>\n",
       "</table>\n",
       "</div>"
      ],
      "text/plain": [
       "         id               name        date  height  weight  age  hours  \\\n",
       "12  1170413   Susana Goncalves  03/07/2013     157      65   40      2   \n",
       "33  1610119      Pedro Madeira  19/05/2019     163      53   28      5   \n",
       "43  1058304  Catarina Carvalho  25/09/2004     150      45   59      2   \n",
       "1   1109818       Rita Fonseca  28/08/2018     166      54   45      3   \n",
       "25  1867513    Antonio Fonseca  06/07/2013     164      53   41      3   \n",
       "\n",
       "     status  children sex            class        city  years       rank  \n",
       "12  married         5   F  hydrogymnastics       Porto      8       good  \n",
       "33  married         4   M          pilates        Gaia      2       fair  \n",
       "43  married         4   F         swimming    Gondomar     17  excellent  \n",
       "1   married         3   F  hydrogymnastics  Matosinhos      3       fair  \n",
       "25  married         3   M            zumba     Valongo      8       good  "
      ]
     },
     "execution_count": 35,
     "metadata": {},
     "output_type": "execute_result"
    }
   ],
   "source": [
    "df.sort_values('children', ascending=False).head(5)"
   ]
  },
  {
   "cell_type": "code",
   "execution_count": 36,
   "id": "3e3b2de3-8421-4c87-af19-9b68c65f575c",
   "metadata": {},
   "outputs": [
    {
     "name": "stdout",
     "output_type": "stream",
     "text": [
      "Mean height: 163.53 \n",
      "Max age: 59\n"
     ]
    }
   ],
   "source": [
    "# Statistical functions\n",
    "print('Mean height:', round(df['height'].mean(), 2), '\\nMax age:', df['age'].max())"
   ]
  },
  {
   "cell_type": "code",
   "execution_count": 44,
   "id": "09f21e6d-7124-4a10-ba9a-d3bc5549312a",
   "metadata": {},
   "outputs": [
    {
     "data": {
      "text/plain": [
       "sex  status  \n",
       "F    married     20\n",
       "     single       7\n",
       "     widow        2\n",
       "     divorced     1\n",
       "M    married     16\n",
       "     single      12\n",
       "     divorced     1\n",
       "     widow        1\n",
       "Name: count, dtype: int64"
      ]
     },
     "execution_count": 44,
     "metadata": {},
     "output_type": "execute_result"
    }
   ],
   "source": [
    "df.groupby('sex')['status'].value_counts()"
   ]
  },
  {
   "cell_type": "code",
   "execution_count": 42,
   "id": "83c40e69-ed6a-4e3c-a054-918ce693727e",
   "metadata": {},
   "outputs": [
    {
     "data": {
      "text/html": [
       "<div>\n",
       "<style scoped>\n",
       "    .dataframe tbody tr th:only-of-type {\n",
       "        vertical-align: middle;\n",
       "    }\n",
       "\n",
       "    .dataframe tbody tr th {\n",
       "        vertical-align: top;\n",
       "    }\n",
       "\n",
       "    .dataframe thead th {\n",
       "        text-align: right;\n",
       "    }\n",
       "</style>\n",
       "<table border=\"1\" class=\"dataframe\">\n",
       "  <thead>\n",
       "    <tr style=\"text-align: right;\">\n",
       "      <th>status</th>\n",
       "      <th>divorced</th>\n",
       "      <th>married</th>\n",
       "      <th>single</th>\n",
       "      <th>widow</th>\n",
       "      <th>All</th>\n",
       "    </tr>\n",
       "    <tr>\n",
       "      <th>city</th>\n",
       "      <th></th>\n",
       "      <th></th>\n",
       "      <th></th>\n",
       "      <th></th>\n",
       "      <th></th>\n",
       "    </tr>\n",
       "  </thead>\n",
       "  <tbody>\n",
       "    <tr>\n",
       "      <th>Gaia</th>\n",
       "      <td>NaN</td>\n",
       "      <td>36.75</td>\n",
       "      <td>36.17</td>\n",
       "      <td>NaN</td>\n",
       "      <td>36.40</td>\n",
       "    </tr>\n",
       "    <tr>\n",
       "      <th>Gondomar</th>\n",
       "      <td>NaN</td>\n",
       "      <td>41.67</td>\n",
       "      <td>29.25</td>\n",
       "      <td>NaN</td>\n",
       "      <td>34.57</td>\n",
       "    </tr>\n",
       "    <tr>\n",
       "      <th>Maia</th>\n",
       "      <td>56.0</td>\n",
       "      <td>38.67</td>\n",
       "      <td>30.00</td>\n",
       "      <td>57.0</td>\n",
       "      <td>39.88</td>\n",
       "    </tr>\n",
       "    <tr>\n",
       "      <th>Matosinhos</th>\n",
       "      <td>NaN</td>\n",
       "      <td>43.56</td>\n",
       "      <td>35.00</td>\n",
       "      <td>NaN</td>\n",
       "      <td>42.70</td>\n",
       "    </tr>\n",
       "    <tr>\n",
       "      <th>Porto</th>\n",
       "      <td>40.0</td>\n",
       "      <td>43.46</td>\n",
       "      <td>31.20</td>\n",
       "      <td>52.0</td>\n",
       "      <td>40.65</td>\n",
       "    </tr>\n",
       "    <tr>\n",
       "      <th>Valongo</th>\n",
       "      <td>NaN</td>\n",
       "      <td>45.25</td>\n",
       "      <td>NaN</td>\n",
       "      <td>59.0</td>\n",
       "      <td>48.00</td>\n",
       "    </tr>\n",
       "    <tr>\n",
       "      <th>All</th>\n",
       "      <td>48.0</td>\n",
       "      <td>42.39</td>\n",
       "      <td>32.37</td>\n",
       "      <td>56.0</td>\n",
       "      <td>40.08</td>\n",
       "    </tr>\n",
       "  </tbody>\n",
       "</table>\n",
       "</div>"
      ],
      "text/plain": [
       "status      divorced  married  single  widow    All\n",
       "city                                               \n",
       "Gaia             NaN    36.75   36.17    NaN  36.40\n",
       "Gondomar         NaN    41.67   29.25    NaN  34.57\n",
       "Maia            56.0    38.67   30.00   57.0  39.88\n",
       "Matosinhos       NaN    43.56   35.00    NaN  42.70\n",
       "Porto           40.0    43.46   31.20   52.0  40.65\n",
       "Valongo          NaN    45.25     NaN   59.0  48.00\n",
       "All             48.0    42.39   32.37   56.0  40.08"
      ]
     },
     "execution_count": 42,
     "metadata": {},
     "output_type": "execute_result"
    }
   ],
   "source": [
    "df.pivot_table(index='city', columns='status', values='age', aggfunc='mean', margins=True).round(2)"
   ]
  },
  {
   "cell_type": "code",
   "execution_count": null,
   "id": "55b318dc-5a0b-4e39-b320-a5e61026482b",
   "metadata": {},
   "outputs": [],
   "source": []
  }
 ],
 "metadata": {
  "kernelspec": {
   "display_name": "Python 3 (ipykernel)",
   "language": "python",
   "name": "python3"
  },
  "language_info": {
   "codemirror_mode": {
    "name": "ipython",
    "version": 3
   },
   "file_extension": ".py",
   "mimetype": "text/x-python",
   "name": "python",
   "nbconvert_exporter": "python",
   "pygments_lexer": "ipython3",
   "version": "3.12.3"
  }
 },
 "nbformat": 4,
 "nbformat_minor": 5
}
